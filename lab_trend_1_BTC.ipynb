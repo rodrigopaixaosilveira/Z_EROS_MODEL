{
 "cells": [
  {
   "cell_type": "code",
   "execution_count": 142,
   "id": "0a8c72b1",
   "metadata": {},
   "outputs": [],
   "source": [
    "import numpy as np\n",
    "import pandas as pd\n",
    "from arch import arch_model\n",
    "from hurst import compute_Hc\n",
    "import plotly.graph_objects as go\n",
    "from plotly.subplots import make_subplots\n",
    "import numpy as np\n",
    "import MetaTrader5 as mt5\n",
    "import matplotlib.pyplot  as plt\n",
    "\n",
    "import pandas as pd\n",
    "import numpy as np\n",
    "import matplotlib.pyplot as plt\n",
    "from scipy.signal import find_peaks\n",
    "from sklearn.linear_model import LinearRegression\n",
    "\n",
    "from scipy.signal import find_peaks\n",
    "from scipy.interpolate import interp1d\n",
    "\n",
    "\n",
    "import hurst as hs\n"
   ]
  },
  {
   "cell_type": "code",
   "execution_count": 143,
   "id": "789472dd",
   "metadata": {},
   "outputs": [],
   "source": [
    "def obter_dados(symbol, n_barras=10000):\n",
    "\n",
    "    # Inicializa o MT5\n",
    "    if not mt5.initialize():\n",
    "        print(\"Falha ao inicializar MT5\")\n",
    "        mt5.shutdown()\n",
    "    else:\n",
    "        print(\"MT5 inicializado com sucesso\")\n",
    "\n",
    "    rates = mt5.copy_rates_from_pos(symbol, mt5.TIMEFRAME_M15, 0, n_barras)\n",
    "    df = pd.DataFrame(rates)\n",
    "    df['Date'] = pd.to_datetime(df['time'], unit='s')\n",
    "    df.rename(columns={'open': 'Open', 'high': 'High', 'low': 'Low', 'close': 'Close'}, inplace=True)\n",
    "    df = df[['Date','Open','High','Low','Close']]\n",
    "    return df\n",
    "\n",
    "def calculate_garch_bands(df):\n",
    "    \"\"\"\n",
    "    Calcula bandas GARCH(1,1) SEM lookahead:\n",
    "    - Retornos logarítmicos\n",
    "    - Volatilidade GARCH até o final do dia anterior\n",
    "    - Bandas diárias fixadas em 2 e 4 desvios\n",
    "    \n",
    "    Parâmetros:\n",
    "    df : pd.DataFrame\n",
    "        DataFrame com colunas 'Date' e 'Close'.\n",
    "        \n",
    "    Retorna:\n",
    "    pd.DataFrame\n",
    "        DataFrame com colunas adicionais:\n",
    "        - Log_Returns\n",
    "        - reference_price\n",
    "        - daily_vol_garch\n",
    "        - upper_garch_1d_2d, upper_garch_1d_4d\n",
    "        - lower_garch_1d_2d, lower_garch_1d_4d\n",
    "        - garch_mid_d\n",
    "    \"\"\"\n",
    "    \n",
    "    df = df.copy()\n",
    "    \n",
    "    # Converter data e calcular retornos logarítmicos\n",
    "    df['time'] = pd.to_datetime(df['time'])\n",
    "    df['Log_Returns'] = np.log(df['close'] / df['close'].shift(1))\n",
    "    df.dropna(inplace=True)\n",
    "    df['Day'] = df['time'].dt.to_period('D')\n",
    "    \n",
    "    # Lista de dias\n",
    "    days = sorted(df['Day'].unique())\n",
    "    \n",
    "    all_bands = []\n",
    "    \n",
    "    for i, day in enumerate(days):\n",
    "        if i == 0:\n",
    "            continue  # Primeiro dia não tem referência anterior\n",
    "        \n",
    "        # Subconjunto até o final do dia anterior\n",
    "        subset = df[df['Day'] <= days[i-1]]\n",
    "        \n",
    "        # Ajusta GARCH até o dia anterior\n",
    "        garch_model = arch_model(subset['Log_Returns'] * 100, vol='Garch', p=1, q=1, dist='Normal')\n",
    "        garch_result = garch_model.fit(disp=\"off\")\n",
    "        \n",
    "        # Volatilidade condicional do último candle do dia anterior\n",
    "        vol_last = garch_result.conditional_volatility.iloc[-1] / 100\n",
    "        \n",
    "        # Preço de fechamento do dia anterior\n",
    "        ref_price = subset[subset['Day'] == days[i-1]]['close'].iloc[-1]\n",
    "        \n",
    "        # Cria bandas para todos os candles do dia atual\n",
    "        day_data = df[df['Day'] == day].copy()\n",
    "        day_data['reference_price_d'] = ref_price\n",
    "        day_data['daily_vol_garch'] = vol_last\n",
    "        \n",
    "        for d in [2, 4]:\n",
    "            day_data[f'upper_garch_1d_{d}d'] = (1 + d * vol_last) * ref_price\n",
    "            day_data[f'lower_garch_1d_{d}d'] = (1 - d * vol_last) * ref_price\n",
    "        \n",
    "        day_data['garch_mid_d'] = (day_data['upper_garch_1d_2d'] + day_data['lower_garch_1d_2d']) / 2\n",
    "        \n",
    "        all_bands.append(day_data)\n",
    "    \n",
    "    # Concatenar resultados\n",
    "    result = pd.concat(all_bands)\n",
    "   # result.set_index(\"time\", inplace=True)\n",
    "    \n",
    "    return result\n",
    "\n",
    "def calculate_garch_bands_weekly(df):\n",
    "    \"\"\"\n",
    "    Calcula bandas GARCH(1,1) SEM lookahead:\n",
    "    - Retornos logarítmicos\n",
    "    - Volatilidade GARCH até o final da semana anterior\n",
    "    - Bandas semanais fixadas em 2 e 4 desvios\n",
    "    \n",
    "    Parâmetros:\n",
    "    df : pd.DataFrame\n",
    "        DataFrame com colunas 'Date' e 'Close'.\n",
    "        \n",
    "    Retorna:\n",
    "    pd.DataFrame\n",
    "        DataFrame com colunas adicionais:\n",
    "        - Log_Returns\n",
    "        - reference_price\n",
    "        - weekly_vol_garch\n",
    "        - upper_garch_1w_2d, upper_garch_1w_4d\n",
    "        - lower_garch_1w_2d, lower_garch_1w_4d\n",
    "        - garch_mid_w\n",
    "    \"\"\"\n",
    "    df = df.copy()\n",
    "    \n",
    "    # Converter datas e calcular retornos\n",
    "    df['time'] = pd.to_datetime(df['time'])\n",
    "    df['Log_Returns'] = np.log(df['close'] / df['close'].shift(1))\n",
    "    df.dropna(inplace=True)\n",
    "    df['Week'] = df['time'].dt.to_period('W')  # Agrupamento semanal\n",
    "    \n",
    "    # Lista de semanas\n",
    "    weeks = sorted(df['Week'].unique())\n",
    "    \n",
    "    all_bands = []\n",
    "    \n",
    "    for i, week in enumerate(weeks):\n",
    "        if i == 0:\n",
    "            continue  # Primeira semana não tem referência anterior\n",
    "        \n",
    "        # Subconjunto até o fim da semana anterior\n",
    "        subset = df[df['Week'] <= weeks[i-1]]\n",
    "        \n",
    "        # Ajusta GARCH até semana anterior\n",
    "        garch_model = arch_model(subset['Log_Returns'] * 100, vol='Garch', p=1, q=1, dist='Normal')\n",
    "        garch_result = garch_model.fit(disp=\"off\")\n",
    "        \n",
    "        # Volatilidade condicional do último candle da semana anterior\n",
    "        vol_last = garch_result.conditional_volatility.iloc[-1] / 100\n",
    "        \n",
    "        # Preço de fechamento do último candle da semana anterior\n",
    "        ref_price = subset[subset['Week'] == weeks[i-1]]['close'].iloc[-1]\n",
    "        \n",
    "        # Cria bandas para todos os candles da semana atual\n",
    "        week_data = df[df['Week'] == week].copy()\n",
    "        week_data['reference_price_w'] = ref_price\n",
    "        week_data['weekly_vol_garch'] = vol_last\n",
    "        \n",
    "        for d in [2, 4, 6]:\n",
    "            week_data[f'upper_garch_1w_{d}d'] = (1 + d * vol_last) * ref_price\n",
    "            week_data[f'lower_garch_1w_{d}d'] = (1 - d * vol_last) * ref_price\n",
    "        \n",
    "        week_data['garch_mid_w'] = (week_data['upper_garch_1w_2d'] + week_data['lower_garch_1w_2d']) / 2\n",
    "        \n",
    "        all_bands.append(week_data)\n",
    "    \n",
    "    # Concatenar resultados\n",
    "    result = pd.concat(all_bands)    \n",
    "    return result\n",
    "\n",
    "def Calculate_Hurst(df, var, window_size, ser_type):\n",
    "    \"\"\"\n",
    "    Calculates the hurst exponent for the var:variable in df:dataset for given rolling window size\n",
    "    ser_type: gives the type of series. It can be of three types:\n",
    "        'change':      a series is just random values (i.e. np.random.randn(...))\n",
    "        'random_walk': a series is a cumulative sum of changes (i.e. np.cumsum(np.random.randn(...)))\n",
    "        'price':       a series is a cumulative product of changes (i.e. np.cumprod(1+epsilon*np.random.randn(...))\n",
    "    \"\"\"\n",
    "    hurst = [np.nan] * (window_size-1)\n",
    "    var_values = list(df[var])\n",
    "    for i in range(0, len(var_values)-(window_size-1)):\n",
    "        H, c, data = hs.compute_Hc(var_values[i:i+window_size], kind=ser_type, simplified=True)\n",
    "        hurst.append(H)\n",
    "    df['hurst_'+str(window_size)] = hurst\n",
    "    return df"
   ]
  },
  {
   "cell_type": "code",
   "execution_count": 206,
   "id": "81743f0a",
   "metadata": {},
   "outputs": [],
   "source": [
    "df_all = pd.read_csv('datasets/df_all.csv')\n",
    "df_all = df_all.rename(columns={\"Date\": \"time\"})\n",
    "df_all['time'] = pd.to_datetime(df_all['time'])"
   ]
  },
  {
   "cell_type": "code",
   "execution_count": 207,
   "id": "919c74a6",
   "metadata": {},
   "outputs": [
    {
     "data": {
      "text/plain": [
       "array(['ABEV3', 'ASAI3', 'B3SA3', 'BBSE3', 'BBDC3', 'BBDC4', 'BBAS3',\n",
       "       'BRAV3', 'BPAC11', 'CMIG4', 'COGN3', 'CPLE6', 'CSAN3', 'CYRE3',\n",
       "       'ELET3', 'EMBR3', 'ENGI11', 'ENEV3', 'EQTL3', 'GGBR4', 'HAPV3',\n",
       "       'HYPE3', 'ITSA4', 'ITUB4', 'KLBN11', 'RENT3', 'LREN3', 'MGLU3',\n",
       "       'POMO4', 'MBRF3', 'MOTV3', 'MULT3', 'NATU3', 'PETR3', 'PETR4',\n",
       "       'PRIO3', 'RADL3', 'RDOR3', 'RAIL3', 'SBSP3', 'CSNA3', 'SUZB3',\n",
       "       'VIVT3', 'TIMS3', 'TOTS3', 'UGPA3', 'VALE3', 'VBBR3', 'WEGE3'],\n",
       "      dtype=object)"
      ]
     },
     "execution_count": 207,
     "metadata": {},
     "output_type": "execute_result"
    }
   ],
   "source": [
    "df_all.ticker.unique()"
   ]
  },
  {
   "cell_type": "code",
   "execution_count": 208,
   "id": "d6d1fb01",
   "metadata": {},
   "outputs": [],
   "source": [
    "df1 = df_all[df_all[\"ticker\"] == \"VALE3\"]\n",
    "df1 = df1.dropna()\n",
    "df1.drop('ticker',axis=1,inplace=True)\n",
    "df1.reset_index(drop=True, inplace=True)"
   ]
  },
  {
   "cell_type": "code",
   "execution_count": null,
   "id": "7d40d2a8",
   "metadata": {},
   "outputs": [],
   "source": [
    "'''df1 = pd.read_csv('datasets/BTCUSDT_1D_BINANCE_FUTURES.csv')\n",
    "df1.drop(['Unnamed: 0', 'close_time', 'open_time'], axis=1, inplace=True)\n",
    "df1.time = pd.to_datetime(df1.time)'''"
   ]
  },
  {
   "cell_type": "markdown",
   "id": "f73aaef6",
   "metadata": {},
   "source": [
    "## Target"
   ]
  },
  {
   "cell_type": "code",
   "execution_count": 244,
   "id": "b2f405e8",
   "metadata": {},
   "outputs": [],
   "source": [
    "df = df1.copy()\n",
    "#df = df.tail(1000)\n",
    "df.reset_index(drop=True, inplace=True)"
   ]
  },
  {
   "cell_type": "code",
   "execution_count": 245,
   "id": "782d1f53",
   "metadata": {},
   "outputs": [
    {
     "data": {
      "text/html": [
       "<div>\n",
       "<style scoped>\n",
       "    .dataframe tbody tr th:only-of-type {\n",
       "        vertical-align: middle;\n",
       "    }\n",
       "\n",
       "    .dataframe tbody tr th {\n",
       "        vertical-align: top;\n",
       "    }\n",
       "\n",
       "    .dataframe thead th {\n",
       "        text-align: right;\n",
       "    }\n",
       "</style>\n",
       "<table border=\"1\" class=\"dataframe\">\n",
       "  <thead>\n",
       "    <tr style=\"text-align: right;\">\n",
       "      <th></th>\n",
       "      <th>open</th>\n",
       "      <th>high</th>\n",
       "      <th>low</th>\n",
       "      <th>close</th>\n",
       "      <th>volume</th>\n",
       "      <th>quote_volume</th>\n",
       "      <th>count</th>\n",
       "      <th>taker_buy_volume</th>\n",
       "      <th>taker_buy_quote_volume</th>\n",
       "      <th>time</th>\n",
       "    </tr>\n",
       "  </thead>\n",
       "  <tbody>\n",
       "    <tr>\n",
       "      <th>0</th>\n",
       "      <td>7189.43</td>\n",
       "      <td>7260.43</td>\n",
       "      <td>7170.15</td>\n",
       "      <td>7197.57</td>\n",
       "      <td>56801.329</td>\n",
       "      <td>4.096788e+08</td>\n",
       "      <td>101871</td>\n",
       "      <td>28834.200</td>\n",
       "      <td>2.080020e+08</td>\n",
       "      <td>2020-01-01</td>\n",
       "    </tr>\n",
       "    <tr>\n",
       "      <th>1</th>\n",
       "      <td>7197.57</td>\n",
       "      <td>7209.59</td>\n",
       "      <td>6922.00</td>\n",
       "      <td>6962.04</td>\n",
       "      <td>115295.677</td>\n",
       "      <td>8.156278e+08</td>\n",
       "      <td>224747</td>\n",
       "      <td>55404.262</td>\n",
       "      <td>3.919117e+08</td>\n",
       "      <td>2020-01-02</td>\n",
       "    </tr>\n",
       "    <tr>\n",
       "      <th>2</th>\n",
       "      <td>6962.34</td>\n",
       "      <td>7407.28</td>\n",
       "      <td>6863.44</td>\n",
       "      <td>7341.72</td>\n",
       "      <td>208493.458</td>\n",
       "      <td>1.507314e+09</td>\n",
       "      <td>409820</td>\n",
       "      <td>107485.965</td>\n",
       "      <td>7.770568e+08</td>\n",
       "      <td>2020-01-03</td>\n",
       "    </tr>\n",
       "    <tr>\n",
       "      <th>3</th>\n",
       "      <td>7341.60</td>\n",
       "      <td>7400.00</td>\n",
       "      <td>7269.21</td>\n",
       "      <td>7350.71</td>\n",
       "      <td>92586.033</td>\n",
       "      <td>6.784024e+08</td>\n",
       "      <td>186349</td>\n",
       "      <td>46139.090</td>\n",
       "      <td>3.381396e+08</td>\n",
       "      <td>2020-01-04</td>\n",
       "    </tr>\n",
       "    <tr>\n",
       "      <th>4</th>\n",
       "      <td>7350.54</td>\n",
       "      <td>7495.00</td>\n",
       "      <td>7303.00</td>\n",
       "      <td>7354.36</td>\n",
       "      <td>117765.972</td>\n",
       "      <td>8.744885e+08</td>\n",
       "      <td>238905</td>\n",
       "      <td>58447.543</td>\n",
       "      <td>4.341202e+08</td>\n",
       "      <td>2020-01-05</td>\n",
       "    </tr>\n",
       "    <tr>\n",
       "      <th>...</th>\n",
       "      <td>...</td>\n",
       "      <td>...</td>\n",
       "      <td>...</td>\n",
       "      <td>...</td>\n",
       "      <td>...</td>\n",
       "      <td>...</td>\n",
       "      <td>...</td>\n",
       "      <td>...</td>\n",
       "      <td>...</td>\n",
       "      <td>...</td>\n",
       "    </tr>\n",
       "    <tr>\n",
       "      <th>2065</th>\n",
       "      <td>111710.00</td>\n",
       "      <td>112568.50</td>\n",
       "      <td>110306.90</td>\n",
       "      <td>111194.90</td>\n",
       "      <td>114205.122</td>\n",
       "      <td>1.273924e+10</td>\n",
       "      <td>2613099</td>\n",
       "      <td>57009.686</td>\n",
       "      <td>6.360193e+09</td>\n",
       "      <td>2025-08-27</td>\n",
       "    </tr>\n",
       "    <tr>\n",
       "      <th>2066</th>\n",
       "      <td>111194.90</td>\n",
       "      <td>113429.00</td>\n",
       "      <td>110811.00</td>\n",
       "      <td>112507.30</td>\n",
       "      <td>97630.277</td>\n",
       "      <td>1.098862e+10</td>\n",
       "      <td>2252826</td>\n",
       "      <td>48243.477</td>\n",
       "      <td>5.429943e+09</td>\n",
       "      <td>2025-08-28</td>\n",
       "    </tr>\n",
       "    <tr>\n",
       "      <th>2067</th>\n",
       "      <td>112507.30</td>\n",
       "      <td>112585.70</td>\n",
       "      <td>107411.40</td>\n",
       "      <td>108332.40</td>\n",
       "      <td>179725.172</td>\n",
       "      <td>1.968867e+10</td>\n",
       "      <td>3720115</td>\n",
       "      <td>85606.138</td>\n",
       "      <td>9.377659e+09</td>\n",
       "      <td>2025-08-29</td>\n",
       "    </tr>\n",
       "    <tr>\n",
       "      <th>2068</th>\n",
       "      <td>108332.40</td>\n",
       "      <td>108879.60</td>\n",
       "      <td>107281.00</td>\n",
       "      <td>108757.90</td>\n",
       "      <td>60656.883</td>\n",
       "      <td>6.572710e+09</td>\n",
       "      <td>1397811</td>\n",
       "      <td>29582.419</td>\n",
       "      <td>3.205458e+09</td>\n",
       "      <td>2025-08-30</td>\n",
       "    </tr>\n",
       "    <tr>\n",
       "      <th>2069</th>\n",
       "      <td>108758.00</td>\n",
       "      <td>109439.90</td>\n",
       "      <td>108021.00</td>\n",
       "      <td>108208.40</td>\n",
       "      <td>70149.546</td>\n",
       "      <td>7.626942e+09</td>\n",
       "      <td>1474441</td>\n",
       "      <td>35849.920</td>\n",
       "      <td>3.897679e+09</td>\n",
       "      <td>2025-08-31</td>\n",
       "    </tr>\n",
       "  </tbody>\n",
       "</table>\n",
       "<p>2070 rows × 10 columns</p>\n",
       "</div>"
      ],
      "text/plain": [
       "           open       high        low      close      volume  quote_volume  \\\n",
       "0       7189.43    7260.43    7170.15    7197.57   56801.329  4.096788e+08   \n",
       "1       7197.57    7209.59    6922.00    6962.04  115295.677  8.156278e+08   \n",
       "2       6962.34    7407.28    6863.44    7341.72  208493.458  1.507314e+09   \n",
       "3       7341.60    7400.00    7269.21    7350.71   92586.033  6.784024e+08   \n",
       "4       7350.54    7495.00    7303.00    7354.36  117765.972  8.744885e+08   \n",
       "...         ...        ...        ...        ...         ...           ...   \n",
       "2065  111710.00  112568.50  110306.90  111194.90  114205.122  1.273924e+10   \n",
       "2066  111194.90  113429.00  110811.00  112507.30   97630.277  1.098862e+10   \n",
       "2067  112507.30  112585.70  107411.40  108332.40  179725.172  1.968867e+10   \n",
       "2068  108332.40  108879.60  107281.00  108757.90   60656.883  6.572710e+09   \n",
       "2069  108758.00  109439.90  108021.00  108208.40   70149.546  7.626942e+09   \n",
       "\n",
       "        count  taker_buy_volume  taker_buy_quote_volume       time  \n",
       "0      101871         28834.200            2.080020e+08 2020-01-01  \n",
       "1      224747         55404.262            3.919117e+08 2020-01-02  \n",
       "2      409820        107485.965            7.770568e+08 2020-01-03  \n",
       "3      186349         46139.090            3.381396e+08 2020-01-04  \n",
       "4      238905         58447.543            4.341202e+08 2020-01-05  \n",
       "...       ...               ...                     ...        ...  \n",
       "2065  2613099         57009.686            6.360193e+09 2025-08-27  \n",
       "2066  2252826         48243.477            5.429943e+09 2025-08-28  \n",
       "2067  3720115         85606.138            9.377659e+09 2025-08-29  \n",
       "2068  1397811         29582.419            3.205458e+09 2025-08-30  \n",
       "2069  1474441         35849.920            3.897679e+09 2025-08-31  \n",
       "\n",
       "[2070 rows x 10 columns]"
      ]
     },
     "execution_count": 245,
     "metadata": {},
     "output_type": "execute_result"
    }
   ],
   "source": [
    "df"
   ]
  },
  {
   "cell_type": "code",
   "execution_count": 246,
   "id": "4c1e0631",
   "metadata": {},
   "outputs": [],
   "source": [
    "peak_value = 1\n",
    "threshold_pct = 1\n",
    "\n",
    "peak_value_ = 30\n",
    "threshold_pct_ = 1"
   ]
  },
  {
   "cell_type": "code",
   "execution_count": 247,
   "id": "81a7c8f7",
   "metadata": {},
   "outputs": [
    {
     "data": {
      "text/plain": [
       "'# CRIAÇÃO DA TARGET\\n\\n\\npeak_value = 1\\nthreshold_pct = 1\\n\\npeak_value_ = 30\\nthreshold_pct_ = 30\\n\\n\\n\\n# CRIANDO PEAKS\\npeaks = None\\ntroughs = None\\nx_peaks = None\\ny_peaks = None\\nx_troughs = None\\ny_troughs = None\\n\\ndf[\\'peaks\\'] = np.nan\\ndf[\\'troughs\\'] = np.nan\\n\\n# Identificar topos e fundos\\npeaks, _ = find_peaks(df[\\'close\\'], distance=peak_value)\\ntroughs, _ = find_peaks(-df[\\'close\\'], distance=peak_value)\\n\\n# Preencher valores reais nos pontos\\ndf.loc[peaks, \\'peaks\\'] = df[\\'close\\'].iloc[peaks]\\ndf.loc[troughs, \\'troughs\\'] = df[\\'close\\'].iloc[troughs]\\n\\n# Interpolação linear entre os picos\\nif len(peaks) > 1:\\n    f_peaks = interp1d(peaks, df[\\'close\\'].iloc[peaks], kind=\\'linear\\', fill_value=\"extrapolate\")\\n    df[\\'peaks\\'] = f_peaks(np.arange(len(df)))\\nelse:\\n    # Apenas um pico, preenche com ele\\n    df[\\'peaks\\'] = df[\\'close\\'].iloc[peaks[0]]\\n\\n# Interpolação linear entre os fundos\\nif len(troughs) > 1:\\n    f_troughs = interp1d(troughs, df[\\'close\\'].iloc[troughs], kind=\\'linear\\', fill_value=\"extrapolate\")\\n    df[\\'troughs\\'] = f_troughs(np.arange(len(df)))\\nelse:\\n    df[\\'troughs\\'] = df[\\'close\\'].iloc[troughs[0]]\\n\\n\\n# INDICADOR INCLINAÇÃO\\ndf[\\'pct_peaks\\'] = df.peaks.pct_change() * 10000\\ndf[\\'pct_troughs\\'] = df.troughs.pct_change() * 10000\\n\\n\\n\\n# TARGET\\ndf[\\'target\\'] = np.where(\\n    (df[\\'pct_peaks\\'] >= threshold_pct) & (df[\\'pct_troughs\\'] >= threshold_pct),  # condição de alta\\n    1,\\n    np.where(\\n        (df[\\'pct_peaks\\'] <= -threshold_pct) & (df[\\'pct_troughs\\'] <= -threshold_pct),  # condição de baixa\\n        -1,\\n        0  # neutra\\n    )\\n)\\n'"
      ]
     },
     "execution_count": 247,
     "metadata": {},
     "output_type": "execute_result"
    }
   ],
   "source": [
    "'''# CRIAÇÃO DA TARGET\n",
    "\n",
    "\n",
    "peak_value = 1\n",
    "threshold_pct = 1\n",
    "\n",
    "peak_value_ = 30\n",
    "threshold_pct_ = 30\n",
    "\n",
    "\n",
    "\n",
    "# CRIANDO PEAKS\n",
    "peaks = None\n",
    "troughs = None\n",
    "x_peaks = None\n",
    "y_peaks = None\n",
    "x_troughs = None\n",
    "y_troughs = None\n",
    "\n",
    "df['peaks'] = np.nan\n",
    "df['troughs'] = np.nan\n",
    "\n",
    "# Identificar topos e fundos\n",
    "peaks, _ = find_peaks(df['close'], distance=peak_value)\n",
    "troughs, _ = find_peaks(-df['close'], distance=peak_value)\n",
    "\n",
    "# Preencher valores reais nos pontos\n",
    "df.loc[peaks, 'peaks'] = df['close'].iloc[peaks]\n",
    "df.loc[troughs, 'troughs'] = df['close'].iloc[troughs]\n",
    "\n",
    "# Interpolação linear entre os picos\n",
    "if len(peaks) > 1:\n",
    "    f_peaks = interp1d(peaks, df['close'].iloc[peaks], kind='linear', fill_value=\"extrapolate\")\n",
    "    df['peaks'] = f_peaks(np.arange(len(df)))\n",
    "else:\n",
    "    # Apenas um pico, preenche com ele\n",
    "    df['peaks'] = df['close'].iloc[peaks[0]]\n",
    "\n",
    "# Interpolação linear entre os fundos\n",
    "if len(troughs) > 1:\n",
    "    f_troughs = interp1d(troughs, df['close'].iloc[troughs], kind='linear', fill_value=\"extrapolate\")\n",
    "    df['troughs'] = f_troughs(np.arange(len(df)))\n",
    "else:\n",
    "    df['troughs'] = df['close'].iloc[troughs[0]]\n",
    "\n",
    "\n",
    "# INDICADOR INCLINAÇÃO\n",
    "df['pct_peaks'] = df.peaks.pct_change() * 10000\n",
    "df['pct_troughs'] = df.troughs.pct_change() * 10000\n",
    "\n",
    "\n",
    "\n",
    "# TARGET\n",
    "df['target'] = np.where(\n",
    "    (df['pct_peaks'] >= threshold_pct) & (df['pct_troughs'] >= threshold_pct),  # condição de alta\n",
    "    1,\n",
    "    np.where(\n",
    "        (df['pct_peaks'] <= -threshold_pct) & (df['pct_troughs'] <= -threshold_pct),  # condição de baixa\n",
    "        -1,\n",
    "        0  # neutra\n",
    "    )\n",
    ")\n",
    "'''"
   ]
  },
  {
   "cell_type": "code",
   "execution_count": 248,
   "id": "283fd20f",
   "metadata": {},
   "outputs": [],
   "source": [
    "# --- FUNÇÃO PARA CALCULAR TARGET ---\n",
    "def compute_target(df, peak_value, threshold_pct):\n",
    "    df = df.copy()\n",
    "    \n",
    "    # Inicializa colunas temporárias\n",
    "    df['peaks_temp'] = np.nan\n",
    "    df['troughs_temp'] = np.nan\n",
    "    \n",
    "    # Identificar topos e fundos\n",
    "    peaks, _ = find_peaks(df['close'], distance=peak_value)\n",
    "    troughs, _ = find_peaks(-df['close'], distance=peak_value)\n",
    "    \n",
    "    # Preencher valores reais\n",
    "    df.loc[peaks, 'peaks_temp'] = df['close'].iloc[peaks]\n",
    "    df.loc[troughs, 'troughs_temp'] = df['close'].iloc[troughs]\n",
    "    \n",
    "    # Interpolação linear\n",
    "    if len(peaks) > 1:\n",
    "        f_peaks = interp1d(peaks, df['close'].iloc[peaks], kind='linear', fill_value=\"extrapolate\")\n",
    "        df['peaks_temp'] = f_peaks(np.arange(len(df)))\n",
    "    else:\n",
    "        df['peaks_temp'] = df['close'].iloc[peaks[0]]\n",
    "    \n",
    "    if len(troughs) > 1:\n",
    "        f_troughs = interp1d(troughs, df['close'].iloc[troughs], kind='linear', fill_value=\"extrapolate\")\n",
    "        df['troughs_temp'] = f_troughs(np.arange(len(df)))\n",
    "    else:\n",
    "        df['troughs_temp'] = df['close'].iloc[troughs[0]]\n",
    "    \n",
    "    # Inclinação\n",
    "    pct_peaks = df['peaks_temp'].pct_change() * 10000\n",
    "    pct_troughs = df['troughs_temp'].pct_change() * 10000\n",
    "    \n",
    "    # Target\n",
    "    target = np.where(\n",
    "        (pct_peaks >= threshold_pct) & (pct_troughs >= threshold_pct),\n",
    "        1,\n",
    "        np.where(\n",
    "            (pct_peaks <= -threshold_pct) & (pct_troughs <= -threshold_pct),\n",
    "            -1,\n",
    "            0\n",
    "        )\n",
    "    )\n",
    "    \n",
    "    return target\n",
    "\n",
    "# --- CRIAR target_ (original) ---\n",
    "df['target_'] = compute_target(df, peak_value, threshold_pct)\n",
    "\n",
    "# --- CRIAR target_1 (com novos parâmetros) ---\n",
    "df['target_1'] = compute_target(df, peak_value_, threshold_pct_)\n",
    "\n",
    "# --- CRIAR TARGET FINAL ---\n",
    "def combine_targets(t1, t2):\n",
    "    combined = []\n",
    "    for a, b in zip(t1, t2):\n",
    "        # Se ambos iguais\n",
    "        if a == b:\n",
    "            combined.append(a)\n",
    "        # Se um é 1 e o outro 0 ou vice-versa\n",
    "        elif (a == 1 and b == 0) or (a == 0 and b == 1):\n",
    "            combined.append(1)\n",
    "        elif (a == -1 and b == 0) or (a == 0 and b == -1):\n",
    "            combined.append(-1)\n",
    "        # Se conflitantes 1 e -1, predomina target_\n",
    "        else:\n",
    "            combined.append(a)\n",
    "    return combined\n",
    "\n",
    "df['target'] = combine_targets(df['target_'], df['target_1'])"
   ]
  },
  {
   "cell_type": "code",
   "execution_count": 249,
   "id": "137baeed",
   "metadata": {},
   "outputs": [
    {
     "data": {
      "application/vnd.plotly.v1+json": {
       "config": {
        "plotlyServerURL": "https://plot.ly"
       },
       "data": [
        {
         "line": {
          "color": "black"
         },
         "mode": "lines",
         "showlegend": false,
         "type": "scatter",
         "x": [
          "2020-01-01T00:00:00"
         ],
         "y": [
          7197.57
         ]
        },
        {
         "line": {
          "color": "green"
         },
         "mode": "lines",
         "showlegend": false,
         "type": "scatter",
         "x": [
          "2020-01-02T00:00:00",
          "2020-01-03T00:00:00",
          "2020-01-04T00:00:00",
          "2020-01-05T00:00:00",
          "2020-01-06T00:00:00",
          "2020-01-07T00:00:00",
          "2020-01-08T00:00:00",
          "2020-01-09T00:00:00",
          "2020-01-10T00:00:00",
          "2020-01-11T00:00:00",
          "2020-01-12T00:00:00",
          "2020-01-13T00:00:00",
          "2020-01-14T00:00:00",
          "2020-01-15T00:00:00",
          "2020-01-16T00:00:00",
          "2020-01-17T00:00:00",
          "2020-01-18T00:00:00"
         ],
         "y": [
          6962.04,
          7341.72,
          7350.71,
          7354.36,
          7757.39,
          8152.49,
          8059.84,
          7818.59,
          8207.09,
          8020.56,
          8186.7,
          8113,
          8825,
          8825.3,
          8725.08,
          8918.72,
          8925
         ]
        },
        {
         "line": {
          "color": "red"
         },
         "mode": "lines",
         "showlegend": false,
         "type": "scatter",
         "x": [
          "2020-01-19T00:00:00",
          "2020-01-20T00:00:00",
          "2020-01-21T00:00:00",
          "2020-01-22T00:00:00",
          "2020-01-23T00:00:00",
          "2020-01-24T00:00:00"
         ],
         "y": [
          8705.85,
          8650,
          8742.43,
          8684.57,
          8409.6,
          8441.96
         ]
        },
        {
         "line": {
          "color": "green"
         },
         "mode": "lines",
         "showlegend": false,
         "type": "scatter",
         "x": [
          "2020-01-25T00:00:00",
          "2020-01-26T00:00:00",
          "2020-01-27T00:00:00",
          "2020-01-28T00:00:00",
          "2020-01-29T00:00:00",
          "2020-01-30T00:00:00",
          "2020-01-31T00:00:00"
         ],
         "y": [
          8344.64,
          8611.21,
          8913.61,
          9398.98,
          9311,
          9525.67,
          9364.51
         ]
        },
        {
         "line": {
          "color": "red"
         },
         "mode": "lines",
         "showlegend": false,
         "type": "scatter",
         "x": [
          "2020-02-01T00:00:00"
         ],
         "y": [
          9392.74
         ]
        },
        {
         "line": {
          "color": "green"
         },
         "mode": "lines",
         "showlegend": false,
         "type": "scatter",
         "x": [
          "2020-02-02T00:00:00",
          "2020-02-03T00:00:00",
          "2020-02-04T00:00:00",
          "2020-02-05T00:00:00",
          "2020-02-06T00:00:00",
          "2020-02-07T00:00:00",
          "2020-02-08T00:00:00",
          "2020-02-09T00:00:00",
          "2020-02-10T00:00:00",
          "2020-02-11T00:00:00",
          "2020-02-12T00:00:00",
          "2020-02-13T00:00:00"
         ],
         "y": [
          9338.2,
          9300.64,
          9198.35,
          9630,
          9778.12,
          9821.52,
          9906.43,
          10167.38,
          9865.56,
          10229.06,
          10339.99,
          10239.63
         ]
        },
        {
         "line": {
          "color": "black"
         },
         "mode": "lines",
         "showlegend": false,
         "type": "scatter",
         "x": [
          "2020-02-14T00:00:00"
         ],
         "y": [
          10356.82
         ]
        },
        {
         "line": {
          "color": "red"
         },
         "mode": "lines",
         "showlegend": false,
         "type": "scatter",
         "x": [
          "2020-02-15T00:00:00",
          "2020-02-16T00:00:00",
          "2020-02-17T00:00:00",
          "2020-02-18T00:00:00",
          "2020-02-19T00:00:00",
          "2020-02-20T00:00:00",
          "2020-02-21T00:00:00"
         ],
         "y": [
          9914.99,
          9921.86,
          9716,
          10174.32,
          9593.65,
          9601.99,
          9681.39
         ]
        },
        {
         "line": {
          "color": "green"
         },
         "mode": "lines",
         "showlegend": false,
         "type": "scatter",
         "x": [
          "2020-02-22T00:00:00"
         ],
         "y": [
          9659.2
         ]
        },
        {
         "line": {
          "color": "red"
         },
         "mode": "lines",
         "showlegend": false,
         "type": "scatter",
         "x": [
          "2020-02-23T00:00:00",
          "2020-02-24T00:00:00",
          "2020-02-25T00:00:00",
          "2020-02-26T00:00:00",
          "2020-02-27T00:00:00",
          "2020-02-28T00:00:00",
          "2020-02-29T00:00:00"
         ],
         "y": [
          9943.12,
          9662.95,
          9326,
          8792.22,
          8828,
          8699.57,
          8531.98
         ]
        },
        {
         "line": {
          "color": "green"
         },
         "mode": "lines",
         "showlegend": false,
         "type": "scatter",
         "x": [
          "2020-03-01T00:00:00",
          "2020-03-02T00:00:00",
          "2020-03-03T00:00:00",
          "2020-03-04T00:00:00"
         ],
         "y": [
          8537.84,
          8919.7,
          8765,
          8756.93
         ]
        },
        {
         "line": {
          "color": "red"
         },
         "mode": "lines",
         "showlegend": false,
         "type": "scatter",
         "x": [
          "2020-03-05T00:00:00",
          "2020-03-06T00:00:00",
          "2020-03-07T00:00:00",
          "2020-03-08T00:00:00",
          "2020-03-09T00:00:00",
          "2020-03-10T00:00:00",
          "2020-03-11T00:00:00",
          "2020-03-12T00:00:00"
         ],
         "y": [
          9062.81,
          9139.48,
          8897.18,
          8038.46,
          7932.15,
          7897.66,
          7938.39,
          4764.65
         ]
        },
        {
         "line": {
          "color": "black"
         },
         "mode": "lines",
         "showlegend": false,
         "type": "scatter",
         "x": [
          "2020-03-13T00:00:00",
          "2020-03-14T00:00:00"
         ],
         "y": [
          5570.26,
          5167.01
         ]
        },
        {
         "line": {
          "color": "red"
         },
         "mode": "lines",
         "showlegend": false,
         "type": "scatter",
         "x": [
          "2020-03-15T00:00:00"
         ],
         "y": [
          5357.32
         ]
        },
        {
         "line": {
          "color": "black"
         },
         "mode": "lines",
         "showlegend": false,
         "type": "scatter",
         "x": [
          "2020-03-16T00:00:00"
         ],
         "y": [
          5026.26
         ]
        },
        {
         "line": {
          "color": "green"
         },
         "mode": "lines",
         "showlegend": false,
         "type": "scatter",
         "x": [
          "2020-03-17T00:00:00",
          "2020-03-18T00:00:00",
          "2020-03-19T00:00:00",
          "2020-03-20T00:00:00",
          "2020-03-21T00:00:00",
          "2020-03-22T00:00:00",
          "2020-03-23T00:00:00",
          "2020-03-24T00:00:00"
         ],
         "y": [
          5307.38,
          5389.64,
          6159.6,
          6203.77,
          6183.69,
          5810.17,
          6463.84,
          6741.33
         ]
        },
        {
         "line": {
          "color": "black"
         },
         "mode": "lines",
         "showlegend": false,
         "type": "scatter",
         "x": [
          "2020-03-25T00:00:00"
         ],
         "y": [
          6673.41
         ]
        },
        {
         "line": {
          "color": "red"
         },
         "mode": "lines",
         "showlegend": false,
         "type": "scatter",
         "x": [
          "2020-03-26T00:00:00"
         ],
         "y": [
          6733.76
         ]
        },
        {
         "line": {
          "color": "black"
         },
         "mode": "lines",
         "showlegend": false,
         "type": "scatter",
         "x": [
          "2020-03-27T00:00:00",
          "2020-03-28T00:00:00",
          "2020-03-29T00:00:00"
         ],
         "y": [
          6353.64,
          6230.95,
          5876.27
         ]
        },
        {
         "line": {
          "color": "green"
         },
         "mode": "lines",
         "showlegend": false,
         "type": "scatter",
         "x": [
          "2020-03-30T00:00:00",
          "2020-03-31T00:00:00",
          "2020-04-01T00:00:00",
          "2020-04-02T00:00:00",
          "2020-04-03T00:00:00",
          "2020-04-04T00:00:00",
          "2020-04-05T00:00:00",
          "2020-04-06T00:00:00",
          "2020-04-07T00:00:00",
          "2020-04-08T00:00:00"
         ],
         "y": [
          6391.08,
          6407.1,
          6641.51,
          6791.63,
          6729.8,
          6851.1,
          6768.9,
          7325.73,
          7192.9,
          7357.66
         ]
        },
        {
         "line": {
          "color": "red"
         },
         "mode": "lines",
         "showlegend": false,
         "type": "scatter",
         "x": [
          "2020-04-09T00:00:00",
          "2020-04-10T00:00:00",
          "2020-04-11T00:00:00",
          "2020-04-12T00:00:00",
          "2020-04-13T00:00:00",
          "2020-04-14T00:00:00"
         ],
         "y": [
          7278.65,
          6857.82,
          6874.18,
          6900.52,
          6834,
          6864.11
         ]
        },
        {
         "line": {
          "color": "green"
         },
         "mode": "lines",
         "showlegend": false,
         "type": "scatter",
         "x": [
          "2020-04-15T00:00:00",
          "2020-04-16T00:00:00",
          "2020-04-17T00:00:00",
          "2020-04-18T00:00:00",
          "2020-04-19T00:00:00",
          "2020-04-20T00:00:00",
          "2020-04-21T00:00:00",
          "2020-04-22T00:00:00",
          "2020-04-23T00:00:00",
          "2020-04-24T00:00:00",
          "2020-04-25T00:00:00",
          "2020-04-26T00:00:00",
          "2020-04-27T00:00:00",
          "2020-04-28T00:00:00",
          "2020-04-29T00:00:00",
          "2020-04-30T00:00:00",
          "2020-05-01T00:00:00",
          "2020-05-02T00:00:00",
          "2020-05-03T00:00:00",
          "2020-05-04T00:00:00",
          "2020-05-05T00:00:00",
          "2020-05-06T00:00:00",
          "2020-05-07T00:00:00"
         ],
         "y": [
          6616.89,
          7098.15,
          7022.44,
          7242.42,
          7118.03,
          6825.29,
          6838,
          7120.06,
          7483.35,
          7504.11,
          7534.01,
          7694.17,
          7774,
          7735.75,
          8784.2,
          8624.76,
          8830.52,
          8975.18,
          8900,
          8873.98,
          9022.78,
          9148.27,
          9995
         ]
        },
        {
         "line": {
          "color": "red"
         },
         "mode": "lines",
         "showlegend": false,
         "type": "scatter",
         "x": [
          "2020-05-08T00:00:00",
          "2020-05-09T00:00:00",
          "2020-05-10T00:00:00",
          "2020-05-11T00:00:00"
         ],
         "y": [
          9807.49,
          9550.67,
          8719.53,
          8561.09
         ]
        },
        {
         "line": {
          "color": "green"
         },
         "mode": "lines",
         "showlegend": false,
         "type": "scatter",
         "x": [
          "2020-05-12T00:00:00",
          "2020-05-13T00:00:00",
          "2020-05-14T00:00:00",
          "2020-05-15T00:00:00"
         ],
         "y": [
          8808.71,
          9305.91,
          9786.8,
          9310.73
         ]
        },
        {
         "line": {
          "color": "red"
         },
         "mode": "lines",
         "showlegend": false,
         "type": "scatter",
         "x": [
          "2020-05-16T00:00:00",
          "2020-05-17T00:00:00",
          "2020-05-18T00:00:00",
          "2020-05-19T00:00:00",
          "2020-05-20T00:00:00",
          "2020-05-21T00:00:00",
          "2020-05-22T00:00:00",
          "2020-05-23T00:00:00",
          "2020-05-24T00:00:00"
         ],
         "y": [
          9374.99,
          9678.57,
          9731.1,
          9773.64,
          9508.11,
          9060,
          9166.4,
          9176.41,
          8711.37
         ]
        },
        {
         "line": {
          "color": "green"
         },
         "mode": "lines",
         "showlegend": false,
         "type": "scatter",
         "x": [
          "2020-05-25T00:00:00",
          "2020-05-26T00:00:00",
          "2020-05-27T00:00:00",
          "2020-05-28T00:00:00",
          "2020-05-29T00:00:00",
          "2020-05-30T00:00:00",
          "2020-05-31T00:00:00",
          "2020-06-01T00:00:00"
         ],
         "y": [
          8895.65,
          8837.05,
          9197.32,
          9569.59,
          9422.26,
          9695,
          9446.43,
          10232.48
         ]
        },
        {
         "line": {
          "color": "black"
         },
         "mode": "lines",
         "showlegend": false,
         "type": "scatter",
         "x": [
          "2020-06-02T00:00:00",
          "2020-06-03T00:00:00",
          "2020-06-04T00:00:00",
          "2020-06-05T00:00:00",
          "2020-06-06T00:00:00",
          "2020-06-07T00:00:00",
          "2020-06-08T00:00:00"
         ],
         "y": [
          9514.9,
          9663.59,
          9788.33,
          9617.29,
          9664,
          9743.92,
          9778.87
         ]
        },
        {
         "line": {
          "color": "green"
         },
         "mode": "lines",
         "showlegend": false,
         "type": "scatter",
         "x": [
          "2020-06-09T00:00:00"
         ],
         "y": [
          9771.66
         ]
        },
        {
         "line": {
          "color": "black"
         },
         "mode": "lines",
         "showlegend": false,
         "type": "scatter",
         "x": [
          "2020-06-10T00:00:00"
         ],
         "y": [
          9884.99
         ]
        },
        {
         "line": {
          "color": "red"
         },
         "mode": "lines",
         "showlegend": false,
         "type": "scatter",
         "x": [
          "2020-06-11T00:00:00"
         ],
         "y": [
          9278.03
         ]
        },
        {
         "line": {
          "color": "black"
         },
         "mode": "lines",
         "showlegend": false,
         "type": "scatter",
         "x": [
          "2020-06-12T00:00:00",
          "2020-06-13T00:00:00"
         ],
         "y": [
          9458.91,
          9468.54
         ]
        },
        {
         "line": {
          "color": "green"
         },
         "mode": "lines",
         "showlegend": false,
         "type": "scatter",
         "x": [
          "2020-06-14T00:00:00"
         ],
         "y": [
          9339.61
         ]
        },
        {
         "line": {
          "color": "black"
         },
         "mode": "lines",
         "showlegend": false,
         "type": "scatter",
         "x": [
          "2020-06-15T00:00:00",
          "2020-06-16T00:00:00"
         ],
         "y": [
          9422.01,
          9519.12
         ]
        },
        {
         "line": {
          "color": "red"
         },
         "mode": "lines",
         "showlegend": false,
         "type": "scatter",
         "x": [
          "2020-06-17T00:00:00",
          "2020-06-18T00:00:00",
          "2020-06-19T00:00:00",
          "2020-06-20T00:00:00"
         ],
         "y": [
          9458.45,
          9381.59,
          9307,
          9354.04
         ]
        },
        {
         "line": {
          "color": "black"
         },
         "mode": "lines",
         "showlegend": false,
         "type": "scatter",
         "x": [
          "2020-06-21T00:00:00",
          "2020-06-22T00:00:00"
         ],
         "y": [
          9293.51,
          9686.99
         ]
        },
        {
         "line": {
          "color": "red"
         },
         "mode": "lines",
         "showlegend": false,
         "type": "scatter",
         "x": [
          "2020-06-23T00:00:00",
          "2020-06-24T00:00:00",
          "2020-06-25T00:00:00",
          "2020-06-26T00:00:00",
          "2020-06-27T00:00:00"
         ],
         "y": [
          9631.66,
          9298.4,
          9246.75,
          9159.99,
          9008
         ]
        },
        {
         "line": {
          "color": "black"
         },
         "mode": "lines",
         "showlegend": false,
         "type": "scatter",
         "x": [
          "2020-06-28T00:00:00",
          "2020-06-29T00:00:00"
         ],
         "y": [
          9114,
          9189.48
         ]
        },
        {
         "line": {
          "color": "green"
         },
         "mode": "lines",
         "showlegend": false,
         "type": "scatter",
         "x": [
          "2020-06-30T00:00:00"
         ],
         "y": [
          9138.87
         ]
        },
        {
         "line": {
          "color": "black"
         },
         "mode": "lines",
         "showlegend": false,
         "type": "scatter",
         "x": [
          "2020-07-01T00:00:00"
         ],
         "y": [
          9233.29
         ]
        },
        {
         "line": {
          "color": "red"
         },
         "mode": "lines",
         "showlegend": false,
         "type": "scatter",
         "x": [
          "2020-07-02T00:00:00",
          "2020-07-03T00:00:00"
         ],
         "y": [
          9087.72,
          9057.52
         ]
        },
        {
         "line": {
          "color": "black"
         },
         "mode": "lines",
         "showlegend": false,
         "type": "scatter",
         "x": [
          "2020-07-04T00:00:00"
         ],
         "y": [
          9137.18
         ]
        },
        {
         "line": {
          "color": "green"
         },
         "mode": "lines",
         "showlegend": false,
         "type": "scatter",
         "x": [
          "2020-07-05T00:00:00",
          "2020-07-06T00:00:00",
          "2020-07-07T00:00:00"
         ],
         "y": [
          9071.86,
          9339.6,
          9258.51
         ]
        },
        {
         "line": {
          "color": "black"
         },
         "mode": "lines",
         "showlegend": false,
         "type": "scatter",
         "x": [
          "2020-07-08T00:00:00"
         ],
         "y": [
          9436.08
         ]
        },
        {
         "line": {
          "color": "red"
         },
         "mode": "lines",
         "showlegend": false,
         "type": "scatter",
         "x": [
          "2020-07-09T00:00:00",
          "2020-07-10T00:00:00"
         ],
         "y": [
          9236.28,
          9288.39
         ]
        },
        {
         "line": {
          "color": "green"
         },
         "mode": "lines",
         "showlegend": false,
         "type": "scatter",
         "x": [
          "2020-07-11T00:00:00",
          "2020-07-12T00:00:00",
          "2020-07-13T00:00:00"
         ],
         "y": [
          9233.5,
          9300.69,
          9241.2
         ]
        },
        {
         "line": {
          "color": "red"
         },
         "mode": "lines",
         "showlegend": false,
         "type": "scatter",
         "x": [
          "2020-07-14T00:00:00",
          "2020-07-15T00:00:00",
          "2020-07-16T00:00:00"
         ],
         "y": [
          9254.17,
          9197.3,
          9132
         ]
        },
        {
         "line": {
          "color": "green"
         },
         "mode": "lines",
         "showlegend": false,
         "type": "scatter",
         "x": [
          "2020-07-17T00:00:00",
          "2020-07-18T00:00:00",
          "2020-07-19T00:00:00",
          "2020-07-20T00:00:00",
          "2020-07-21T00:00:00",
          "2020-07-22T00:00:00",
          "2020-07-23T00:00:00",
          "2020-07-24T00:00:00",
          "2020-07-25T00:00:00",
          "2020-07-26T00:00:00",
          "2020-07-27T00:00:00",
          "2020-07-28T00:00:00",
          "2020-07-29T00:00:00",
          "2020-07-30T00:00:00"
         ],
         "y": [
          9151.69,
          9171.8,
          9210.51,
          9161.13,
          9388.01,
          9518.25,
          9604.41,
          9539.7,
          9701.49,
          9939.69,
          11047.58,
          10919.94,
          11113.03,
          11111.96
         ]
        },
        {
         "line": {
          "color": "black"
         },
         "mode": "lines",
         "showlegend": false,
         "type": "scatter",
         "x": [
          "2020-07-31T00:00:00",
          "2020-08-01T00:00:00"
         ],
         "y": [
          11343.68,
          11811.42
         ]
        },
        {
         "line": {
          "color": "red"
         },
         "mode": "lines",
         "showlegend": false,
         "type": "scatter",
         "x": [
          "2020-08-02T00:00:00"
         ],
         "y": [
          11079.72
         ]
        },
        {
         "line": {
          "color": "black"
         },
         "mode": "lines",
         "showlegend": false,
         "type": "scatter",
         "x": [
          "2020-08-03T00:00:00"
         ],
         "y": [
          11227.07
         ]
        },
        {
         "line": {
          "color": "green"
         },
         "mode": "lines",
         "showlegend": false,
         "type": "scatter",
         "x": [
          "2020-08-04T00:00:00",
          "2020-08-05T00:00:00",
          "2020-08-06T00:00:00"
         ],
         "y": [
          11200.05,
          11752.5,
          11770.56
         ]
        },
        {
         "line": {
          "color": "black"
         },
         "mode": "lines",
         "showlegend": false,
         "type": "scatter",
         "x": [
          "2020-08-07T00:00:00",
          "2020-08-08T00:00:00"
         ],
         "y": [
          11596.06,
          11765.72
         ]
        },
        {
         "line": {
          "color": "green"
         },
         "mode": "lines",
         "showlegend": false,
         "type": "scatter",
         "x": [
          "2020-08-09T00:00:00"
         ],
         "y": [
          11685.99
         ]
        },
        {
         "line": {
          "color": "black"
         },
         "mode": "lines",
         "showlegend": false,
         "type": "scatter",
         "x": [
          "2020-08-10T00:00:00"
         ],
         "y": [
          11896.89
         ]
        },
        {
         "line": {
          "color": "red"
         },
         "mode": "lines",
         "showlegend": false,
         "type": "scatter",
         "x": [
          "2020-08-11T00:00:00"
         ],
         "y": [
          11392.64
         ]
        },
        {
         "line": {
          "color": "black"
         },
         "mode": "lines",
         "showlegend": false,
         "type": "scatter",
         "x": [
          "2020-08-12T00:00:00",
          "2020-08-13T00:00:00"
         ],
         "y": [
          11568.36,
          11790
         ]
        },
        {
         "line": {
          "color": "green"
         },
         "mode": "lines",
         "showlegend": false,
         "type": "scatter",
         "x": [
          "2020-08-14T00:00:00"
         ],
         "y": [
          11767.89
         ]
        },
        {
         "line": {
          "color": "black"
         },
         "mode": "lines",
         "showlegend": false,
         "type": "scatter",
         "x": [
          "2020-08-15T00:00:00",
          "2020-08-16T00:00:00",
          "2020-08-17T00:00:00"
         ],
         "y": [
          11859.04,
          11921.23,
          12298.06
         ]
        },
        {
         "line": {
          "color": "red"
         },
         "mode": "lines",
         "showlegend": false,
         "type": "scatter",
         "x": [
          "2020-08-18T00:00:00",
          "2020-08-19T00:00:00",
          "2020-08-20T00:00:00",
          "2020-08-21T00:00:00",
          "2020-08-22T00:00:00"
         ],
         "y": [
          11960.79,
          11763.87,
          11857.92,
          11538.53,
          11670.47
         ]
        },
        {
         "line": {
          "color": "green"
         },
         "mode": "lines",
         "showlegend": false,
         "type": "scatter",
         "x": [
          "2020-08-23T00:00:00"
         ],
         "y": [
          11654
         ]
        },
        {
         "line": {
          "color": "red"
         },
         "mode": "lines",
         "showlegend": false,
         "type": "scatter",
         "x": [
          "2020-08-24T00:00:00",
          "2020-08-25T00:00:00",
          "2020-08-26T00:00:00"
         ],
         "y": [
          11753.3,
          11327.17,
          11466.22
         ]
        },
        {
         "line": {
          "color": "green"
         },
         "mode": "lines",
         "showlegend": false,
         "type": "scatter",
         "x": [
          "2020-08-27T00:00:00",
          "2020-08-28T00:00:00",
          "2020-08-29T00:00:00",
          "2020-08-30T00:00:00",
          "2020-08-31T00:00:00"
         ],
         "y": [
          11335.53,
          11526.85,
          11466.66,
          11714.14,
          11658.11
         ]
        },
        {
         "line": {
          "color": "red"
         },
         "mode": "lines",
         "showlegend": false,
         "type": "scatter",
         "x": [
          "2020-09-01T00:00:00",
          "2020-09-02T00:00:00",
          "2020-09-03T00:00:00",
          "2020-09-04T00:00:00",
          "2020-09-05T00:00:00",
          "2020-09-06T00:00:00",
          "2020-09-07T00:00:00",
          "2020-09-08T00:00:00"
         ],
         "y": [
          11930.18,
          11396.96,
          10141.08,
          10448,
          10168.71,
          10258.13,
          10378.76,
          10129.02
         ]
        },
        {
         "line": {
          "color": "green"
         },
         "mode": "lines",
         "showlegend": false,
         "type": "scatter",
         "x": [
          "2020-09-09T00:00:00",
          "2020-09-10T00:00:00",
          "2020-09-11T00:00:00",
          "2020-09-12T00:00:00",
          "2020-09-13T00:00:00",
          "2020-09-14T00:00:00",
          "2020-09-15T00:00:00",
          "2020-09-16T00:00:00",
          "2020-09-17T00:00:00",
          "2020-09-18T00:00:00"
         ],
         "y": [
          10219.29,
          10335.91,
          10387.81,
          10438.28,
          10327.72,
          10664.1,
          10776.78,
          10948.17,
          10935.33,
          10926.29
         ]
        },
        {
         "line": {
          "color": "black"
         },
         "mode": "lines",
         "showlegend": false,
         "type": "scatter",
         "x": [
          "2020-09-19T00:00:00"
         ],
         "y": [
          11073.74
         ]
        },
        {
         "line": {
          "color": "red"
         },
         "mode": "lines",
         "showlegend": false,
         "type": "scatter",
         "x": [
          "2020-09-20T00:00:00",
          "2020-09-21T00:00:00",
          "2020-09-22T00:00:00"
         ],
         "y": [
          10914.28,
          10414.73,
          10523.32
         ]
        },
        {
         "line": {
          "color": "green"
         },
         "mode": "lines",
         "showlegend": false,
         "type": "scatter",
         "x": [
          "2020-09-23T00:00:00",
          "2020-09-24T00:00:00",
          "2020-09-25T00:00:00",
          "2020-09-26T00:00:00",
          "2020-09-27T00:00:00",
          "2020-09-28T00:00:00",
          "2020-09-29T00:00:00"
         ],
         "y": [
          10237.91,
          10724.92,
          10683.51,
          10726.5,
          10768,
          10691.45,
          10836.98
         ]
        },
        {
         "line": {
          "color": "red"
         },
         "mode": "lines",
         "showlegend": false,
         "type": "scatter",
         "x": [
          "2020-09-30T00:00:00",
          "2020-10-01T00:00:00",
          "2020-10-02T00:00:00",
          "2020-10-03T00:00:00"
         ],
         "y": [
          10773,
          10612.63,
          10565.15,
          10537.96
         ]
        },
        {
         "line": {
          "color": "green"
         },
         "mode": "lines",
         "showlegend": false,
         "type": "scatter",
         "x": [
          "2020-10-04T00:00:00",
          "2020-10-05T00:00:00",
          "2020-10-06T00:00:00",
          "2020-10-07T00:00:00",
          "2020-10-08T00:00:00",
          "2020-10-09T00:00:00",
          "2020-10-10T00:00:00",
          "2020-10-11T00:00:00",
          "2020-10-12T00:00:00",
          "2020-10-13T00:00:00",
          "2020-10-14T00:00:00"
         ],
         "y": [
          10660.16,
          10785,
          10593.65,
          10658.75,
          10919.45,
          11050.47,
          11294.79,
          11369.59,
          11530.36,
          11419.36,
          11417.13
         ]
        },
        {
         "line": {
          "color": "red"
         },
         "mode": "lines",
         "showlegend": false,
         "type": "scatter",
         "x": [
          "2020-10-15T00:00:00"
         ],
         "y": [
          11502
         ]
        },
        {
         "line": {
          "color": "green"
         },
         "mode": "lines",
         "showlegend": false,
         "type": "scatter",
         "x": [
          "2020-10-16T00:00:00",
          "2020-10-17T00:00:00",
          "2020-10-18T00:00:00",
          "2020-10-19T00:00:00",
          "2020-10-20T00:00:00",
          "2020-10-21T00:00:00",
          "2020-10-22T00:00:00",
          "2020-10-23T00:00:00",
          "2020-10-24T00:00:00",
          "2020-10-25T00:00:00",
          "2020-10-26T00:00:00",
          "2020-10-27T00:00:00",
          "2020-10-28T00:00:00",
          "2020-10-29T00:00:00",
          "2020-10-30T00:00:00",
          "2020-10-31T00:00:00",
          "2020-11-01T00:00:00",
          "2020-11-02T00:00:00",
          "2020-11-03T00:00:00",
          "2020-11-04T00:00:00",
          "2020-11-05T00:00:00",
          "2020-11-06T00:00:00",
          "2020-11-07T00:00:00",
          "2020-11-08T00:00:00",
          "2020-11-09T00:00:00",
          "2020-11-10T00:00:00",
          "2020-11-11T00:00:00",
          "2020-11-12T00:00:00",
          "2020-11-13T00:00:00",
          "2020-11-14T00:00:00",
          "2020-11-15T00:00:00",
          "2020-11-16T00:00:00",
          "2020-11-17T00:00:00",
          "2020-11-18T00:00:00",
          "2020-11-19T00:00:00",
          "2020-11-20T00:00:00",
          "2020-11-21T00:00:00",
          "2020-11-22T00:00:00",
          "2020-11-23T00:00:00",
          "2020-11-24T00:00:00",
          "2020-11-25T00:00:00",
          "2020-11-26T00:00:00",
          "2020-11-27T00:00:00",
          "2020-11-28T00:00:00",
          "2020-11-29T00:00:00",
          "2020-11-30T00:00:00",
          "2020-12-01T00:00:00"
         ],
         "y": [
          11318.92,
          11356.25,
          11501.1,
          11745,
          11900.03,
          12796.07,
          12968.87,
          12925.82,
          13110.88,
          13023.81,
          13047.24,
          13629.38,
          13256.17,
          13446.65,
          13549.12,
          13783.73,
          13752.86,
          13540.54,
          14016.55,
          14134.31,
          15598.75,
          15590.96,
          14824.34,
          15473.2,
          15328.72,
          15294.68,
          15690.24,
          16289.02,
          16320.54,
          16064.51,
          15952.27,
          16707.07,
          17670.01,
          17788.32,
          17811.68,
          18664.31,
          18721.99,
          18435.2,
          18382.07,
          19179.64,
          18741.67,
          17155.34,
          17144.1,
          17717.74,
          18181.09,
          19720,
          18772.7
         ]
        },
        {
         "line": {
          "color": "red"
         },
         "mode": "lines",
         "showlegend": false,
         "type": "scatter",
         "x": [
          "2020-12-02T00:00:00",
          "2020-12-03T00:00:00",
          "2020-12-04T00:00:00",
          "2020-12-05T00:00:00",
          "2020-12-06T00:00:00",
          "2020-12-07T00:00:00",
          "2020-12-08T00:00:00",
          "2020-12-09T00:00:00"
         ],
         "y": [
          19207.01,
          19434.3,
          18664.2,
          19147.62,
          19375.02,
          19172.88,
          18319.32,
          18537.98
         ]
        },
        {
         "line": {
          "color": "green"
         },
         "mode": "lines",
         "showlegend": false,
         "type": "scatter",
         "x": [
          "2020-12-10T00:00:00",
          "2020-12-11T00:00:00",
          "2020-12-12T00:00:00",
          "2020-12-13T00:00:00",
          "2020-12-14T00:00:00",
          "2020-12-15T00:00:00",
          "2020-12-16T00:00:00",
          "2020-12-17T00:00:00",
          "2020-12-18T00:00:00",
          "2020-12-19T00:00:00",
          "2020-12-20T00:00:00",
          "2020-12-21T00:00:00",
          "2020-12-22T00:00:00",
          "2020-12-23T00:00:00",
          "2020-12-24T00:00:00",
          "2020-12-25T00:00:00",
          "2020-12-26T00:00:00",
          "2020-12-27T00:00:00",
          "2020-12-28T00:00:00",
          "2020-12-29T00:00:00",
          "2020-12-30T00:00:00",
          "2020-12-31T00:00:00",
          "2021-01-01T00:00:00",
          "2021-01-02T00:00:00",
          "2021-01-03T00:00:00",
          "2021-01-04T00:00:00",
          "2021-01-05T00:00:00",
          "2021-01-06T00:00:00",
          "2021-01-07T00:00:00",
          "2021-01-08T00:00:00",
          "2021-01-09T00:00:00",
          "2021-01-10T00:00:00",
          "2021-01-11T00:00:00",
          "2021-01-12T00:00:00",
          "2021-01-13T00:00:00",
          "2021-01-14T00:00:00",
          "2021-01-15T00:00:00",
          "2021-01-16T00:00:00",
          "2021-01-17T00:00:00"
         ],
         "y": [
          18253.51,
          18031.47,
          18800,
          19175.07,
          19270.7,
          19424.91,
          21346.8,
          22816.99,
          23124.35,
          23847.28,
          23472.96,
          22730.1,
          23826.99,
          23238.27,
          23737.44,
          24730,
          26508.83,
          26305.64,
          27102.66,
          27402.83,
          28906.99,
          28951.68,
          29337.16,
          32199.91,
          33054.53,
          32031.07,
          33999.52,
          36823.68,
          39498.92,
          40637.23,
          40136.04,
          38221.67,
          35408.46,
          34056.9,
          37421.07,
          39163.31,
          36755.24,
          36025.66,
          35869.83
         ]
        },
        {
         "line": {
          "color": "red"
         },
         "mode": "lines",
         "showlegend": false,
         "type": "scatter",
         "x": [
          "2021-01-18T00:00:00",
          "2021-01-19T00:00:00",
          "2021-01-20T00:00:00",
          "2021-01-21T00:00:00"
         ],
         "y": [
          36686.86,
          35891.03,
          35500,
          30879.97
         ]
        },
        {
         "line": {
          "color": "green"
         },
         "mode": "lines",
         "showlegend": false,
         "type": "scatter",
         "x": [
          "2021-01-22T00:00:00",
          "2021-01-23T00:00:00",
          "2021-01-24T00:00:00",
          "2021-01-25T00:00:00",
          "2021-01-26T00:00:00",
          "2021-01-27T00:00:00",
          "2021-01-28T00:00:00",
          "2021-01-29T00:00:00",
          "2021-01-30T00:00:00",
          "2021-01-31T00:00:00",
          "2021-02-01T00:00:00",
          "2021-02-02T00:00:00",
          "2021-02-03T00:00:00",
          "2021-02-04T00:00:00",
          "2021-02-05T00:00:00",
          "2021-02-06T00:00:00",
          "2021-02-07T00:00:00",
          "2021-02-08T00:00:00",
          "2021-02-09T00:00:00",
          "2021-02-10T00:00:00",
          "2021-02-11T00:00:00",
          "2021-02-12T00:00:00",
          "2021-02-13T00:00:00",
          "2021-02-14T00:00:00",
          "2021-02-15T00:00:00",
          "2021-02-16T00:00:00",
          "2021-02-17T00:00:00",
          "2021-02-18T00:00:00",
          "2021-02-19T00:00:00",
          "2021-02-20T00:00:00",
          "2021-02-21T00:00:00"
         ],
         "y": [
          32986.34,
          32086.48,
          32275.63,
          32253.68,
          32474.14,
          30381.04,
          33399.75,
          34269.35,
          34289.85,
          33126.21,
          33546.09,
          35504.06,
          37652.51,
          36976.93,
          38362.65,
          39249.54,
          38849.25,
          46451.32,
          46492.54,
          44850,
          48060.21,
          47361.03,
          47221.62,
          48655.21,
          47981.58,
          49197.94,
          52194.62,
          51619.7,
          56004.1,
          55917.41,
          57487.43
         ]
        },
        {
         "line": {
          "color": "red"
         },
         "mode": "lines",
         "showlegend": false,
         "type": "scatter",
         "x": [
          "2021-02-22T00:00:00",
          "2021-02-23T00:00:00",
          "2021-02-24T00:00:00",
          "2021-02-25T00:00:00",
          "2021-02-26T00:00:00",
          "2021-02-27T00:00:00",
          "2021-02-28T00:00:00"
         ],
         "y": [
          54121.1,
          48930,
          49702.03,
          47089.37,
          46313.13,
          46102.63,
          45163.36
         ]
        },
        {
         "line": {
          "color": "green"
         },
         "mode": "lines",
         "showlegend": false,
         "type": "scatter",
         "x": [
          "2021-03-01T00:00:00",
          "2021-03-02T00:00:00",
          "2021-03-03T00:00:00",
          "2021-03-04T00:00:00",
          "2021-03-05T00:00:00",
          "2021-03-06T00:00:00",
          "2021-03-07T00:00:00",
          "2021-03-08T00:00:00",
          "2021-03-09T00:00:00",
          "2021-03-10T00:00:00",
          "2021-03-11T00:00:00",
          "2021-03-12T00:00:00",
          "2021-03-13T00:00:00"
         ],
         "y": [
          49592.7,
          48450.57,
          50373.75,
          48385.77,
          48770.57,
          48908.21,
          50995.27,
          52429.43,
          54917.78,
          55947.98,
          57844.52,
          57291.03,
          61267.41
         ]
        },
        {
         "line": {
          "color": "red"
         },
         "mode": "lines",
         "showlegend": false,
         "type": "scatter",
         "x": [
          "2021-03-14T00:00:00",
          "2021-03-15T00:00:00"
         ],
         "y": [
          59037.12,
          55646.61
         ]
        },
        {
         "line": {
          "color": "green"
         },
         "mode": "lines",
         "showlegend": false,
         "type": "scatter",
         "x": [
          "2021-03-16T00:00:00",
          "2021-03-17T00:00:00",
          "2021-03-18T00:00:00"
         ],
         "y": [
          56954.19,
          58959,
          57700.01
         ]
        },
        {
         "line": {
          "color": "red"
         },
         "mode": "lines",
         "showlegend": false,
         "type": "scatter",
         "x": [
          "2021-03-19T00:00:00",
          "2021-03-20T00:00:00",
          "2021-03-21T00:00:00",
          "2021-03-22T00:00:00",
          "2021-03-23T00:00:00"
         ],
         "y": [
          58089.11,
          58145.61,
          57415.18,
          54129.56,
          54400
         ]
        },
        {
         "line": {
          "color": "green"
         },
         "mode": "lines",
         "showlegend": false,
         "type": "scatter",
         "x": [
          "2021-03-24T00:00:00",
          "2021-03-25T00:00:00",
          "2021-03-26T00:00:00",
          "2021-03-27T00:00:00",
          "2021-03-28T00:00:00",
          "2021-03-29T00:00:00",
          "2021-03-30T00:00:00",
          "2021-03-31T00:00:00",
          "2021-04-01T00:00:00",
          "2021-04-02T00:00:00",
          "2021-04-03T00:00:00",
          "2021-04-04T00:00:00",
          "2021-04-05T00:00:00",
          "2021-04-06T00:00:00",
          "2021-04-07T00:00:00",
          "2021-04-08T00:00:00",
          "2021-04-09T00:00:00",
          "2021-04-10T00:00:00",
          "2021-04-11T00:00:00",
          "2021-04-12T00:00:00",
          "2021-04-13T00:00:00"
         ],
         "y": [
          52311.54,
          51325.21,
          55030,
          55828,
          55805.08,
          57677.64,
          58794.16,
          58807.24,
          58794.01,
          59031.36,
          57134.65,
          58234.61,
          59243.39,
          58059.99,
          56018.18,
          58122.26,
          58176.03,
          59832.43,
          60090.2,
          59911.18,
          63649.71
         ]
        },
        {
         "line": {
          "color": "black"
         },
         "mode": "lines",
         "showlegend": false,
         "type": "scatter",
         "x": [
          "2021-04-14T00:00:00"
         ],
         "y": [
          63019.1
         ]
        },
        {
         "line": {
          "color": "red"
         },
         "mode": "lines",
         "showlegend": false,
         "type": "scatter",
         "x": [
          "2021-04-15T00:00:00",
          "2021-04-16T00:00:00",
          "2021-04-17T00:00:00",
          "2021-04-18T00:00:00",
          "2021-04-19T00:00:00",
          "2021-04-20T00:00:00",
          "2021-04-21T00:00:00",
          "2021-04-22T00:00:00",
          "2021-04-23T00:00:00",
          "2021-04-24T00:00:00",
          "2021-04-25T00:00:00",
          "2021-04-26T00:00:00",
          "2021-04-27T00:00:00"
         ],
         "y": [
          63232.55,
          61424.67,
          60090.14,
          56140.05,
          55634.39,
          56410.56,
          53800,
          51714.61,
          51122.62,
          50092.4,
          49063.94,
          53984.33,
          55006.25
         ]
        },
        {
         "line": {
          "color": "green"
         },
         "mode": "lines",
         "showlegend": false,
         "type": "scatter",
         "x": [
          "2021-04-28T00:00:00",
          "2021-04-29T00:00:00",
          "2021-04-30T00:00:00",
          "2021-05-01T00:00:00"
         ],
         "y": [
          54861.77,
          53558.8,
          57684.16,
          57836.34
         ]
        },
        {
         "line": {
          "color": "red"
         },
         "mode": "lines",
         "showlegend": false,
         "type": "scatter",
         "x": [
          "2021-05-02T00:00:00",
          "2021-05-03T00:00:00",
          "2021-05-04T00:00:00"
         ],
         "y": [
          56630.33,
          57214.83,
          53263.32
         ]
        },
        {
         "line": {
          "color": "green"
         },
         "mode": "lines",
         "showlegend": false,
         "type": "scatter",
         "x": [
          "2021-05-05T00:00:00",
          "2021-05-06T00:00:00"
         ],
         "y": [
          57497.77,
          56435.35
         ]
        },
        {
         "line": {
          "color": "red"
         },
         "mode": "lines",
         "showlegend": false,
         "type": "scatter",
         "x": [
          "2021-05-07T00:00:00",
          "2021-05-08T00:00:00",
          "2021-05-09T00:00:00",
          "2021-05-10T00:00:00",
          "2021-05-11T00:00:00",
          "2021-05-12T00:00:00",
          "2021-05-13T00:00:00",
          "2021-05-14T00:00:00",
          "2021-05-15T00:00:00",
          "2021-05-16T00:00:00",
          "2021-05-17T00:00:00",
          "2021-05-18T00:00:00",
          "2021-05-19T00:00:00",
          "2021-05-20T00:00:00",
          "2021-05-21T00:00:00",
          "2021-05-22T00:00:00",
          "2021-05-23T00:00:00"
         ],
         "y": [
          57350.88,
          58924.98,
          58292.53,
          55869.67,
          56710.43,
          49595.76,
          49707.9,
          49873.27,
          46793.41,
          46429.28,
          43566.18,
          42882.53,
          36689.14,
          40500.3,
          37211.02,
          37432.58,
          34651.6
         ]
        },
        {
         "line": {
          "color": "green"
         },
         "mode": "lines",
         "showlegend": false,
         "type": "scatter",
         "x": [
          "2021-05-24T00:00:00",
          "2021-05-25T00:00:00"
         ],
         "y": [
          38779.66,
          38326.84
         ]
        },
        {
         "line": {
          "color": "red"
         },
         "mode": "lines",
         "showlegend": false,
         "type": "scatter",
         "x": [
          "2021-05-26T00:00:00",
          "2021-05-27T00:00:00",
          "2021-05-28T00:00:00",
          "2021-05-29T00:00:00",
          "2021-05-30T00:00:00",
          "2021-05-31T00:00:00"
         ],
         "y": [
          39224.2,
          38527.38,
          35670.99,
          34611.94,
          35651.81,
          37243.38
         ]
        },
        {
         "line": {
          "color": "green"
         },
         "mode": "lines",
         "showlegend": false,
         "type": "scatter",
         "x": [
          "2021-06-01T00:00:00"
         ],
         "y": [
          36693.41
         ]
        },
        {
         "line": {
          "color": "red"
         },
         "mode": "lines",
         "showlegend": false,
         "type": "scatter",
         "x": [
          "2021-06-02T00:00:00",
          "2021-06-03T00:00:00",
          "2021-06-04T00:00:00",
          "2021-06-05T00:00:00",
          "2021-06-06T00:00:00",
          "2021-06-07T00:00:00",
          "2021-06-08T00:00:00"
         ],
         "y": [
          37569.99,
          39247.4,
          36828.03,
          35498.62,
          35801.71,
          33550.96,
          33372.58
         ]
        },
        {
         "line": {
          "color": "green"
         },
         "mode": "lines",
         "showlegend": false,
         "type": "scatter",
         "x": [
          "2021-06-09T00:00:00"
         ],
         "y": [
          37368.45
         ]
        },
        {
         "line": {
          "color": "red"
         },
         "mode": "lines",
         "showlegend": false,
         "type": "scatter",
         "x": [
          "2021-06-10T00:00:00",
          "2021-06-11T00:00:00",
          "2021-06-12T00:00:00",
          "2021-06-13T00:00:00",
          "2021-06-14T00:00:00",
          "2021-06-15T00:00:00",
          "2021-06-16T00:00:00",
          "2021-06-17T00:00:00",
          "2021-06-18T00:00:00",
          "2021-06-19T00:00:00",
          "2021-06-20T00:00:00",
          "2021-06-21T00:00:00",
          "2021-06-22T00:00:00",
          "2021-06-23T00:00:00",
          "2021-06-24T00:00:00"
         ],
         "y": [
          36669.66,
          37300.42,
          35537.05,
          38993.65,
          40489.1,
          40132.86,
          38344.97,
          38060.71,
          35811.41,
          35483,
          35588.64,
          31606,
          32496,
          33649,
          34644.64
         ]
        },
        {
         "line": {
          "color": "black"
         },
         "mode": "lines",
         "showlegend": false,
         "type": "scatter",
         "x": [
          "2021-06-25T00:00:00"
         ],
         "y": [
          31568.07
         ]
        },
        {
         "line": {
          "color": "green"
         },
         "mode": "lines",
         "showlegend": false,
         "type": "scatter",
         "x": [
          "2021-06-26T00:00:00",
          "2021-06-27T00:00:00",
          "2021-06-28T00:00:00"
         ],
         "y": [
          32255.56,
          34687.71,
          34487.22
         ]
        },
        {
         "line": {
          "color": "black"
         },
         "mode": "lines",
         "showlegend": false,
         "type": "scatter",
         "x": [
          "2021-06-29T00:00:00"
         ],
         "y": [
          35911.26
         ]
        },
        {
         "line": {
          "color": "red"
         },
         "mode": "lines",
         "showlegend": false,
         "type": "scatter",
         "x": [
          "2021-06-30T00:00:00",
          "2021-07-01T00:00:00"
         ],
         "y": [
          35031.39,
          33489.96
         ]
        },
        {
         "line": {
          "color": "black"
         },
         "mode": "lines",
         "showlegend": false,
         "type": "scatter",
         "x": [
          "2021-07-02T00:00:00",
          "2021-07-03T00:00:00",
          "2021-07-04T00:00:00",
          "2021-07-05T00:00:00"
         ],
         "y": [
          33760.94,
          34652.94,
          35280.16,
          33672.72
         ]
        },
        {
         "line": {
          "color": "red"
         },
         "mode": "lines",
         "showlegend": false,
         "type": "scatter",
         "x": [
          "2021-07-06T00:00:00",
          "2021-07-07T00:00:00",
          "2021-07-08T00:00:00"
         ],
         "y": [
          34206.01,
          33845.64,
          32852.04
         ]
        },
        {
         "line": {
          "color": "black"
         },
         "mode": "lines",
         "showlegend": false,
         "type": "scatter",
         "x": [
          "2021-07-09T00:00:00"
         ],
         "y": [
          33805.01
         ]
        },
        {
         "line": {
          "color": "green"
         },
         "mode": "lines",
         "showlegend": false,
         "type": "scatter",
         "x": [
          "2021-07-10T00:00:00"
         ],
         "y": [
          33497.98
         ]
        },
        {
         "line": {
          "color": "black"
         },
         "mode": "lines",
         "showlegend": false,
         "type": "scatter",
         "x": [
          "2021-07-11T00:00:00"
         ],
         "y": [
          34253.81
         ]
        },
        {
         "line": {
          "color": "red"
         },
         "mode": "lines",
         "showlegend": false,
         "type": "scatter",
         "x": [
          "2021-07-12T00:00:00",
          "2021-07-13T00:00:00",
          "2021-07-14T00:00:00",
          "2021-07-15T00:00:00",
          "2021-07-16T00:00:00",
          "2021-07-17T00:00:00",
          "2021-07-18T00:00:00"
         ],
         "y": [
          33070.87,
          32709.09,
          32803.01,
          31866.43,
          31382.95,
          31496.65,
          31767
         ]
        },
        {
         "line": {
          "color": "black"
         },
         "mode": "lines",
         "showlegend": false,
         "type": "scatter",
         "x": [
          "2021-07-19T00:00:00",
          "2021-07-20T00:00:00"
         ],
         "y": [
          30823.62,
          29775.9
         ]
        },
        {
         "line": {
          "color": "green"
         },
         "mode": "lines",
         "showlegend": false,
         "type": "scatter",
         "x": [
          "2021-07-21T00:00:00",
          "2021-07-22T00:00:00",
          "2021-07-23T00:00:00",
          "2021-07-24T00:00:00",
          "2021-07-25T00:00:00",
          "2021-07-26T00:00:00",
          "2021-07-27T00:00:00",
          "2021-07-28T00:00:00",
          "2021-07-29T00:00:00",
          "2021-07-30T00:00:00",
          "2021-07-31T00:00:00",
          "2021-08-01T00:00:00",
          "2021-08-02T00:00:00",
          "2021-08-03T00:00:00",
          "2021-08-04T00:00:00",
          "2021-08-05T00:00:00",
          "2021-08-06T00:00:00",
          "2021-08-07T00:00:00",
          "2021-08-08T00:00:00",
          "2021-08-09T00:00:00",
          "2021-08-10T00:00:00",
          "2021-08-11T00:00:00",
          "2021-08-12T00:00:00",
          "2021-08-13T00:00:00",
          "2021-08-14T00:00:00",
          "2021-08-15T00:00:00",
          "2021-08-16T00:00:00",
          "2021-08-17T00:00:00",
          "2021-08-18T00:00:00",
          "2021-08-19T00:00:00",
          "2021-08-20T00:00:00",
          "2021-08-21T00:00:00"
         ],
         "y": [
          32120,
          32268.11,
          33634.46,
          34230,
          35370.66,
          37218.09,
          39442.33,
          40003.08,
          40012.9,
          42203.25,
          41448.11,
          39846.78,
          39147.48,
          38203.26,
          39731.31,
          40882.4,
          42825.43,
          44601.11,
          43787.71,
          46259.7,
          45589.99,
          45522.12,
          44385.09,
          47792.52,
          47083.74,
          47006.02,
          45926.23,
          44704.84,
          44714.09,
          46772,
          49332.74,
          48848.29
         ]
        },
        {
         "line": {
          "color": "black"
         },
         "mode": "lines",
         "showlegend": false,
         "type": "scatter",
         "x": [
          "2021-08-22T00:00:00",
          "2021-08-23T00:00:00"
         ],
         "y": [
          49273.28,
          49523.91
         ]
        },
        {
         "line": {
          "color": "red"
         },
         "mode": "lines",
         "showlegend": false,
         "type": "scatter",
         "x": [
          "2021-08-24T00:00:00",
          "2021-08-25T00:00:00"
         ],
         "y": [
          47719.36,
          48992.65
         ]
        },
        {
         "line": {
          "color": "black"
         },
         "mode": "lines",
         "showlegend": false,
         "type": "scatter",
         "x": [
          "2021-08-26T00:00:00"
         ],
         "y": [
          46853.06
         ]
        },
        {
         "line": {
          "color": "green"
         },
         "mode": "lines",
         "showlegend": false,
         "type": "scatter",
         "x": [
          "2021-08-27T00:00:00",
          "2021-08-28T00:00:00",
          "2021-08-29T00:00:00",
          "2021-08-30T00:00:00",
          "2021-08-31T00:00:00",
          "2021-09-01T00:00:00",
          "2021-09-02T00:00:00",
          "2021-09-03T00:00:00",
          "2021-09-04T00:00:00"
         ],
         "y": [
          49083.98,
          48931.99,
          48795.41,
          47024.7,
          47150.32,
          48842.94,
          49299.14,
          50027.08,
          49940.74
         ]
        },
        {
         "line": {
          "color": "black"
         },
         "mode": "lines",
         "showlegend": false,
         "type": "scatter",
         "x": [
          "2021-09-05T00:00:00",
          "2021-09-06T00:00:00"
         ],
         "y": [
          51799.57,
          52683.97
         ]
        },
        {
         "line": {
          "color": "red"
         },
         "mode": "lines",
         "showlegend": false,
         "type": "scatter",
         "x": [
          "2021-09-07T00:00:00",
          "2021-09-08T00:00:00",
          "2021-09-09T00:00:00",
          "2021-09-10T00:00:00"
         ],
         "y": [
          46864.39,
          46062.29,
          46413.88,
          44860.83
         ]
        },
        {
         "line": {
          "color": "black"
         },
         "mode": "lines",
         "showlegend": false,
         "type": "scatter",
         "x": [
          "2021-09-11T00:00:00",
          "2021-09-12T00:00:00"
         ],
         "y": [
          45193.78,
          46046.73
         ]
        },
        {
         "line": {
          "color": "green"
         },
         "mode": "lines",
         "showlegend": false,
         "type": "scatter",
         "x": [
          "2021-09-13T00:00:00",
          "2021-09-14T00:00:00",
          "2021-09-15T00:00:00",
          "2021-09-16T00:00:00",
          "2021-09-17T00:00:00"
         ],
         "y": [
          44975.96,
          47087.18,
          48106.12,
          47745.55,
          47303.11
         ]
        },
        {
         "line": {
          "color": "black"
         },
         "mode": "lines",
         "showlegend": false,
         "type": "scatter",
         "x": [
          "2021-09-18T00:00:00"
         ],
         "y": [
          48285.15
         ]
        },
        {
         "line": {
          "color": "red"
         },
         "mode": "lines",
         "showlegend": false,
         "type": "scatter",
         "x": [
          "2021-09-19T00:00:00",
          "2021-09-20T00:00:00",
          "2021-09-21T00:00:00"
         ],
         "y": [
          47256.91,
          43026.6,
          40726.1
         ]
        },
        {
         "line": {
          "color": "green"
         },
         "mode": "lines",
         "showlegend": false,
         "type": "scatter",
         "x": [
          "2021-09-22T00:00:00",
          "2021-09-23T00:00:00",
          "2021-09-24T00:00:00",
          "2021-09-25T00:00:00"
         ],
         "y": [
          43520,
          44828.29,
          42798.49,
          42651.58
         ]
        },
        {
         "line": {
          "color": "red"
         },
         "mode": "lines",
         "showlegend": false,
         "type": "scatter",
         "x": [
          "2021-09-26T00:00:00"
         ],
         "y": [
          43150
         ]
        },
        {
         "line": {
          "color": "green"
         },
         "mode": "lines",
         "showlegend": false,
         "type": "scatter",
         "x": [
          "2021-09-27T00:00:00",
          "2021-09-28T00:00:00",
          "2021-09-29T00:00:00",
          "2021-09-30T00:00:00",
          "2021-10-01T00:00:00",
          "2021-10-02T00:00:00",
          "2021-10-03T00:00:00",
          "2021-10-04T00:00:00",
          "2021-10-05T00:00:00",
          "2021-10-06T00:00:00",
          "2021-10-07T00:00:00",
          "2021-10-08T00:00:00",
          "2021-10-09T00:00:00",
          "2021-10-10T00:00:00",
          "2021-10-11T00:00:00",
          "2021-10-12T00:00:00",
          "2021-10-13T00:00:00",
          "2021-10-14T00:00:00",
          "2021-10-15T00:00:00",
          "2021-10-16T00:00:00",
          "2021-10-17T00:00:00",
          "2021-10-18T00:00:00",
          "2021-10-19T00:00:00",
          "2021-10-20T00:00:00"
         ],
         "y": [
          42122.69,
          41006.32,
          41499.71,
          43796.57,
          48123.94,
          47626.61,
          48187.3,
          49198.22,
          51455.12,
          55321.6,
          53814.99,
          53975,
          54960.77,
          54700,
          57500.01,
          56011.84,
          57393.65,
          57378.19,
          61702.33,
          60925.56,
          61571.45,
          62037.92,
          64316.7,
          66064.24
         ]
        },
        {
         "line": {
          "color": "red"
         },
         "mode": "lines",
         "showlegend": false,
         "type": "scatter",
         "x": [
          "2021-10-21T00:00:00",
          "2021-10-22T00:00:00"
         ],
         "y": [
          62260.33,
          60734.27
         ]
        },
        {
         "line": {
          "color": "green"
         },
         "mode": "lines",
         "showlegend": false,
         "type": "scatter",
         "x": [
          "2021-10-23T00:00:00",
          "2021-10-24T00:00:00",
          "2021-10-25T00:00:00"
         ],
         "y": [
          61325.11,
          60902.82,
          63127.04
         ]
        },
        {
         "line": {
          "color": "red"
         },
         "mode": "lines",
         "showlegend": false,
         "type": "scatter",
         "x": [
          "2021-10-26T00:00:00",
          "2021-10-27T00:00:00"
         ],
         "y": [
          60358.75,
          58449.36
         ]
        },
        {
         "line": {
          "color": "black"
         },
         "mode": "lines",
         "showlegend": false,
         "type": "scatter",
         "x": [
          "2021-10-28T00:00:00",
          "2021-10-29T00:00:00"
         ],
         "y": [
          60622.03,
          62308.22
         ]
        },
        {
         "line": {
          "color": "green"
         },
         "mode": "lines",
         "showlegend": false,
         "type": "scatter",
         "x": [
          "2021-10-30T00:00:00",
          "2021-10-31T00:00:00",
          "2021-11-01T00:00:00",
          "2021-11-02T00:00:00",
          "2021-11-03T00:00:00",
          "2021-11-04T00:00:00",
          "2021-11-05T00:00:00",
          "2021-11-06T00:00:00",
          "2021-11-07T00:00:00",
          "2021-11-08T00:00:00"
         ],
         "y": [
          61895.19,
          61348.61,
          60942.87,
          63266.69,
          62946.45,
          61431.86,
          61006,
          61511.3,
          63316.4,
          67606.96
         ]
        },
        {
         "line": {
          "color": "red"
         },
         "mode": "lines",
         "showlegend": false,
         "type": "scatter",
         "x": [
          "2021-11-09T00:00:00",
          "2021-11-10T00:00:00",
          "2021-11-11T00:00:00",
          "2021-11-12T00:00:00",
          "2021-11-13T00:00:00",
          "2021-11-14T00:00:00",
          "2021-11-15T00:00:00",
          "2021-11-16T00:00:00",
          "2021-11-17T00:00:00",
          "2021-11-18T00:00:00",
          "2021-11-19T00:00:00",
          "2021-11-20T00:00:00",
          "2021-11-21T00:00:00",
          "2021-11-22T00:00:00",
          "2021-11-23T00:00:00"
         ],
         "y": [
          67009.98,
          64920.13,
          64831.3,
          64156.08,
          64427,
          65568.39,
          63654.49,
          60106.03,
          60366.96,
          56921.05,
          58069.51,
          59716.29,
          58661.39,
          56268.31,
          57574.23
         ]
        },
        {
         "line": {
          "color": "green"
         },
         "mode": "lines",
         "showlegend": false,
         "type": "scatter",
         "x": [
          "2021-11-24T00:00:00"
         ],
         "y": [
          57165.08
         ]
        },
        {
         "line": {
          "color": "red"
         },
         "mode": "lines",
         "showlegend": false,
         "type": "scatter",
         "x": [
          "2021-11-25T00:00:00",
          "2021-11-26T00:00:00",
          "2021-11-27T00:00:00",
          "2021-11-28T00:00:00",
          "2021-11-29T00:00:00",
          "2021-11-30T00:00:00",
          "2021-12-01T00:00:00",
          "2021-12-02T00:00:00",
          "2021-12-03T00:00:00",
          "2021-12-04T00:00:00",
          "2021-12-05T00:00:00",
          "2021-12-06T00:00:00",
          "2021-12-07T00:00:00",
          "2021-12-08T00:00:00",
          "2021-12-09T00:00:00",
          "2021-12-10T00:00:00",
          "2021-12-11T00:00:00",
          "2021-12-12T00:00:00",
          "2021-12-13T00:00:00",
          "2021-12-14T00:00:00",
          "2021-12-15T00:00:00",
          "2021-12-16T00:00:00",
          "2021-12-17T00:00:00",
          "2021-12-18T00:00:00"
         ],
         "y": [
          58988.21,
          53755.65,
          54738.77,
          57315.73,
          57827.98,
          56975,
          57209.29,
          56513.57,
          53612,
          49135.66,
          49376.6,
          50424.72,
          50577.2,
          50455.61,
          47539.76,
          47136.35,
          49381.15,
          50057.01,
          46679.93,
          48324.04,
          48870.48,
          47624.5,
          46125.33,
          46815.99
         ]
        },
        {
         "line": {
          "color": "green"
         },
         "mode": "lines",
         "showlegend": false,
         "type": "scatter",
         "x": [
          "2021-12-19T00:00:00",
          "2021-12-20T00:00:00",
          "2021-12-21T00:00:00",
          "2021-12-22T00:00:00",
          "2021-12-23T00:00:00"
         ],
         "y": [
          46668.63,
          46898.14,
          48875.15,
          48569.69,
          50817.92
         ]
        },
        {
         "line": {
          "color": "red"
         },
         "mode": "lines",
         "showlegend": false,
         "type": "scatter",
         "x": [
          "2021-12-24T00:00:00",
          "2021-12-25T00:00:00",
          "2021-12-26T00:00:00",
          "2021-12-27T00:00:00",
          "2021-12-28T00:00:00",
          "2021-12-29T00:00:00",
          "2021-12-30T00:00:00",
          "2021-12-31T00:00:00",
          "2022-01-01T00:00:00",
          "2022-01-02T00:00:00",
          "2022-01-03T00:00:00",
          "2022-01-04T00:00:00",
          "2022-01-05T00:00:00",
          "2022-01-06T00:00:00",
          "2022-01-07T00:00:00",
          "2022-01-08T00:00:00",
          "2022-01-09T00:00:00"
         ],
         "y": [
          50808.55,
          50403.64,
          50765.73,
          50707.72,
          47522.03,
          46436.54,
          47095.02,
          46210.56,
          47704.35,
          47280,
          46445.81,
          45833.42,
          43421.69,
          43080.01,
          41553.86,
          41688.05,
          41851.22
         ]
        },
        {
         "line": {
          "color": "green"
         },
         "mode": "lines",
         "showlegend": false,
         "type": "scatter",
         "x": [
          "2022-01-10T00:00:00",
          "2022-01-11T00:00:00",
          "2022-01-12T00:00:00"
         ],
         "y": [
          41801.55,
          42700.68,
          43880.72
         ]
        },
        {
         "line": {
          "color": "red"
         },
         "mode": "lines",
         "showlegend": false,
         "type": "scatter",
         "x": [
          "2022-01-13T00:00:00",
          "2022-01-14T00:00:00",
          "2022-01-15T00:00:00",
          "2022-01-16T00:00:00",
          "2022-01-17T00:00:00",
          "2022-01-18T00:00:00",
          "2022-01-19T00:00:00",
          "2022-01-20T00:00:00",
          "2022-01-21T00:00:00",
          "2022-01-22T00:00:00"
         ],
         "y": [
          42534.32,
          43042.4,
          43070.51,
          43060.66,
          42176.34,
          42337.58,
          41657.89,
          40661.69,
          36425.98,
          35043.73
         ]
        },
        {
         "line": {
          "color": "black"
         },
         "mode": "lines",
         "showlegend": false,
         "type": "scatter",
         "x": [
          "2022-01-23T00:00:00",
          "2022-01-24T00:00:00",
          "2022-01-25T00:00:00"
         ],
         "y": [
          36230.01,
          36648.31,
          36934.26
         ]
        },
        {
         "line": {
          "color": "green"
         },
         "mode": "lines",
         "showlegend": false,
         "type": "scatter",
         "x": [
          "2022-01-26T00:00:00",
          "2022-01-27T00:00:00",
          "2022-01-28T00:00:00",
          "2022-01-29T00:00:00",
          "2022-01-30T00:00:00"
         ],
         "y": [
          36787.43,
          37131,
          37696.21,
          38150.01,
          37870.01
         ]
        },
        {
         "line": {
          "color": "black"
         },
         "mode": "lines",
         "showlegend": false,
         "type": "scatter",
         "x": [
          "2022-01-31T00:00:00",
          "2022-02-01T00:00:00",
          "2022-02-02T00:00:00"
         ],
         "y": [
          38439.04,
          38680.51,
          36892.03
         ]
        },
        {
         "line": {
          "color": "green"
         },
         "mode": "lines",
         "showlegend": false,
         "type": "scatter",
         "x": [
          "2022-02-03T00:00:00",
          "2022-02-04T00:00:00",
          "2022-02-05T00:00:00",
          "2022-02-06T00:00:00",
          "2022-02-07T00:00:00",
          "2022-02-08T00:00:00",
          "2022-02-09T00:00:00",
          "2022-02-10T00:00:00",
          "2022-02-11T00:00:00",
          "2022-02-12T00:00:00",
          "2022-02-13T00:00:00"
         ],
         "y": [
          37289.86,
          41550,
          41374.69,
          42361.35,
          43829.99,
          44021.57,
          44358.08,
          43471.29,
          42366,
          42199.87,
          42041.13
         ]
        },
        {
         "line": {
          "color": "black"
         },
         "mode": "lines",
         "showlegend": false,
         "type": "scatter",
         "x": [
          "2022-02-14T00:00:00",
          "2022-02-15T00:00:00"
         ],
         "y": [
          42525.14,
          44529.6
         ]
        },
        {
         "line": {
          "color": "red"
         },
         "mode": "lines",
         "showlegend": false,
         "type": "scatter",
         "x": [
          "2022-02-16T00:00:00",
          "2022-02-17T00:00:00",
          "2022-02-18T00:00:00",
          "2022-02-19T00:00:00",
          "2022-02-20T00:00:00",
          "2022-02-21T00:00:00"
         ],
         "y": [
          43860.7,
          40491.7,
          39966.8,
          40052.6,
          38368.1,
          36986.4
         ]
        },
        {
         "line": {
          "color": "green"
         },
         "mode": "lines",
         "showlegend": false,
         "type": "scatter",
         "x": [
          "2022-02-22T00:00:00",
          "2022-02-23T00:00:00",
          "2022-02-24T00:00:00",
          "2022-02-25T00:00:00",
          "2022-02-26T00:00:00",
          "2022-02-27T00:00:00",
          "2022-02-28T00:00:00",
          "2022-03-01T00:00:00",
          "2022-03-02T00:00:00",
          "2022-03-03T00:00:00",
          "2022-03-04T00:00:00"
         ],
         "y": [
          38212,
          37227.8,
          38315.1,
          39205.4,
          39099.3,
          37672,
          43155,
          44394.1,
          43885.7,
          42449.5,
          39127.7
         ]
        },
        {
         "line": {
          "color": "red"
         },
         "mode": "lines",
         "showlegend": false,
         "type": "scatter",
         "x": [
          "2022-03-05T00:00:00"
         ],
         "y": [
          39375.1
         ]
        },
        {
         "line": {
          "color": "green"
         },
         "mode": "lines",
         "showlegend": false,
         "type": "scatter",
         "x": [
          "2022-03-06T00:00:00",
          "2022-03-07T00:00:00",
          "2022-03-08T00:00:00",
          "2022-03-09T00:00:00",
          "2022-03-10T00:00:00",
          "2022-03-11T00:00:00"
         ],
         "y": [
          38401.1,
          37963.8,
          38709.9,
          41937.5,
          39407.2,
          38713
         ]
        },
        {
         "line": {
          "color": "red"
         },
         "mode": "lines",
         "showlegend": false,
         "type": "scatter",
         "x": [
          "2022-03-12T00:00:00"
         ],
         "y": [
          38792.6
         ]
        },
        {
         "line": {
          "color": "green"
         },
         "mode": "lines",
         "showlegend": false,
         "type": "scatter",
         "x": [
          "2022-03-13T00:00:00",
          "2022-03-14T00:00:00",
          "2022-03-15T00:00:00",
          "2022-03-16T00:00:00",
          "2022-03-17T00:00:00",
          "2022-03-18T00:00:00",
          "2022-03-19T00:00:00",
          "2022-03-20T00:00:00",
          "2022-03-21T00:00:00",
          "2022-03-22T00:00:00",
          "2022-03-23T00:00:00",
          "2022-03-24T00:00:00",
          "2022-03-25T00:00:00",
          "2022-03-26T00:00:00",
          "2022-03-27T00:00:00",
          "2022-03-28T00:00:00",
          "2022-03-29T00:00:00"
         ],
         "y": [
          37743.7,
          39653.8,
          39271,
          41105.8,
          40898.1,
          41751.5,
          42188.2,
          41261,
          40982,
          42349.8,
          42867.9,
          43973.4,
          44290.6,
          44489.2,
          46820.8,
          47121.9,
          47418.5
         ]
        },
        {
         "line": {
          "color": "black"
         },
         "mode": "lines",
         "showlegend": false,
         "type": "scatter",
         "x": [
          "2022-03-30T00:00:00",
          "2022-03-31T00:00:00",
          "2022-04-01T00:00:00"
         ],
         "y": [
          47053.2,
          45506,
          46266.2
         ]
        },
        {
         "line": {
          "color": "green"
         },
         "mode": "lines",
         "showlegend": false,
         "type": "scatter",
         "x": [
          "2022-04-02T00:00:00"
         ],
         "y": [
          45794.6
         ]
        },
        {
         "line": {
          "color": "black"
         },
         "mode": "lines",
         "showlegend": false,
         "type": "scatter",
         "x": [
          "2022-04-03T00:00:00",
          "2022-04-04T00:00:00"
         ],
         "y": [
          46392.4,
          46580.9
         ]
        },
        {
         "line": {
          "color": "red"
         },
         "mode": "lines",
         "showlegend": false,
         "type": "scatter",
         "x": [
          "2022-04-05T00:00:00",
          "2022-04-06T00:00:00",
          "2022-04-07T00:00:00",
          "2022-04-08T00:00:00",
          "2022-04-09T00:00:00",
          "2022-04-10T00:00:00",
          "2022-04-11T00:00:00",
          "2022-04-12T00:00:00",
          "2022-04-13T00:00:00",
          "2022-04-14T00:00:00",
          "2022-04-15T00:00:00",
          "2022-04-16T00:00:00",
          "2022-04-17T00:00:00",
          "2022-04-18T00:00:00",
          "2022-04-19T00:00:00",
          "2022-04-20T00:00:00",
          "2022-04-21T00:00:00",
          "2022-04-22T00:00:00",
          "2022-04-23T00:00:00",
          "2022-04-24T00:00:00",
          "2022-04-25T00:00:00",
          "2022-04-26T00:00:00",
          "2022-04-27T00:00:00",
          "2022-04-28T00:00:00",
          "2022-04-29T00:00:00",
          "2022-04-30T00:00:00",
          "2022-05-01T00:00:00",
          "2022-05-02T00:00:00"
         ],
         "y": [
          45477.4,
          43159.7,
          43417.1,
          42229.2,
          42727.7,
          42140.4,
          39505.6,
          40060.7,
          41129.8,
          39915.9,
          40529.5,
          40361,
          39649.1,
          40785.6,
          41472.9,
          41327.7,
          40449.8,
          39674.2,
          39415.1,
          39433.4,
          40411,
          38093.7,
          39209,
          39732.5,
          38572.2,
          37614.5,
          38440.5,
          38525.6
         ]
        },
        {
         "line": {
          "color": "green"
         },
         "mode": "lines",
         "showlegend": false,
         "type": "scatter",
         "x": [
          "2022-05-03T00:00:00"
         ],
         "y": [
          37712.9
         ]
        },
        {
         "line": {
          "color": "red"
         },
         "mode": "lines",
         "showlegend": false,
         "type": "scatter",
         "x": [
          "2022-05-04T00:00:00",
          "2022-05-05T00:00:00",
          "2022-05-06T00:00:00",
          "2022-05-07T00:00:00",
          "2022-05-08T00:00:00",
          "2022-05-09T00:00:00",
          "2022-05-10T00:00:00",
          "2022-05-11T00:00:00",
          "2022-05-12T00:00:00"
         ],
         "y": [
          39684,
          36534.7,
          35995.3,
          35466.7,
          34032,
          30056.6,
          31002.1,
          29074.7,
          29020.7
         ]
        },
        {
         "line": {
          "color": "green"
         },
         "mode": "lines",
         "showlegend": false,
         "type": "scatter",
         "x": [
          "2022-05-13T00:00:00",
          "2022-05-14T00:00:00",
          "2022-05-15T00:00:00"
         ],
         "y": [
          29274.3,
          30079.8,
          31324.4
         ]
        },
        {
         "line": {
          "color": "red"
         },
         "mode": "lines",
         "showlegend": false,
         "type": "scatter",
         "x": [
          "2022-05-16T00:00:00",
          "2022-05-17T00:00:00",
          "2022-05-18T00:00:00",
          "2022-05-19T00:00:00",
          "2022-05-20T00:00:00",
          "2022-05-21T00:00:00",
          "2022-05-22T00:00:00",
          "2022-05-23T00:00:00",
          "2022-05-24T00:00:00",
          "2022-05-25T00:00:00",
          "2022-05-26T00:00:00",
          "2022-05-27T00:00:00"
         ],
         "y": [
          29866.7,
          30437,
          28700.6,
          30319.9,
          29188.9,
          29427.4,
          30284,
          29097.7,
          29643.1,
          29536.7,
          29194,
          28623.2
         ]
        },
        {
         "line": {
          "color": "green"
         },
         "mode": "lines",
         "showlegend": false,
         "type": "scatter",
         "x": [
          "2022-05-28T00:00:00",
          "2022-05-29T00:00:00",
          "2022-05-30T00:00:00",
          "2022-05-31T00:00:00"
         ],
         "y": [
          29018.8,
          29452.8,
          31726.5,
          31797.8
         ]
        },
        {
         "line": {
          "color": "red"
         },
         "mode": "lines",
         "showlegend": false,
         "type": "scatter",
         "x": [
          "2022-06-01T00:00:00",
          "2022-06-02T00:00:00",
          "2022-06-03T00:00:00",
          "2022-06-04T00:00:00",
          "2022-06-05T00:00:00",
          "2022-06-06T00:00:00",
          "2022-06-07T00:00:00",
          "2022-06-08T00:00:00",
          "2022-06-09T00:00:00",
          "2022-06-10T00:00:00",
          "2022-06-11T00:00:00",
          "2022-06-12T00:00:00",
          "2022-06-13T00:00:00",
          "2022-06-14T00:00:00",
          "2022-06-15T00:00:00",
          "2022-06-16T00:00:00",
          "2022-06-17T00:00:00",
          "2022-06-18T00:00:00"
         ],
         "y": [
          29796.9,
          30437.1,
          29682.8,
          29848.4,
          29909.9,
          31361.2,
          31118.1,
          30192.5,
          30093.3,
          29077.7,
          28416.7,
          26564.7,
          22471.5,
          22122.7,
          22567.5,
          20387.4,
          20457.3,
          18959.7
         ]
        },
        {
         "line": {
          "color": "green"
         },
         "mode": "lines",
         "showlegend": false,
         "type": "scatter",
         "x": [
          "2022-06-19T00:00:00",
          "2022-06-20T00:00:00",
          "2022-06-21T00:00:00",
          "2022-06-22T00:00:00"
         ],
         "y": [
          20564.2,
          20570.1,
          20713.1,
          19977.4
         ]
        },
        {
         "line": {
          "color": "black"
         },
         "mode": "lines",
         "showlegend": false,
         "type": "scatter",
         "x": [
          "2022-06-23T00:00:00",
          "2022-06-24T00:00:00",
          "2022-06-25T00:00:00"
         ],
         "y": [
          21096.6,
          21231.2,
          21481.9
         ]
        },
        {
         "line": {
          "color": "red"
         },
         "mode": "lines",
         "showlegend": false,
         "type": "scatter",
         "x": [
          "2022-06-26T00:00:00",
          "2022-06-27T00:00:00",
          "2022-06-28T00:00:00",
          "2022-06-29T00:00:00",
          "2022-06-30T00:00:00",
          "2022-07-01T00:00:00",
          "2022-07-02T00:00:00"
         ],
         "y": [
          21029.1,
          20730,
          20268.6,
          20109.9,
          19923.5,
          19272,
          19240.9
         ]
        },
        {
         "line": {
          "color": "black"
         },
         "mode": "lines",
         "showlegend": false,
         "type": "scatter",
         "x": [
          "2022-07-03T00:00:00",
          "2022-07-04T00:00:00"
         ],
         "y": [
          19305.9,
          20226.6
         ]
        },
        {
         "line": {
          "color": "green"
         },
         "mode": "lines",
         "showlegend": false,
         "type": "scatter",
         "x": [
          "2022-07-05T00:00:00"
         ],
         "y": [
          20170
         ]
        },
        {
         "line": {
          "color": "black"
         },
         "mode": "lines",
         "showlegend": false,
         "type": "scatter",
         "x": [
          "2022-07-06T00:00:00",
          "2022-07-07T00:00:00"
         ],
         "y": [
          20554.1,
          21613.4
         ]
        },
        {
         "line": {
          "color": "red"
         },
         "mode": "lines",
         "showlegend": false,
         "type": "scatter",
         "x": [
          "2022-07-08T00:00:00",
          "2022-07-09T00:00:00",
          "2022-07-10T00:00:00",
          "2022-07-11T00:00:00",
          "2022-07-12T00:00:00"
         ],
         "y": [
          21587.9,
          21580,
          20853.8,
          19954.3,
          19322.9
         ]
        },
        {
         "line": {
          "color": "green"
         },
         "mode": "lines",
         "showlegend": false,
         "type": "scatter",
         "x": [
          "2022-07-13T00:00:00",
          "2022-07-14T00:00:00",
          "2022-07-15T00:00:00",
          "2022-07-16T00:00:00",
          "2022-07-17T00:00:00",
          "2022-07-18T00:00:00",
          "2022-07-19T00:00:00",
          "2022-07-20T00:00:00",
          "2022-07-21T00:00:00",
          "2022-07-22T00:00:00",
          "2022-07-23T00:00:00"
         ],
         "y": [
          20220.1,
          20578.6,
          20823.1,
          21183.5,
          20794.4,
          22423.9,
          23385.9,
          23221.5,
          23144.5,
          22675.1,
          22440.2
         ]
        },
        {
         "line": {
          "color": "red"
         },
         "mode": "lines",
         "showlegend": false,
         "type": "scatter",
         "x": [
          "2022-07-24T00:00:00"
         ],
         "y": [
          22570.6
         ]
        },
        {
         "line": {
          "color": "green"
         },
         "mode": "lines",
         "showlegend": false,
         "type": "scatter",
         "x": [
          "2022-07-25T00:00:00",
          "2022-07-26T00:00:00",
          "2022-07-27T00:00:00",
          "2022-07-28T00:00:00",
          "2022-07-29T00:00:00",
          "2022-07-30T00:00:00",
          "2022-07-31T00:00:00",
          "2022-08-01T00:00:00",
          "2022-08-02T00:00:00",
          "2022-08-03T00:00:00",
          "2022-08-04T00:00:00",
          "2022-08-05T00:00:00",
          "2022-08-06T00:00:00",
          "2022-08-07T00:00:00",
          "2022-08-08T00:00:00",
          "2022-08-09T00:00:00",
          "2022-08-10T00:00:00",
          "2022-08-11T00:00:00",
          "2022-08-12T00:00:00",
          "2022-08-13T00:00:00"
         ],
         "y": [
          21300,
          21241,
          22941.1,
          23836.2,
          23771.1,
          23629.9,
          23290.1,
          23257.6,
          22975.1,
          22801.5,
          22608.9,
          23298.1,
          22943.3,
          23167.8,
          23804.4,
          23140.2,
          23940.9,
          23917.2,
          24387.5,
          24429
         ]
        },
        {
         "line": {
          "color": "red"
         },
         "mode": "lines",
         "showlegend": false,
         "type": "scatter",
         "x": [
          "2022-08-14T00:00:00",
          "2022-08-15T00:00:00",
          "2022-08-16T00:00:00",
          "2022-08-17T00:00:00",
          "2022-08-18T00:00:00",
          "2022-08-19T00:00:00",
          "2022-08-20T00:00:00",
          "2022-08-21T00:00:00"
         ],
         "y": [
          24294.1,
          24085.2,
          23843,
          23333.1,
          23185.1,
          20824.9,
          21127.8,
          21505.6
         ]
        },
        {
         "line": {
          "color": "green"
         },
         "mode": "lines",
         "showlegend": false,
         "type": "scatter",
         "x": [
          "2022-08-22T00:00:00"
         ],
         "y": [
          21387
         ]
        },
        {
         "line": {
          "color": "red"
         },
         "mode": "lines",
         "showlegend": false,
         "type": "scatter",
         "x": [
          "2022-08-23T00:00:00",
          "2022-08-24T00:00:00",
          "2022-08-25T00:00:00",
          "2022-08-26T00:00:00",
          "2022-08-27T00:00:00",
          "2022-08-28T00:00:00",
          "2022-08-29T00:00:00",
          "2022-08-30T00:00:00",
          "2022-08-31T00:00:00",
          "2022-09-01T00:00:00",
          "2022-09-02T00:00:00",
          "2022-09-03T00:00:00",
          "2022-09-04T00:00:00",
          "2022-09-05T00:00:00",
          "2022-09-06T00:00:00"
         ],
         "y": [
          21518.2,
          21354.9,
          21548.3,
          20228.7,
          20023.9,
          19547.5,
          20275.5,
          19803.1,
          20041.5,
          20122.5,
          19941,
          19820.7,
          19992.7,
          19784.9,
          18781.5
         ]
        },
        {
         "line": {
          "color": "green"
         },
         "mode": "lines",
         "showlegend": false,
         "type": "scatter",
         "x": [
          "2022-09-07T00:00:00",
          "2022-09-08T00:00:00",
          "2022-09-09T00:00:00",
          "2022-09-10T00:00:00",
          "2022-09-11T00:00:00",
          "2022-09-12T00:00:00"
         ],
         "y": [
          19287,
          19309.3,
          21352,
          21639.5,
          21820.3,
          22386
         ]
        },
        {
         "line": {
          "color": "red"
         },
         "mode": "lines",
         "showlegend": false,
         "type": "scatter",
         "x": [
          "2022-09-13T00:00:00",
          "2022-09-14T00:00:00",
          "2022-09-15T00:00:00",
          "2022-09-16T00:00:00",
          "2022-09-17T00:00:00",
          "2022-09-18T00:00:00",
          "2022-09-19T00:00:00",
          "2022-09-20T00:00:00",
          "2022-09-21T00:00:00",
          "2022-09-22T00:00:00",
          "2022-09-23T00:00:00",
          "2022-09-24T00:00:00",
          "2022-09-25T00:00:00",
          "2022-09-26T00:00:00"
         ],
         "y": [
          20162.5,
          20217,
          19690.8,
          19792.5,
          20102,
          19404.5,
          19528.6,
          18866.8,
          18447.5,
          19392.5,
          19280.7,
          18911,
          18799.7,
          19216.3
         ]
        },
        {
         "line": {
          "color": "green"
         },
         "mode": "lines",
         "showlegend": false,
         "type": "scatter",
         "x": [
          "2022-09-27T00:00:00"
         ],
         "y": [
          19070.1
         ]
        },
        {
         "line": {
          "color": "red"
         },
         "mode": "lines",
         "showlegend": false,
         "type": "scatter",
         "x": [
          "2022-09-28T00:00:00",
          "2022-09-29T00:00:00",
          "2022-09-30T00:00:00",
          "2022-10-01T00:00:00",
          "2022-10-02T00:00:00"
         ],
         "y": [
          19407.3,
          19582.5,
          19411.7,
          19304,
          19049.4
         ]
        },
        {
         "line": {
          "color": "green"
         },
         "mode": "lines",
         "showlegend": false,
         "type": "scatter",
         "x": [
          "2022-10-03T00:00:00",
          "2022-10-04T00:00:00"
         ],
         "y": [
          19622,
          20333
         ]
        },
        {
         "line": {
          "color": "red"
         },
         "mode": "lines",
         "showlegend": false,
         "type": "scatter",
         "x": [
          "2022-10-05T00:00:00",
          "2022-10-06T00:00:00",
          "2022-10-07T00:00:00",
          "2022-10-08T00:00:00",
          "2022-10-09T00:00:00",
          "2022-10-10T00:00:00",
          "2022-10-11T00:00:00",
          "2022-10-12T00:00:00",
          "2022-10-13T00:00:00",
          "2022-10-14T00:00:00",
          "2022-10-15T00:00:00",
          "2022-10-16T00:00:00",
          "2022-10-17T00:00:00",
          "2022-10-18T00:00:00",
          "2022-10-19T00:00:00",
          "2022-10-20T00:00:00"
         ],
         "y": [
          20150,
          19954,
          19520.9,
          19406.2,
          19430,
          19124,
          19055,
          19148,
          19365.5,
          19164.6,
          19060.4,
          19251.9,
          19540.6,
          19320.9,
          19116.7,
          19034.7
         ]
        },
        {
         "line": {
          "color": "green"
         },
         "mode": "lines",
         "showlegend": false,
         "type": "scatter",
         "x": [
          "2022-10-21T00:00:00",
          "2022-10-22T00:00:00",
          "2022-10-23T00:00:00",
          "2022-10-24T00:00:00",
          "2022-10-25T00:00:00",
          "2022-10-26T00:00:00",
          "2022-10-27T00:00:00"
         ],
         "y": [
          19150.9,
          19195.1,
          19560.7,
          19318.1,
          20068.3,
          20758.3,
          20285.5
         ]
        },
        {
         "line": {
          "color": "red"
         },
         "mode": "lines",
         "showlegend": false,
         "type": "scatter",
         "x": [
          "2022-10-28T00:00:00",
          "2022-10-29T00:00:00",
          "2022-10-30T00:00:00",
          "2022-10-31T00:00:00",
          "2022-11-01T00:00:00",
          "2022-11-02T00:00:00",
          "2022-11-03T00:00:00",
          "2022-11-04T00:00:00",
          "2022-11-05T00:00:00",
          "2022-11-06T00:00:00",
          "2022-11-07T00:00:00",
          "2022-11-08T00:00:00",
          "2022-11-09T00:00:00",
          "2022-11-10T00:00:00",
          "2022-11-11T00:00:00",
          "2022-11-12T00:00:00",
          "2022-11-13T00:00:00",
          "2022-11-14T00:00:00",
          "2022-11-15T00:00:00",
          "2022-11-16T00:00:00",
          "2022-11-17T00:00:00",
          "2022-11-18T00:00:00",
          "2022-11-19T00:00:00",
          "2022-11-20T00:00:00",
          "2022-11-21T00:00:00"
         ],
         "y": [
          20582.8,
          20796.7,
          20615.6,
          20482,
          20472.1,
          20140.1,
          20199.7,
          21137.6,
          21289.9,
          20900,
          20578.6,
          18534,
          15905,
          17588,
          17058.3,
          16806.9,
          16321.2,
          16605.2,
          16888.3,
          16650.6,
          16682.1,
          16689.7,
          16692.9,
          16272.6,
          15773
         ]
        },
        {
         "line": {
          "color": "black"
         },
         "mode": "lines",
         "showlegend": false,
         "type": "scatter",
         "x": [
          "2022-11-22T00:00:00",
          "2022-11-23T00:00:00"
         ],
         "y": [
          16220.6,
          16595.8
         ]
        },
        {
         "line": {
          "color": "green"
         },
         "mode": "lines",
         "showlegend": false,
         "type": "scatter",
         "x": [
          "2022-11-24T00:00:00",
          "2022-11-25T00:00:00",
          "2022-11-26T00:00:00",
          "2022-11-27T00:00:00",
          "2022-11-28T00:00:00",
          "2022-11-29T00:00:00",
          "2022-11-30T00:00:00"
         ],
         "y": [
          16592.4,
          16516.1,
          16449.2,
          16422.6,
          16204.5,
          16433.2,
          17153.3
         ]
        },
        {
         "line": {
          "color": "black"
         },
         "mode": "lines",
         "showlegend": false,
         "type": "scatter",
         "x": [
          "2022-12-01T00:00:00"
         ],
         "y": [
          16970.5
         ]
        },
        {
         "line": {
          "color": "red"
         },
         "mode": "lines",
         "showlegend": false,
         "type": "scatter",
         "x": [
          "2022-12-02T00:00:00"
         ],
         "y": [
          17083
         ]
        },
        {
         "line": {
          "color": "black"
         },
         "mode": "lines",
         "showlegend": false,
         "type": "scatter",
         "x": [
          "2022-12-03T00:00:00"
         ],
         "y": [
          16879.5
         ]
        },
        {
         "line": {
          "color": "green"
         },
         "mode": "lines",
         "showlegend": false,
         "type": "scatter",
         "x": [
          "2022-12-04T00:00:00"
         ],
         "y": [
          17099.5
         ]
        },
        {
         "line": {
          "color": "black"
         },
         "mode": "lines",
         "showlegend": false,
         "type": "scatter",
         "x": [
          "2022-12-05T00:00:00"
         ],
         "y": [
          16958.3
         ]
        },
        {
         "line": {
          "color": "red"
         },
         "mode": "lines",
         "showlegend": false,
         "type": "scatter",
         "x": [
          "2022-12-06T00:00:00"
         ],
         "y": [
          17078.6
         ]
        },
        {
         "line": {
          "color": "black"
         },
         "mode": "lines",
         "showlegend": false,
         "type": "scatter",
         "x": [
          "2022-12-07T00:00:00"
         ],
         "y": [
          16828
         ]
        },
        {
         "line": {
          "color": "green"
         },
         "mode": "lines",
         "showlegend": false,
         "type": "scatter",
         "x": [
          "2022-12-08T00:00:00",
          "2022-12-09T00:00:00",
          "2022-12-10T00:00:00",
          "2022-12-11T00:00:00"
         ],
         "y": [
          17216,
          17122,
          17120,
          17077.3
         ]
        },
        {
         "line": {
          "color": "black"
         },
         "mode": "lines",
         "showlegend": false,
         "type": "scatter",
         "x": [
          "2022-12-12T00:00:00",
          "2022-12-13T00:00:00",
          "2022-12-14T00:00:00"
         ],
         "y": [
          17200,
          17777.1,
          17803.9
         ]
        },
        {
         "line": {
          "color": "red"
         },
         "mode": "lines",
         "showlegend": false,
         "type": "scatter",
         "x": [
          "2022-12-15T00:00:00",
          "2022-12-16T00:00:00",
          "2022-12-17T00:00:00"
         ],
         "y": [
          17351.8,
          16624.1,
          16768
         ]
        },
        {
         "line": {
          "color": "green"
         },
         "mode": "lines",
         "showlegend": false,
         "type": "scatter",
         "x": [
          "2022-12-18T00:00:00",
          "2022-12-19T00:00:00",
          "2022-12-20T00:00:00",
          "2022-12-21T00:00:00",
          "2022-12-22T00:00:00",
          "2022-12-23T00:00:00",
          "2022-12-24T00:00:00",
          "2022-12-25T00:00:00",
          "2022-12-26T00:00:00"
         ],
         "y": [
          16730.3,
          16429.2,
          16887.2,
          16819.6,
          16815.5,
          16776.4,
          16828.9,
          16824.4,
          16912.9
         ]
        },
        {
         "line": {
          "color": "red"
         },
         "mode": "lines",
         "showlegend": false,
         "type": "scatter",
         "x": [
          "2022-12-27T00:00:00",
          "2022-12-28T00:00:00"
         ],
         "y": [
          16698.2,
          16539
         ]
        },
        {
         "line": {
          "color": "green"
         },
         "mode": "lines",
         "showlegend": false,
         "type": "scatter",
         "x": [
          "2022-12-29T00:00:00",
          "2022-12-30T00:00:00",
          "2022-12-31T00:00:00",
          "2023-01-01T00:00:00",
          "2023-01-02T00:00:00",
          "2023-01-03T00:00:00",
          "2023-01-04T00:00:00",
          "2023-01-05T00:00:00",
          "2023-01-06T00:00:00",
          "2023-01-07T00:00:00",
          "2023-01-08T00:00:00",
          "2023-01-09T00:00:00",
          "2023-01-10T00:00:00",
          "2023-01-11T00:00:00",
          "2023-01-12T00:00:00",
          "2023-01-13T00:00:00",
          "2023-01-14T00:00:00",
          "2023-01-15T00:00:00",
          "2023-01-16T00:00:00",
          "2023-01-17T00:00:00",
          "2023-01-18T00:00:00",
          "2023-01-19T00:00:00",
          "2023-01-20T00:00:00",
          "2023-01-21T00:00:00",
          "2023-01-22T00:00:00",
          "2023-01-23T00:00:00",
          "2023-01-24T00:00:00",
          "2023-01-25T00:00:00",
          "2023-01-26T00:00:00",
          "2023-01-27T00:00:00",
          "2023-01-28T00:00:00",
          "2023-01-29T00:00:00"
         ],
         "y": [
          16630.3,
          16601.2,
          16537.6,
          16610.3,
          16666,
          16667.2,
          16842.1,
          16823.8,
          16943.8,
          16936.5,
          17124.7,
          17169.7,
          17428.8,
          17935.7,
          18838,
          19924.2,
          20962.8,
          20882.7,
          21188.3,
          21130.9,
          20680,
          21068.3,
          22661.1,
          22781.9,
          22704.6,
          22913.1,
          22627.4,
          23060.6,
          23001.9,
          23068,
          23015.9,
          23740.3
         ]
        },
        {
         "line": {
          "color": "red"
         },
         "mode": "lines",
         "showlegend": false,
         "type": "scatter",
         "x": [
          "2023-01-30T00:00:00",
          "2023-01-31T00:00:00",
          "2023-02-01T00:00:00",
          "2023-02-02T00:00:00",
          "2023-02-03T00:00:00",
          "2023-02-04T00:00:00",
          "2023-02-05T00:00:00",
          "2023-02-06T00:00:00",
          "2023-02-07T00:00:00",
          "2023-02-08T00:00:00",
          "2023-02-09T00:00:00",
          "2023-02-10T00:00:00"
         ],
         "y": [
          22819.9,
          23119.4,
          23730,
          23493.1,
          23424.7,
          23322.6,
          22929.2,
          22757.7,
          23234.1,
          22955.9,
          21793.4,
          21618.6
         ]
        },
        {
         "line": {
          "color": "black"
         },
         "mode": "lines",
         "showlegend": false,
         "type": "scatter",
         "x": [
          "2023-02-11T00:00:00"
         ],
         "y": [
          21851.3
         ]
        },
        {
         "line": {
          "color": "green"
         },
         "mode": "lines",
         "showlegend": false,
         "type": "scatter",
         "x": [
          "2023-02-12T00:00:00",
          "2023-02-13T00:00:00",
          "2023-02-14T00:00:00",
          "2023-02-15T00:00:00",
          "2023-02-16T00:00:00",
          "2023-02-17T00:00:00",
          "2023-02-18T00:00:00",
          "2023-02-19T00:00:00"
         ],
         "y": [
          21771.1,
          21766.2,
          22187.4,
          24332.6,
          23526.6,
          24581.5,
          24636.9,
          24265.9
         ]
        },
        {
         "line": {
          "color": "black"
         },
         "mode": "lines",
         "showlegend": false,
         "type": "scatter",
         "x": [
          "2023-02-20T00:00:00"
         ],
         "y": [
          24849.9
         ]
        },
        {
         "line": {
          "color": "red"
         },
         "mode": "lines",
         "showlegend": false,
         "type": "scatter",
         "x": [
          "2023-02-21T00:00:00",
          "2023-02-22T00:00:00",
          "2023-02-23T00:00:00",
          "2023-02-24T00:00:00",
          "2023-02-25T00:00:00",
          "2023-02-26T00:00:00"
         ],
         "y": [
          24443.4,
          24171.3,
          23928.8,
          23175.6,
          23146.2,
          23545.3
         ]
        },
        {
         "line": {
          "color": "black"
         },
         "mode": "lines",
         "showlegend": false,
         "type": "scatter",
         "x": [
          "2023-02-27T00:00:00",
          "2023-02-28T00:00:00",
          "2023-03-01T00:00:00"
         ],
         "y": [
          23480,
          23129.6,
          23619.8
         ]
        },
        {
         "line": {
          "color": "red"
         },
         "mode": "lines",
         "showlegend": false,
         "type": "scatter",
         "x": [
          "2023-03-02T00:00:00",
          "2023-03-03T00:00:00",
          "2023-03-04T00:00:00",
          "2023-03-05T00:00:00"
         ],
         "y": [
          23457.1,
          22342.8,
          22335.7,
          22419.4
         ]
        },
        {
         "line": {
          "color": "black"
         },
         "mode": "lines",
         "showlegend": false,
         "type": "scatter",
         "x": [
          "2023-03-06T00:00:00",
          "2023-03-07T00:00:00",
          "2023-03-08T00:00:00",
          "2023-03-09T00:00:00",
          "2023-03-10T00:00:00"
         ],
         "y": [
          22397.1,
          22187.1,
          21695.4,
          20348.3,
          20140.3
         ]
        },
        {
         "line": {
          "color": "green"
         },
         "mode": "lines",
         "showlegend": false,
         "type": "scatter",
         "x": [
          "2023-03-11T00:00:00",
          "2023-03-12T00:00:00",
          "2023-03-13T00:00:00",
          "2023-03-14T00:00:00",
          "2023-03-15T00:00:00",
          "2023-03-16T00:00:00",
          "2023-03-17T00:00:00",
          "2023-03-18T00:00:00",
          "2023-03-19T00:00:00",
          "2023-03-20T00:00:00",
          "2023-03-21T00:00:00",
          "2023-03-22T00:00:00",
          "2023-03-23T00:00:00",
          "2023-03-24T00:00:00"
         ],
         "y": [
          20447.3,
          21986.2,
          24119.5,
          24682.5,
          24288,
          24990.4,
          27384,
          26907,
          27955.7,
          27704.1,
          28091.1,
          27233.8,
          28284.1,
          27438.9
         ]
        },
        {
         "line": {
          "color": "red"
         },
         "mode": "lines",
         "showlegend": false,
         "type": "scatter",
         "x": [
          "2023-03-25T00:00:00",
          "2023-03-26T00:00:00"
         ],
         "y": [
          27447.3,
          27954.3
         ]
        },
        {
         "line": {
          "color": "green"
         },
         "mode": "lines",
         "showlegend": false,
         "type": "scatter",
         "x": [
          "2023-03-27T00:00:00",
          "2023-03-28T00:00:00",
          "2023-03-29T00:00:00",
          "2023-03-30T00:00:00",
          "2023-03-31T00:00:00"
         ],
         "y": [
          27112,
          27249.7,
          28338.5,
          28015,
          28454.9
         ]
        },
        {
         "line": {
          "color": "red"
         },
         "mode": "lines",
         "showlegend": false,
         "type": "scatter",
         "x": [
          "2023-04-01T00:00:00",
          "2023-04-02T00:00:00",
          "2023-04-03T00:00:00"
         ],
         "y": [
          28443.8,
          28161.2,
          27786.1
         ]
        },
        {
         "line": {
          "color": "green"
         },
         "mode": "lines",
         "showlegend": false,
         "type": "scatter",
         "x": [
          "2023-04-04T00:00:00",
          "2023-04-05T00:00:00",
          "2023-04-06T00:00:00",
          "2023-04-07T00:00:00",
          "2023-04-08T00:00:00",
          "2023-04-09T00:00:00",
          "2023-04-10T00:00:00",
          "2023-04-11T00:00:00",
          "2023-04-12T00:00:00",
          "2023-04-13T00:00:00",
          "2023-04-14T00:00:00"
         ],
         "y": [
          28155.2,
          28154,
          28022.8,
          27890.7,
          27924.9,
          28309.4,
          29623.1,
          30185.1,
          29875,
          30362.7,
          30453.1
         ]
        },
        {
         "line": {
          "color": "red"
         },
         "mode": "lines",
         "showlegend": false,
         "type": "scatter",
         "x": [
          "2023-04-15T00:00:00",
          "2023-04-16T00:00:00",
          "2023-04-17T00:00:00",
          "2023-04-18T00:00:00",
          "2023-04-19T00:00:00",
          "2023-04-20T00:00:00",
          "2023-04-21T00:00:00",
          "2023-04-22T00:00:00"
         ],
         "y": [
          30280.4,
          30286.6,
          29420,
          30365.8,
          28795.1,
          28229.9,
          27252.5,
          27807.2
         ]
        },
        {
         "line": {
          "color": "green"
         },
         "mode": "lines",
         "showlegend": false,
         "type": "scatter",
         "x": [
          "2023-04-23T00:00:00",
          "2023-04-24T00:00:00",
          "2023-04-25T00:00:00",
          "2023-04-26T00:00:00",
          "2023-04-27T00:00:00"
         ],
         "y": [
          27576,
          27497.5,
          28286.7,
          28395.9,
          29459
         ]
        },
        {
         "line": {
          "color": "red"
         },
         "mode": "lines",
         "showlegend": false,
         "type": "scatter",
         "x": [
          "2023-04-28T00:00:00",
          "2023-04-29T00:00:00",
          "2023-04-30T00:00:00",
          "2023-05-01T00:00:00",
          "2023-05-02T00:00:00",
          "2023-05-03T00:00:00"
         ],
         "y": [
          29300,
          29212.7,
          29223,
          28054.4,
          28656.5,
          29018.4
         ]
        },
        {
         "line": {
          "color": "green"
         },
         "mode": "lines",
         "showlegend": false,
         "type": "scatter",
         "x": [
          "2023-05-04T00:00:00"
         ],
         "y": [
          28826
         ]
        },
        {
         "line": {
          "color": "red"
         },
         "mode": "lines",
         "showlegend": false,
         "type": "scatter",
         "x": [
          "2023-05-05T00:00:00",
          "2023-05-06T00:00:00",
          "2023-05-07T00:00:00",
          "2023-05-08T00:00:00",
          "2023-05-09T00:00:00",
          "2023-05-10T00:00:00",
          "2023-05-11T00:00:00",
          "2023-05-12T00:00:00",
          "2023-05-13T00:00:00",
          "2023-05-14T00:00:00",
          "2023-05-15T00:00:00"
         ],
         "y": [
          29491.5,
          28837.8,
          28419.4,
          27659.8,
          27610.2,
          27582.9,
          26956.4,
          26785.1,
          26762.7,
          26901.9,
          27152.5
         ]
        },
        {
         "line": {
          "color": "green"
         },
         "mode": "lines",
         "showlegend": false,
         "type": "scatter",
         "x": [
          "2023-05-16T00:00:00"
         ],
         "y": [
          27024.8
         ]
        },
        {
         "line": {
          "color": "red"
         },
         "mode": "lines",
         "showlegend": false,
         "type": "scatter",
         "x": [
          "2023-05-17T00:00:00",
          "2023-05-18T00:00:00",
          "2023-05-19T00:00:00",
          "2023-05-20T00:00:00",
          "2023-05-21T00:00:00",
          "2023-05-22T00:00:00",
          "2023-05-23T00:00:00",
          "2023-05-24T00:00:00"
         ],
         "y": [
          27395.8,
          26809.3,
          26870.1,
          27089.5,
          26732.8,
          26840.2,
          27209.9,
          26313.8
         ]
        },
        {
         "line": {
          "color": "green"
         },
         "mode": "lines",
         "showlegend": false,
         "type": "scatter",
         "x": [
          "2023-05-25T00:00:00",
          "2023-05-26T00:00:00",
          "2023-05-27T00:00:00",
          "2023-05-28T00:00:00"
         ],
         "y": [
          26461.8,
          26689.9,
          26841.6,
          28055.7
         ]
        },
        {
         "line": {
          "color": "black"
         },
         "mode": "lines",
         "showlegend": false,
         "type": "scatter",
         "x": [
          "2023-05-29T00:00:00",
          "2023-05-30T00:00:00",
          "2023-05-31T00:00:00",
          "2023-06-01T00:00:00",
          "2023-06-02T00:00:00",
          "2023-06-03T00:00:00"
         ],
         "y": [
          27722,
          27680.1,
          27201.1,
          26805.3,
          27227.8,
          27054.9
         ]
        },
        {
         "line": {
          "color": "red"
         },
         "mode": "lines",
         "showlegend": false,
         "type": "scatter",
         "x": [
          "2023-06-04T00:00:00"
         ],
         "y": [
          27102.4
         ]
        },
        {
         "line": {
          "color": "black"
         },
         "mode": "lines",
         "showlegend": false,
         "type": "scatter",
         "x": [
          "2023-06-05T00:00:00"
         ],
         "y": [
          25714.7
         ]
        },
        {
         "line": {
          "color": "green"
         },
         "mode": "lines",
         "showlegend": false,
         "type": "scatter",
         "x": [
          "2023-06-06T00:00:00"
         ],
         "y": [
          27221.5
         ]
        },
        {
         "line": {
          "color": "black"
         },
         "mode": "lines",
         "showlegend": false,
         "type": "scatter",
         "x": [
          "2023-06-07T00:00:00"
         ],
         "y": [
          26325.9
         ]
        },
        {
         "line": {
          "color": "red"
         },
         "mode": "lines",
         "showlegend": false,
         "type": "scatter",
         "x": [
          "2023-06-08T00:00:00",
          "2023-06-09T00:00:00",
          "2023-06-10T00:00:00"
         ],
         "y": [
          26485.9,
          26468.1,
          25826.6
         ]
        },
        {
         "line": {
          "color": "black"
         },
         "mode": "lines",
         "showlegend": false,
         "type": "scatter",
         "x": [
          "2023-06-11T00:00:00"
         ],
         "y": [
          25909.9
         ]
        },
        {
         "line": {
          "color": "green"
         },
         "mode": "lines",
         "showlegend": false,
         "type": "scatter",
         "x": [
          "2023-06-12T00:00:00"
         ],
         "y": [
          25894.8
         ]
        },
        {
         "line": {
          "color": "black"
         },
         "mode": "lines",
         "showlegend": false,
         "type": "scatter",
         "x": [
          "2023-06-13T00:00:00",
          "2023-06-14T00:00:00"
         ],
         "y": [
          25918,
          25115.9
         ]
        },
        {
         "line": {
          "color": "green"
         },
         "mode": "lines",
         "showlegend": false,
         "type": "scatter",
         "x": [
          "2023-06-15T00:00:00",
          "2023-06-16T00:00:00",
          "2023-06-17T00:00:00",
          "2023-06-18T00:00:00",
          "2023-06-19T00:00:00",
          "2023-06-20T00:00:00",
          "2023-06-21T00:00:00",
          "2023-06-22T00:00:00",
          "2023-06-23T00:00:00",
          "2023-06-24T00:00:00",
          "2023-06-25T00:00:00",
          "2023-06-26T00:00:00",
          "2023-06-27T00:00:00",
          "2023-06-28T00:00:00",
          "2023-06-29T00:00:00",
          "2023-06-30T00:00:00",
          "2023-07-01T00:00:00",
          "2023-07-02T00:00:00",
          "2023-07-03T00:00:00"
         ],
         "y": [
          25586.1,
          26336,
          26508.9,
          26329.7,
          26828.5,
          28290.6,
          29988.5,
          29875,
          30673.4,
          30524.2,
          30458,
          30260.1,
          30683.2,
          30066.3,
          30439.9,
          30460.2,
          30573.6,
          30612.7,
          31149
         ]
        },
        {
         "line": {
          "color": "red"
         },
         "mode": "lines",
         "showlegend": false,
         "type": "scatter",
         "x": [
          "2023-07-04T00:00:00",
          "2023-07-05T00:00:00",
          "2023-07-06T00:00:00"
         ],
         "y": [
          30756.1,
          30488.4,
          29874.4
         ]
        },
        {
         "line": {
          "color": "green"
         },
         "mode": "lines",
         "showlegend": false,
         "type": "scatter",
         "x": [
          "2023-07-07T00:00:00",
          "2023-07-08T00:00:00",
          "2023-07-09T00:00:00",
          "2023-07-10T00:00:00",
          "2023-07-11T00:00:00",
          "2023-07-12T00:00:00",
          "2023-07-13T00:00:00"
         ],
         "y": [
          30327.9,
          30269.3,
          30147.8,
          30396.9,
          30608.4,
          30368.9,
          31441.7
         ]
        },
        {
         "line": {
          "color": "red"
         },
         "mode": "lines",
         "showlegend": false,
         "type": "scatter",
         "x": [
          "2023-07-14T00:00:00",
          "2023-07-15T00:00:00",
          "2023-07-16T00:00:00",
          "2023-07-17T00:00:00",
          "2023-07-18T00:00:00",
          "2023-07-19T00:00:00"
         ],
         "y": [
          30293.3,
          30276.4,
          30216.8,
          30126.1,
          29845.6,
          29895.5
         ]
        },
        {
         "line": {
          "color": "black"
         },
         "mode": "lines",
         "showlegend": false,
         "type": "scatter",
         "x": [
          "2023-07-20T00:00:00",
          "2023-07-21T00:00:00",
          "2023-07-22T00:00:00",
          "2023-07-23T00:00:00"
         ],
         "y": [
          29791,
          29891.4,
          29783.5,
          30070.8
         ]
        },
        {
         "line": {
          "color": "red"
         },
         "mode": "lines",
         "showlegend": false,
         "type": "scatter",
         "x": [
          "2023-07-24T00:00:00"
         ],
         "y": [
          29163.8
         ]
        },
        {
         "line": {
          "color": "black"
         },
         "mode": "lines",
         "showlegend": false,
         "type": "scatter",
         "x": [
          "2023-07-25T00:00:00",
          "2023-07-26T00:00:00",
          "2023-07-27T00:00:00",
          "2023-07-28T00:00:00",
          "2023-07-29T00:00:00",
          "2023-07-30T00:00:00",
          "2023-07-31T00:00:00",
          "2023-08-01T00:00:00"
         ],
         "y": [
          29216.3,
          29336,
          29209.7,
          29299.9,
          29339.1,
          29271.1,
          29220.8,
          29701.2
         ]
        },
        {
         "line": {
          "color": "red"
         },
         "mode": "lines",
         "showlegend": false,
         "type": "scatter",
         "x": [
          "2023-08-02T00:00:00",
          "2023-08-03T00:00:00"
         ],
         "y": [
          29170.1,
          29180.2
         ]
        },
        {
         "line": {
          "color": "black"
         },
         "mode": "lines",
         "showlegend": false,
         "type": "scatter",
         "x": [
          "2023-08-04T00:00:00",
          "2023-08-05T00:00:00"
         ],
         "y": [
          29101.1,
          29057.7
         ]
        },
        {
         "line": {
          "color": "green"
         },
         "mode": "lines",
         "showlegend": false,
         "type": "scatter",
         "x": [
          "2023-08-06T00:00:00",
          "2023-08-07T00:00:00",
          "2023-08-08T00:00:00"
         ],
         "y": [
          29075.9,
          29202.7,
          29759
         ]
        },
        {
         "line": {
          "color": "red"
         },
         "mode": "lines",
         "showlegend": false,
         "type": "scatter",
         "x": [
          "2023-08-09T00:00:00",
          "2023-08-10T00:00:00",
          "2023-08-11T00:00:00",
          "2023-08-12T00:00:00",
          "2023-08-13T00:00:00",
          "2023-08-14T00:00:00",
          "2023-08-15T00:00:00",
          "2023-08-16T00:00:00",
          "2023-08-17T00:00:00",
          "2023-08-18T00:00:00",
          "2023-08-19T00:00:00",
          "2023-08-20T00:00:00",
          "2023-08-21T00:00:00",
          "2023-08-22T00:00:00",
          "2023-08-23T00:00:00",
          "2023-08-24T00:00:00",
          "2023-08-25T00:00:00",
          "2023-08-26T00:00:00",
          "2023-08-27T00:00:00",
          "2023-08-28T00:00:00",
          "2023-08-29T00:00:00",
          "2023-08-30T00:00:00",
          "2023-08-31T00:00:00",
          "2023-09-01T00:00:00",
          "2023-09-02T00:00:00",
          "2023-09-03T00:00:00",
          "2023-09-04T00:00:00",
          "2023-09-05T00:00:00",
          "2023-09-06T00:00:00",
          "2023-09-07T00:00:00",
          "2023-09-08T00:00:00",
          "2023-09-09T00:00:00",
          "2023-09-10T00:00:00",
          "2023-09-11T00:00:00"
         ],
         "y": [
          29572.8,
          29443.7,
          29415.5,
          29420.7,
          29293.3,
          29419.5,
          29188.8,
          28714.4,
          26609.7,
          26042.1,
          26088.3,
          26175.9,
          26115.4,
          26044.4,
          26419.2,
          26164.6,
          26051.7,
          26004.3,
          26087.7,
          26106.5,
          27700.1,
          27290.4,
          25928,
          25795.6,
          25855.8,
          25962.1,
          25814,
          25779.7,
          25747.4,
          26240.7,
          25899.8,
          25892.6,
          25828.4,
          25150.4
         ]
        },
        {
         "line": {
          "color": "green"
         },
         "mode": "lines",
         "showlegend": false,
         "type": "scatter",
         "x": [
          "2023-09-12T00:00:00",
          "2023-09-13T00:00:00",
          "2023-09-14T00:00:00",
          "2023-09-15T00:00:00",
          "2023-09-16T00:00:00",
          "2023-09-17T00:00:00",
          "2023-09-18T00:00:00",
          "2023-09-19T00:00:00"
         ],
         "y": [
          25825.8,
          26209.9,
          26510.3,
          26591.1,
          26546.9,
          26514.2,
          26749.9,
          27196
         ]
        },
        {
         "line": {
          "color": "black"
         },
         "mode": "lines",
         "showlegend": false,
         "type": "scatter",
         "x": [
          "2023-09-20T00:00:00",
          "2023-09-21T00:00:00"
         ],
         "y": [
          27107.7,
          26552.6
         ]
        },
        {
         "line": {
          "color": "red"
         },
         "mode": "lines",
         "showlegend": false,
         "type": "scatter",
         "x": [
          "2023-09-22T00:00:00",
          "2023-09-23T00:00:00",
          "2023-09-24T00:00:00",
          "2023-09-25T00:00:00"
         ],
         "y": [
          26566.7,
          26563.1,
          26232.4,
          26290.5
         ]
        },
        {
         "line": {
          "color": "black"
         },
         "mode": "lines",
         "showlegend": false,
         "type": "scatter",
         "x": [
          "2023-09-26T00:00:00"
         ],
         "y": [
          26208.8
         ]
        },
        {
         "line": {
          "color": "green"
         },
         "mode": "lines",
         "showlegend": false,
         "type": "scatter",
         "x": [
          "2023-09-27T00:00:00",
          "2023-09-28T00:00:00",
          "2023-09-29T00:00:00",
          "2023-09-30T00:00:00",
          "2023-10-01T00:00:00",
          "2023-10-02T00:00:00",
          "2023-10-03T00:00:00"
         ],
         "y": [
          26359.6,
          27011.8,
          26890.9,
          26950.9,
          27981.4,
          27477.6,
          27412
         ]
        },
        {
         "line": {
          "color": "red"
         },
         "mode": "lines",
         "showlegend": false,
         "type": "scatter",
         "x": [
          "2023-10-04T00:00:00"
         ],
         "y": [
          27759.8
         ]
        },
        {
         "line": {
          "color": "green"
         },
         "mode": "lines",
         "showlegend": false,
         "type": "scatter",
         "x": [
          "2023-10-05T00:00:00",
          "2023-10-06T00:00:00",
          "2023-10-07T00:00:00"
         ],
         "y": [
          27398.4,
          27916.3,
          27943
         ]
        },
        {
         "line": {
          "color": "red"
         },
         "mode": "lines",
         "showlegend": false,
         "type": "scatter",
         "x": [
          "2023-10-08T00:00:00",
          "2023-10-09T00:00:00",
          "2023-10-10T00:00:00",
          "2023-10-11T00:00:00",
          "2023-10-12T00:00:00"
         ],
         "y": [
          27901.2,
          27578.3,
          27381.2,
          26864.5,
          26744
         ]
        },
        {
         "line": {
          "color": "green"
         },
         "mode": "lines",
         "showlegend": false,
         "type": "scatter",
         "x": [
          "2023-10-13T00:00:00",
          "2023-10-14T00:00:00",
          "2023-10-15T00:00:00",
          "2023-10-16T00:00:00",
          "2023-10-17T00:00:00",
          "2023-10-18T00:00:00",
          "2023-10-19T00:00:00",
          "2023-10-20T00:00:00",
          "2023-10-21T00:00:00",
          "2023-10-22T00:00:00",
          "2023-10-23T00:00:00",
          "2023-10-24T00:00:00",
          "2023-10-25T00:00:00",
          "2023-10-26T00:00:00",
          "2023-10-27T00:00:00",
          "2023-10-28T00:00:00",
          "2023-10-29T00:00:00",
          "2023-10-30T00:00:00",
          "2023-10-31T00:00:00",
          "2023-11-01T00:00:00",
          "2023-11-02T00:00:00",
          "2023-11-03T00:00:00",
          "2023-11-04T00:00:00",
          "2023-11-05T00:00:00",
          "2023-11-06T00:00:00",
          "2023-11-07T00:00:00",
          "2023-11-08T00:00:00",
          "2023-11-09T00:00:00",
          "2023-11-10T00:00:00",
          "2023-11-11T00:00:00",
          "2023-11-12T00:00:00",
          "2023-11-13T00:00:00",
          "2023-11-14T00:00:00",
          "2023-11-15T00:00:00",
          "2023-11-16T00:00:00",
          "2023-11-17T00:00:00",
          "2023-11-18T00:00:00",
          "2023-11-19T00:00:00",
          "2023-11-20T00:00:00"
         ],
         "y": [
          26849.8,
          26836.3,
          27139.8,
          28486.3,
          28381.9,
          28307.1,
          28696.9,
          29653,
          29895.4,
          29981.5,
          33074,
          33917,
          34487.7,
          34154,
          33893.1,
          34086.6,
          34528.6,
          34483.8,
          34651.4,
          35437.4,
          34940.1,
          34700.4,
          35069.7,
          35025.5,
          35057.4,
          35406.5,
          35626.7,
          36719.5,
          37330.4,
          37162.1,
          37085.5,
          36486.2,
          35559,
          37885.6,
          36176,
          36621.9,
          36580.9,
          37375.9,
          37462.5
         ]
        },
        {
         "line": {
          "color": "red"
         },
         "mode": "lines",
         "showlegend": false,
         "type": "scatter",
         "x": [
          "2023-11-21T00:00:00"
         ],
         "y": [
          35737
         ]
        },
        {
         "line": {
          "color": "green"
         },
         "mode": "lines",
         "showlegend": false,
         "type": "scatter",
         "x": [
          "2023-11-22T00:00:00",
          "2023-11-23T00:00:00",
          "2023-11-24T00:00:00",
          "2023-11-25T00:00:00",
          "2023-11-26T00:00:00",
          "2023-11-27T00:00:00",
          "2023-11-28T00:00:00",
          "2023-11-29T00:00:00",
          "2023-11-30T00:00:00",
          "2023-12-01T00:00:00",
          "2023-12-02T00:00:00",
          "2023-12-03T00:00:00",
          "2023-12-04T00:00:00",
          "2023-12-05T00:00:00",
          "2023-12-06T00:00:00",
          "2023-12-07T00:00:00",
          "2023-12-08T00:00:00",
          "2023-12-09T00:00:00"
         ],
         "y": [
          37413.4,
          37294.3,
          37706.3,
          37766.6,
          37437.9,
          37234.3,
          37812.1,
          37837.1,
          37716.8,
          38660,
          39435,
          39979.7,
          41993.1,
          44081.7,
          43774.8,
          43296,
          44209.5,
          43734.3
         ]
        },
        {
         "line": {
          "color": "red"
         },
         "mode": "lines",
         "showlegend": false,
         "type": "scatter",
         "x": [
          "2023-12-10T00:00:00",
          "2023-12-11T00:00:00"
         ],
         "y": [
          43810,
          41271
         ]
        },
        {
         "line": {
          "color": "green"
         },
         "mode": "lines",
         "showlegend": false,
         "type": "scatter",
         "x": [
          "2023-12-12T00:00:00",
          "2023-12-13T00:00:00",
          "2023-12-14T00:00:00",
          "2023-12-15T00:00:00"
         ],
         "y": [
          41515,
          42875,
          43032.4,
          41968
         ]
        },
        {
         "line": {
          "color": "red"
         },
         "mode": "lines",
         "showlegend": false,
         "type": "scatter",
         "x": [
          "2023-12-16T00:00:00"
         ],
         "y": [
          42287.4
         ]
        },
        {
         "line": {
          "color": "green"
         },
         "mode": "lines",
         "showlegend": false,
         "type": "scatter",
         "x": [
          "2023-12-17T00:00:00",
          "2023-12-18T00:00:00",
          "2023-12-19T00:00:00",
          "2023-12-20T00:00:00",
          "2023-12-21T00:00:00",
          "2023-12-22T00:00:00"
         ],
         "y": [
          41396.5,
          42671.7,
          42298.3,
          43708.9,
          43896.3,
          43999.2
         ]
        },
        {
         "line": {
          "color": "black"
         },
         "mode": "lines",
         "showlegend": false,
         "type": "scatter",
         "x": [
          "2023-12-23T00:00:00",
          "2023-12-24T00:00:00"
         ],
         "y": [
          43725.2,
          43008.4
         ]
        },
        {
         "line": {
          "color": "red"
         },
         "mode": "lines",
         "showlegend": false,
         "type": "scatter",
         "x": [
          "2023-12-25T00:00:00",
          "2023-12-26T00:00:00",
          "2023-12-27T00:00:00"
         ],
         "y": [
          43611.9,
          42538.5,
          43453.8
         ]
        },
        {
         "line": {
          "color": "black"
         },
         "mode": "lines",
         "showlegend": false,
         "type": "scatter",
         "x": [
          "2023-12-28T00:00:00",
          "2023-12-29T00:00:00"
         ],
         "y": [
          42600.1,
          42095.1
         ]
        },
        {
         "line": {
          "color": "green"
         },
         "mode": "lines",
         "showlegend": false,
         "type": "scatter",
         "x": [
          "2023-12-30T00:00:00",
          "2023-12-31T00:00:00",
          "2024-01-01T00:00:00",
          "2024-01-02T00:00:00"
         ],
         "y": [
          42174.2,
          42314,
          44230.2,
          44979.8
         ]
        },
        {
         "line": {
          "color": "black"
         },
         "mode": "lines",
         "showlegend": false,
         "type": "scatter",
         "x": [
          "2024-01-03T00:00:00",
          "2024-01-04T00:00:00",
          "2024-01-05T00:00:00"
         ],
         "y": [
          42849.5,
          44143.8,
          44145.4
         ]
        },
        {
         "line": {
          "color": "green"
         },
         "mode": "lines",
         "showlegend": false,
         "type": "scatter",
         "x": [
          "2024-01-06T00:00:00",
          "2024-01-07T00:00:00",
          "2024-01-08T00:00:00"
         ],
         "y": [
          43956.7,
          43916.9,
          46972.7
         ]
        },
        {
         "line": {
          "color": "black"
         },
         "mode": "lines",
         "showlegend": false,
         "type": "scatter",
         "x": [
          "2024-01-09T00:00:00"
         ],
         "y": [
          46114
         ]
        },
        {
         "line": {
          "color": "red"
         },
         "mode": "lines",
         "showlegend": false,
         "type": "scatter",
         "x": [
          "2024-01-10T00:00:00",
          "2024-01-11T00:00:00",
          "2024-01-12T00:00:00",
          "2024-01-13T00:00:00"
         ],
         "y": [
          46662.9,
          46337.8,
          42788.9,
          42846.4
         ]
        },
        {
         "line": {
          "color": "black"
         },
         "mode": "lines",
         "showlegend": false,
         "type": "scatter",
         "x": [
          "2024-01-14T00:00:00",
          "2024-01-15T00:00:00",
          "2024-01-16T00:00:00"
         ],
         "y": [
          41734.9,
          42515,
          43133
         ]
        },
        {
         "line": {
          "color": "red"
         },
         "mode": "lines",
         "showlegend": false,
         "type": "scatter",
         "x": [
          "2024-01-17T00:00:00",
          "2024-01-18T00:00:00",
          "2024-01-19T00:00:00",
          "2024-01-20T00:00:00",
          "2024-01-21T00:00:00",
          "2024-01-22T00:00:00"
         ],
         "y": [
          42783.4,
          41323.1,
          41662.2,
          41691.8,
          41580,
          39567
         ]
        },
        {
         "line": {
          "color": "green"
         },
         "mode": "lines",
         "showlegend": false,
         "type": "scatter",
         "x": [
          "2024-01-23T00:00:00",
          "2024-01-24T00:00:00",
          "2024-01-25T00:00:00",
          "2024-01-26T00:00:00",
          "2024-01-27T00:00:00",
          "2024-01-28T00:00:00",
          "2024-01-29T00:00:00",
          "2024-01-30T00:00:00",
          "2024-01-31T00:00:00",
          "2024-02-01T00:00:00",
          "2024-02-02T00:00:00",
          "2024-02-03T00:00:00",
          "2024-02-04T00:00:00",
          "2024-02-05T00:00:00",
          "2024-02-06T00:00:00",
          "2024-02-07T00:00:00",
          "2024-02-08T00:00:00",
          "2024-02-09T00:00:00",
          "2024-02-10T00:00:00",
          "2024-02-11T00:00:00",
          "2024-02-12T00:00:00",
          "2024-02-13T00:00:00",
          "2024-02-14T00:00:00",
          "2024-02-15T00:00:00",
          "2024-02-16T00:00:00",
          "2024-02-17T00:00:00",
          "2024-02-18T00:00:00",
          "2024-02-19T00:00:00",
          "2024-02-20T00:00:00",
          "2024-02-21T00:00:00",
          "2024-02-22T00:00:00",
          "2024-02-23T00:00:00",
          "2024-02-24T00:00:00",
          "2024-02-25T00:00:00",
          "2024-02-26T00:00:00",
          "2024-02-27T00:00:00",
          "2024-02-28T00:00:00",
          "2024-02-29T00:00:00",
          "2024-03-01T00:00:00",
          "2024-03-02T00:00:00",
          "2024-03-03T00:00:00",
          "2024-03-04T00:00:00",
          "2024-03-05T00:00:00",
          "2024-03-06T00:00:00",
          "2024-03-07T00:00:00",
          "2024-03-08T00:00:00",
          "2024-03-09T00:00:00",
          "2024-03-10T00:00:00",
          "2024-03-11T00:00:00",
          "2024-03-12T00:00:00",
          "2024-03-13T00:00:00"
         ],
         "y": [
          39890,
          40078.7,
          39953.3,
          41806.4,
          42102.2,
          42021.2,
          43287.7,
          42918.3,
          42560.5,
          43072.6,
          43182,
          42992.4,
          42570.3,
          42692.9,
          43079.1,
          44326.2,
          45269.1,
          47116.1,
          47732.6,
          48303.4,
          49943.6,
          49696.4,
          51823.2,
          51898.5,
          52148.6,
          51679.4,
          52175.9,
          51813.8,
          52297.4,
          51877.8,
          51316.9,
          50771.9,
          51602.1,
          51764.9,
          54511.6,
          57074.5,
          62487.9,
          61203.3,
          62430.6,
          62039.9,
          63178.5,
          68296.4,
          63747.4,
          66128.1,
          66870,
          68180.2,
          68360.1,
          69001.8,
          72153.8,
          71503.2,
          73127.6
         ]
        },
        {
         "line": {
          "color": "red"
         },
         "mode": "lines",
         "showlegend": false,
         "type": "scatter",
         "x": [
          "2024-03-14T00:00:00",
          "2024-03-15T00:00:00",
          "2024-03-16T00:00:00",
          "2024-03-17T00:00:00",
          "2024-03-18T00:00:00",
          "2024-03-19T00:00:00"
         ],
         "y": [
          71455.5,
          69552.2,
          65351,
          68447.9,
          67660,
          61974.1
         ]
        },
        {
         "line": {
          "color": "black"
         },
         "mode": "lines",
         "showlegend": false,
         "type": "scatter",
         "x": [
          "2024-03-20T00:00:00"
         ],
         "y": [
          67876.4
         ]
        },
        {
         "line": {
          "color": "green"
         },
         "mode": "lines",
         "showlegend": false,
         "type": "scatter",
         "x": [
          "2024-03-21T00:00:00",
          "2024-03-22T00:00:00",
          "2024-03-23T00:00:00",
          "2024-03-24T00:00:00",
          "2024-03-25T00:00:00",
          "2024-03-26T00:00:00",
          "2024-03-27T00:00:00",
          "2024-03-28T00:00:00",
          "2024-03-29T00:00:00",
          "2024-03-30T00:00:00"
         ],
         "y": [
          65539.9,
          63826,
          64020.3,
          67260.9,
          69920.5,
          70044.1,
          69532.6,
          70838.7,
          69903.6,
          69642.1
         ]
        },
        {
         "line": {
          "color": "red"
         },
         "mode": "lines",
         "showlegend": false,
         "type": "scatter",
         "x": [
          "2024-03-31T00:00:00",
          "2024-04-01T00:00:00",
          "2024-04-02T00:00:00",
          "2024-04-03T00:00:00",
          "2024-04-04T00:00:00"
         ],
         "y": [
          71363,
          69700,
          65505.3,
          65971.9,
          68489.9
         ]
        },
        {
         "line": {
          "color": "green"
         },
         "mode": "lines",
         "showlegend": false,
         "type": "scatter",
         "x": [
          "2024-04-05T00:00:00",
          "2024-04-06T00:00:00",
          "2024-04-07T00:00:00",
          "2024-04-08T00:00:00"
         ],
         "y": [
          67825.7,
          68901.6,
          69362.7,
          71678.4
         ]
        },
        {
         "line": {
          "color": "red"
         },
         "mode": "lines",
         "showlegend": false,
         "type": "scatter",
         "x": [
          "2024-04-09T00:00:00",
          "2024-04-10T00:00:00",
          "2024-04-11T00:00:00",
          "2024-04-12T00:00:00",
          "2024-04-13T00:00:00",
          "2024-04-14T00:00:00",
          "2024-04-15T00:00:00",
          "2024-04-16T00:00:00"
         ],
         "y": [
          69189.3,
          70681.7,
          70055.7,
          67136.4,
          63939.7,
          65615.9,
          63392.7,
          63765
         ]
        },
        {
         "line": {
          "color": "black"
         },
         "mode": "lines",
         "showlegend": false,
         "type": "scatter",
         "x": [
          "2024-04-17T00:00:00"
         ],
         "y": [
          61254.5
         ]
        },
        {
         "line": {
          "color": "green"
         },
         "mode": "lines",
         "showlegend": false,
         "type": "scatter",
         "x": [
          "2024-04-18T00:00:00",
          "2024-04-19T00:00:00",
          "2024-04-20T00:00:00",
          "2024-04-21T00:00:00",
          "2024-04-22T00:00:00"
         ],
         "y": [
          63445,
          63787.4,
          64897.2,
          64912.6,
          66778
         ]
        },
        {
         "line": {
          "color": "black"
         },
         "mode": "lines",
         "showlegend": false,
         "type": "scatter",
         "x": [
          "2024-04-23T00:00:00",
          "2024-04-24T00:00:00"
         ],
         "y": [
          66386.3,
          64250
         ]
        },
        {
         "line": {
          "color": "red"
         },
         "mode": "lines",
         "showlegend": false,
         "type": "scatter",
         "x": [
          "2024-04-25T00:00:00",
          "2024-04-26T00:00:00",
          "2024-04-27T00:00:00",
          "2024-04-28T00:00:00",
          "2024-04-29T00:00:00"
         ],
         "y": [
          64478.8,
          63748.8,
          63421,
          63088.3,
          63842.4
         ]
        },
        {
         "line": {
          "color": "black"
         },
         "mode": "lines",
         "showlegend": false,
         "type": "scatter",
         "x": [
          "2024-04-30T00:00:00",
          "2024-05-01T00:00:00"
         ],
         "y": [
          60651.2,
          58307.6
         ]
        },
        {
         "line": {
          "color": "green"
         },
         "mode": "lines",
         "showlegend": false,
         "type": "scatter",
         "x": [
          "2024-05-02T00:00:00",
          "2024-05-03T00:00:00",
          "2024-05-04T00:00:00",
          "2024-05-05T00:00:00",
          "2024-05-06T00:00:00",
          "2024-05-07T00:00:00",
          "2024-05-08T00:00:00"
         ],
         "y": [
          59036.7,
          62853.7,
          63864.2,
          63988,
          63142.8,
          62296,
          61157.9
         ]
        },
        {
         "line": {
          "color": "red"
         },
         "mode": "lines",
         "showlegend": false,
         "type": "scatter",
         "x": [
          "2024-05-09T00:00:00",
          "2024-05-10T00:00:00"
         ],
         "y": [
          63050.1,
          60778.1
         ]
        },
        {
         "line": {
          "color": "green"
         },
         "mode": "lines",
         "showlegend": false,
         "type": "scatter",
         "x": [
          "2024-05-11T00:00:00",
          "2024-05-12T00:00:00",
          "2024-05-13T00:00:00",
          "2024-05-14T00:00:00",
          "2024-05-15T00:00:00",
          "2024-05-16T00:00:00",
          "2024-05-17T00:00:00",
          "2024-05-18T00:00:00",
          "2024-05-19T00:00:00",
          "2024-05-20T00:00:00"
         ],
         "y": [
          60809.2,
          61455.8,
          62912.1,
          61550.5,
          66175.4,
          65217.7,
          66980,
          66884.9,
          66239.4,
          71466.5
         ]
        },
        {
         "line": {
          "color": "black"
         },
         "mode": "lines",
         "showlegend": false,
         "type": "scatter",
         "x": [
          "2024-05-21T00:00:00",
          "2024-05-22T00:00:00",
          "2024-05-23T00:00:00",
          "2024-05-24T00:00:00",
          "2024-05-25T00:00:00"
         ],
         "y": [
          70168.8,
          69219.1,
          67999.9,
          68584.1,
          69314.4
         ]
        },
        {
         "line": {
          "color": "green"
         },
         "mode": "lines",
         "showlegend": false,
         "type": "scatter",
         "x": [
          "2024-05-26T00:00:00"
         ],
         "y": [
          68524.3
         ]
        },
        {
         "line": {
          "color": "black"
         },
         "mode": "lines",
         "showlegend": false,
         "type": "scatter",
         "x": [
          "2024-05-27T00:00:00"
         ],
         "y": [
          69461.6
         ]
        },
        {
         "line": {
          "color": "red"
         },
         "mode": "lines",
         "showlegend": false,
         "type": "scatter",
         "x": [
          "2024-05-28T00:00:00",
          "2024-05-29T00:00:00",
          "2024-05-30T00:00:00"
         ],
         "y": [
          68440.5,
          67686.7,
          68402.5
         ]
        },
        {
         "line": {
          "color": "black"
         },
         "mode": "lines",
         "showlegend": false,
         "type": "scatter",
         "x": [
          "2024-05-31T00:00:00"
         ],
         "y": [
          67577.9
         ]
        },
        {
         "line": {
          "color": "green"
         },
         "mode": "lines",
         "showlegend": false,
         "type": "scatter",
         "x": [
          "2024-06-01T00:00:00",
          "2024-06-02T00:00:00",
          "2024-06-03T00:00:00",
          "2024-06-04T00:00:00",
          "2024-06-05T00:00:00"
         ],
         "y": [
          67799.2,
          67805.9,
          68851.4,
          70580,
          71133.3
         ]
        },
        {
         "line": {
          "color": "red"
         },
         "mode": "lines",
         "showlegend": false,
         "type": "scatter",
         "x": [
          "2024-06-06T00:00:00",
          "2024-06-07T00:00:00",
          "2024-06-08T00:00:00",
          "2024-06-09T00:00:00",
          "2024-06-10T00:00:00",
          "2024-06-11T00:00:00",
          "2024-06-12T00:00:00",
          "2024-06-13T00:00:00",
          "2024-06-14T00:00:00",
          "2024-06-15T00:00:00",
          "2024-06-16T00:00:00",
          "2024-06-17T00:00:00",
          "2024-06-18T00:00:00",
          "2024-06-19T00:00:00",
          "2024-06-20T00:00:00",
          "2024-06-21T00:00:00",
          "2024-06-22T00:00:00",
          "2024-06-23T00:00:00",
          "2024-06-24T00:00:00"
         ],
         "y": [
          70830,
          69377,
          69346.5,
          69667.1,
          69558.7,
          67320.7,
          68270.3,
          66786.9,
          66039.7,
          66213.7,
          66653.6,
          66472.1,
          65150,
          64933.6,
          64854,
          64124,
          64240,
          63194.9,
          60273.6
         ]
        },
        {
         "line": {
          "color": "black"
         },
         "mode": "lines",
         "showlegend": false,
         "type": "scatter",
         "x": [
          "2024-06-25T00:00:00",
          "2024-06-26T00:00:00"
         ],
         "y": [
          61777.8,
          60860.1
         ]
        },
        {
         "line": {
          "color": "red"
         },
         "mode": "lines",
         "showlegend": false,
         "type": "scatter",
         "x": [
          "2024-06-27T00:00:00"
         ],
         "y": [
          61682
         ]
        },
        {
         "line": {
          "color": "black"
         },
         "mode": "lines",
         "showlegend": false,
         "type": "scatter",
         "x": [
          "2024-06-28T00:00:00",
          "2024-06-29T00:00:00",
          "2024-06-30T00:00:00",
          "2024-07-01T00:00:00"
         ],
         "y": [
          60429.8,
          60982.4,
          62766,
          62883.6
         ]
        },
        {
         "line": {
          "color": "red"
         },
         "mode": "lines",
         "showlegend": false,
         "type": "scatter",
         "x": [
          "2024-07-02T00:00:00",
          "2024-07-03T00:00:00",
          "2024-07-04T00:00:00",
          "2024-07-05T00:00:00",
          "2024-07-06T00:00:00",
          "2024-07-07T00:00:00"
         ],
         "y": [
          62123.6,
          60208,
          57045.9,
          56604.9,
          58216,
          55830.9
         ]
        },
        {
         "line": {
          "color": "black"
         },
         "mode": "lines",
         "showlegend": false,
         "type": "scatter",
         "x": [
          "2024-07-08T00:00:00",
          "2024-07-09T00:00:00"
         ],
         "y": [
          56686.4,
          58023.2
         ]
        },
        {
         "line": {
          "color": "green"
         },
         "mode": "lines",
         "showlegend": false,
         "type": "scatter",
         "x": [
          "2024-07-10T00:00:00",
          "2024-07-11T00:00:00",
          "2024-07-12T00:00:00",
          "2024-07-13T00:00:00",
          "2024-07-14T00:00:00",
          "2024-07-15T00:00:00",
          "2024-07-16T00:00:00",
          "2024-07-17T00:00:00",
          "2024-07-18T00:00:00",
          "2024-07-19T00:00:00",
          "2024-07-20T00:00:00",
          "2024-07-21T00:00:00"
         ],
         "y": [
          57707,
          57315.5,
          57870,
          59174,
          60766,
          64680.6,
          65010,
          64055.7,
          63959.9,
          66627.9,
          67095.6,
          68138
         ]
        },
        {
         "line": {
          "color": "black"
         },
         "mode": "lines",
         "showlegend": false,
         "type": "scatter",
         "x": [
          "2024-07-22T00:00:00",
          "2024-07-23T00:00:00",
          "2024-07-24T00:00:00",
          "2024-07-25T00:00:00",
          "2024-07-26T00:00:00"
         ],
         "y": [
          67499.2,
          65916.4,
          65350.8,
          65773,
          67882.5
         ]
        },
        {
         "line": {
          "color": "green"
         },
         "mode": "lines",
         "showlegend": false,
         "type": "scatter",
         "x": [
          "2024-07-27T00:00:00"
         ],
         "y": [
          67873.8
         ]
        },
        {
         "line": {
          "color": "black"
         },
         "mode": "lines",
         "showlegend": false,
         "type": "scatter",
         "x": [
          "2024-07-28T00:00:00"
         ],
         "y": [
          68215.5
         ]
        },
        {
         "line": {
          "color": "red"
         },
         "mode": "lines",
         "showlegend": false,
         "type": "scatter",
         "x": [
          "2024-07-29T00:00:00",
          "2024-07-30T00:00:00",
          "2024-07-31T00:00:00",
          "2024-08-01T00:00:00",
          "2024-08-02T00:00:00",
          "2024-08-03T00:00:00",
          "2024-08-04T00:00:00",
          "2024-08-05T00:00:00"
         ],
         "y": [
          66750,
          66159.3,
          64601.8,
          65328.9,
          61483.7,
          60684.6,
          58144.5,
          54003.1
         ]
        },
        {
         "line": {
          "color": "black"
         },
         "mode": "lines",
         "showlegend": false,
         "type": "scatter",
         "x": [
          "2024-08-06T00:00:00"
         ],
         "y": [
          55991.2
         ]
        },
        {
         "line": {
          "color": "green"
         },
         "mode": "lines",
         "showlegend": false,
         "type": "scatter",
         "x": [
          "2024-08-07T00:00:00",
          "2024-08-08T00:00:00"
         ],
         "y": [
          55102.9,
          61659.8
         ]
        },
        {
         "line": {
          "color": "black"
         },
         "mode": "lines",
         "showlegend": false,
         "type": "scatter",
         "x": [
          "2024-08-09T00:00:00"
         ],
         "y": [
          60808.6
         ]
        },
        {
         "line": {
          "color": "red"
         },
         "mode": "lines",
         "showlegend": false,
         "type": "scatter",
         "x": [
          "2024-08-10T00:00:00",
          "2024-08-11T00:00:00",
          "2024-08-12T00:00:00",
          "2024-08-13T00:00:00",
          "2024-08-14T00:00:00",
          "2024-08-15T00:00:00"
         ],
         "y": [
          60889.9,
          58693.1,
          59323.6,
          60550.5,
          58648.1,
          57511
         ]
        },
        {
         "line": {
          "color": "black"
         },
         "mode": "lines",
         "showlegend": false,
         "type": "scatter",
         "x": [
          "2024-08-16T00:00:00",
          "2024-08-17T00:00:00",
          "2024-08-18T00:00:00",
          "2024-08-19T00:00:00"
         ],
         "y": [
          58854.9,
          59468.5,
          58390,
          59398.5
         ]
        },
        {
         "line": {
          "color": "green"
         },
         "mode": "lines",
         "showlegend": false,
         "type": "scatter",
         "x": [
          "2024-08-20T00:00:00",
          "2024-08-21T00:00:00",
          "2024-08-22T00:00:00"
         ],
         "y": [
          58982.9,
          61120,
          60349.9
         ]
        },
        {
         "line": {
          "color": "black"
         },
         "mode": "lines",
         "showlegend": false,
         "type": "scatter",
         "x": [
          "2024-08-23T00:00:00",
          "2024-08-24T00:00:00",
          "2024-08-25T00:00:00"
         ],
         "y": [
          64019.9,
          64116.5,
          64190.2
         ]
        },
        {
         "line": {
          "color": "red"
         },
         "mode": "lines",
         "showlegend": false,
         "type": "scatter",
         "x": [
          "2024-08-26T00:00:00",
          "2024-08-27T00:00:00",
          "2024-08-28T00:00:00",
          "2024-08-29T00:00:00",
          "2024-08-30T00:00:00",
          "2024-08-31T00:00:00",
          "2024-09-01T00:00:00"
         ],
         "y": [
          62807.6,
          59384.5,
          59010,
          59323.2,
          59096.3,
          58941.9,
          57268.1
         ]
        },
        {
         "line": {
          "color": "black"
         },
         "mode": "lines",
         "showlegend": false,
         "type": "scatter",
         "x": [
          "2024-09-02T00:00:00",
          "2024-09-03T00:00:00"
         ],
         "y": [
          59112.1,
          57451.9
         ]
        },
        {
         "line": {
          "color": "red"
         },
         "mode": "lines",
         "showlegend": false,
         "type": "scatter",
         "x": [
          "2024-09-04T00:00:00",
          "2024-09-05T00:00:00",
          "2024-09-06T00:00:00"
         ],
         "y": [
          57944.8,
          56145.7,
          53927.7
         ]
        },
        {
         "line": {
          "color": "black"
         },
         "mode": "lines",
         "showlegend": false,
         "type": "scatter",
         "x": [
          "2024-09-07T00:00:00",
          "2024-09-08T00:00:00",
          "2024-09-09T00:00:00",
          "2024-09-10T00:00:00"
         ],
         "y": [
          54134.9,
          54839.6,
          57010,
          57609.1
         ]
        },
        {
         "line": {
          "color": "green"
         },
         "mode": "lines",
         "showlegend": false,
         "type": "scatter",
         "x": [
          "2024-09-11T00:00:00",
          "2024-09-12T00:00:00",
          "2024-09-13T00:00:00",
          "2024-09-14T00:00:00",
          "2024-09-15T00:00:00",
          "2024-09-16T00:00:00",
          "2024-09-17T00:00:00",
          "2024-09-18T00:00:00",
          "2024-09-19T00:00:00",
          "2024-09-20T00:00:00",
          "2024-09-21T00:00:00",
          "2024-09-22T00:00:00",
          "2024-09-23T00:00:00",
          "2024-09-24T00:00:00",
          "2024-09-25T00:00:00",
          "2024-09-26T00:00:00",
          "2024-09-27T00:00:00",
          "2024-09-28T00:00:00"
         ],
         "y": [
          57306,
          58097,
          60456.2,
          59964,
          59100.5,
          58187,
          60281,
          61735.3,
          62926.9,
          63175.7,
          63320.6,
          63558.4,
          63302,
          64243.1,
          63118.4,
          65139.2,
          65749.6,
          65822.6
         ]
        },
        {
         "line": {
          "color": "red"
         },
         "mode": "lines",
         "showlegend": false,
         "type": "scatter",
         "x": [
          "2024-09-29T00:00:00",
          "2024-09-30T00:00:00",
          "2024-10-01T00:00:00",
          "2024-10-02T00:00:00"
         ],
         "y": [
          65568.1,
          63309.1,
          60776.8,
          60622.6
         ]
        },
        {
         "line": {
          "color": "green"
         },
         "mode": "lines",
         "showlegend": false,
         "type": "scatter",
         "x": [
          "2024-10-03T00:00:00",
          "2024-10-04T00:00:00",
          "2024-10-05T00:00:00",
          "2024-10-06T00:00:00",
          "2024-10-07T00:00:00",
          "2024-10-08T00:00:00",
          "2024-10-09T00:00:00",
          "2024-10-10T00:00:00",
          "2024-10-11T00:00:00",
          "2024-10-12T00:00:00",
          "2024-10-13T00:00:00",
          "2024-10-14T00:00:00",
          "2024-10-15T00:00:00",
          "2024-10-16T00:00:00",
          "2024-10-17T00:00:00",
          "2024-10-18T00:00:00",
          "2024-10-19T00:00:00",
          "2024-10-20T00:00:00"
         ],
         "y": [
          60727.2,
          62054.4,
          62023.1,
          62789.3,
          62190.7,
          62131.7,
          60606.4,
          60293.2,
          62509,
          63176,
          62839.8,
          66064.9,
          67044.1,
          67592,
          67401.5,
          68407.8,
          68357.1,
          69020.1
         ]
        },
        {
         "line": {
          "color": "red"
         },
         "mode": "lines",
         "showlegend": false,
         "type": "scatter",
         "x": [
          "2024-10-21T00:00:00",
          "2024-10-22T00:00:00"
         ],
         "y": [
          67368.8,
          67406.4
         ]
        },
        {
         "line": {
          "color": "green"
         },
         "mode": "lines",
         "showlegend": false,
         "type": "scatter",
         "x": [
          "2024-10-23T00:00:00",
          "2024-10-24T00:00:00",
          "2024-10-25T00:00:00",
          "2024-10-26T00:00:00",
          "2024-10-27T00:00:00",
          "2024-10-28T00:00:00",
          "2024-10-29T00:00:00",
          "2024-10-30T00:00:00",
          "2024-10-31T00:00:00",
          "2024-11-01T00:00:00",
          "2024-11-02T00:00:00",
          "2024-11-03T00:00:00",
          "2024-11-04T00:00:00",
          "2024-11-05T00:00:00",
          "2024-11-06T00:00:00",
          "2024-11-07T00:00:00",
          "2024-11-08T00:00:00",
          "2024-11-09T00:00:00",
          "2024-11-10T00:00:00",
          "2024-11-11T00:00:00",
          "2024-11-12T00:00:00",
          "2024-11-13T00:00:00",
          "2024-11-14T00:00:00",
          "2024-11-15T00:00:00",
          "2024-11-16T00:00:00",
          "2024-11-17T00:00:00",
          "2024-11-18T00:00:00",
          "2024-11-19T00:00:00",
          "2024-11-20T00:00:00",
          "2024-11-21T00:00:00",
          "2024-11-22T00:00:00",
          "2024-11-23T00:00:00"
         ],
         "y": [
          66647.2,
          68173.8,
          66662.8,
          67071.8,
          67992.6,
          69940,
          72739.5,
          72349,
          70321.9,
          69495.5,
          69366.6,
          68762.5,
          67834.3,
          69353.1,
          75579.9,
          75859.4,
          76482.2,
          76675.1,
          80410,
          88728.9,
          87972,
          90413.3,
          87382.7,
          91074.6,
          90643.3,
          89899.9,
          90507.4,
          92335.9,
          94288,
          98366.8,
          98921.4,
          97725.5
         ]
        },
        {
         "line": {
          "color": "red"
         },
         "mode": "lines",
         "showlegend": false,
         "type": "scatter",
         "x": [
          "2024-11-24T00:00:00",
          "2024-11-25T00:00:00",
          "2024-11-26T00:00:00"
         ],
         "y": [
          97960.4,
          93064,
          92021.4
         ]
        },
        {
         "line": {
          "color": "green"
         },
         "mode": "lines",
         "showlegend": false,
         "type": "scatter",
         "x": [
          "2024-11-27T00:00:00",
          "2024-11-28T00:00:00",
          "2024-11-29T00:00:00",
          "2024-11-30T00:00:00"
         ],
         "y": [
          95905.2,
          95694.4,
          97516.3,
          96475.1
         ]
        },
        {
         "line": {
          "color": "red"
         },
         "mode": "lines",
         "showlegend": false,
         "type": "scatter",
         "x": [
          "2024-12-01T00:00:00"
         ],
         "y": [
          97265.1
         ]
        },
        {
         "line": {
          "color": "green"
         },
         "mode": "lines",
         "showlegend": false,
         "type": "scatter",
         "x": [
          "2024-12-02T00:00:00",
          "2024-12-03T00:00:00",
          "2024-12-04T00:00:00",
          "2024-12-05T00:00:00",
          "2024-12-06T00:00:00",
          "2024-12-07T00:00:00",
          "2024-12-08T00:00:00"
         ],
         "y": [
          95890.5,
          95913.3,
          98669.8,
          97001.5,
          99802.5,
          99899.2,
          101200
         ]
        },
        {
         "line": {
          "color": "red"
         },
         "mode": "lines",
         "showlegend": false,
         "type": "scatter",
         "x": [
          "2024-12-09T00:00:00",
          "2024-12-10T00:00:00"
         ],
         "y": [
          97349.1,
          96602.4
         ]
        },
        {
         "line": {
          "color": "green"
         },
         "mode": "lines",
         "showlegend": false,
         "type": "scatter",
         "x": [
          "2024-12-11T00:00:00",
          "2024-12-12T00:00:00",
          "2024-12-13T00:00:00",
          "2024-12-14T00:00:00",
          "2024-12-15T00:00:00",
          "2024-12-16T00:00:00",
          "2024-12-17T00:00:00"
         ],
         "y": [
          101115.3,
          99982.4,
          101371.9,
          101381,
          104460.4,
          106023.2,
          106074.6
         ]
        },
        {
         "line": {
          "color": "red"
         },
         "mode": "lines",
         "showlegend": false,
         "type": "scatter",
         "x": [
          "2024-12-18T00:00:00",
          "2024-12-19T00:00:00",
          "2024-12-20T00:00:00"
         ],
         "y": [
          100181.1,
          97434.4,
          97764.4
         ]
        },
        {
         "line": {
          "color": "black"
         },
         "mode": "lines",
         "showlegend": false,
         "type": "scatter",
         "x": [
          "2024-12-21T00:00:00",
          "2024-12-22T00:00:00",
          "2024-12-23T00:00:00",
          "2024-12-24T00:00:00",
          "2024-12-25T00:00:00"
         ],
         "y": [
          97261.8,
          95153.5,
          94861.1,
          98627.2,
          99379.7
         ]
        },
        {
         "line": {
          "color": "red"
         },
         "mode": "lines",
         "showlegend": false,
         "type": "scatter",
         "x": [
          "2024-12-26T00:00:00",
          "2024-12-27T00:00:00",
          "2024-12-28T00:00:00"
         ],
         "y": [
          95751,
          94258.9,
          95259.1
         ]
        },
        {
         "line": {
          "color": "black"
         },
         "mode": "lines",
         "showlegend": false,
         "type": "scatter",
         "x": [
          "2024-12-29T00:00:00",
          "2024-12-30T00:00:00",
          "2024-12-31T00:00:00",
          "2025-01-01T00:00:00",
          "2025-01-02T00:00:00",
          "2025-01-03T00:00:00",
          "2025-01-04T00:00:00",
          "2025-01-05T00:00:00",
          "2025-01-06T00:00:00"
         ],
         "y": [
          93700,
          92759.3,
          93548.9,
          94580.9,
          96967.5,
          98145.7,
          98173.2,
          98340.2,
          102180.4
         ]
        },
        {
         "line": {
          "color": "red"
         },
         "mode": "lines",
         "showlegend": false,
         "type": "scatter",
         "x": [
          "2025-01-07T00:00:00",
          "2025-01-08T00:00:00",
          "2025-01-09T00:00:00"
         ],
         "y": [
          96920.3,
          95014.1,
          92505.9
         ]
        },
        {
         "line": {
          "color": "black"
         },
         "mode": "lines",
         "showlegend": false,
         "type": "scatter",
         "x": [
          "2025-01-10T00:00:00"
         ],
         "y": [
          94675.5
         ]
        },
        {
         "line": {
          "color": "green"
         },
         "mode": "lines",
         "showlegend": false,
         "type": "scatter",
         "x": [
          "2025-01-11T00:00:00",
          "2025-01-12T00:00:00",
          "2025-01-13T00:00:00",
          "2025-01-14T00:00:00",
          "2025-01-15T00:00:00",
          "2025-01-16T00:00:00",
          "2025-01-17T00:00:00",
          "2025-01-18T00:00:00",
          "2025-01-19T00:00:00",
          "2025-01-20T00:00:00",
          "2025-01-21T00:00:00"
         ],
         "y": [
          94562.5,
          94499.9,
          94485.3,
          96514.9,
          100460,
          99937.4,
          104042.5,
          104524.3,
          101311.5,
          102247.6,
          106114.5
         ]
        },
        {
         "line": {
          "color": "red"
         },
         "mode": "lines",
         "showlegend": false,
         "type": "scatter",
         "x": [
          "2025-01-22T00:00:00",
          "2025-01-23T00:00:00",
          "2025-01-24T00:00:00",
          "2025-01-25T00:00:00",
          "2025-01-26T00:00:00",
          "2025-01-27T00:00:00",
          "2025-01-28T00:00:00",
          "2025-01-29T00:00:00",
          "2025-01-30T00:00:00",
          "2025-01-31T00:00:00",
          "2025-02-01T00:00:00",
          "2025-02-02T00:00:00",
          "2025-02-03T00:00:00",
          "2025-02-04T00:00:00",
          "2025-02-05T00:00:00",
          "2025-02-06T00:00:00",
          "2025-02-07T00:00:00",
          "2025-02-08T00:00:00",
          "2025-02-09T00:00:00",
          "2025-02-10T00:00:00",
          "2025-02-11T00:00:00"
         ],
         "y": [
          103664.9,
          103864.1,
          104808.1,
          104702,
          102560.1,
          102021.3,
          101279.6,
          103698.2,
          104676.9,
          102379.7,
          100603.6,
          97664.5,
          101293.7,
          97709.9,
          96553.2,
          96515.1,
          96454.5,
          96411.9,
          96423.6,
          97379.2,
          95731.4
         ]
        },
        {
         "line": {
          "color": "green"
         },
         "mode": "lines",
         "showlegend": false,
         "type": "scatter",
         "x": [
          "2025-02-12T00:00:00"
         ],
         "y": [
          97816.3
         ]
        },
        {
         "line": {
          "color": "red"
         },
         "mode": "lines",
         "showlegend": false,
         "type": "scatter",
         "x": [
          "2025-02-13T00:00:00",
          "2025-02-14T00:00:00",
          "2025-02-15T00:00:00",
          "2025-02-16T00:00:00",
          "2025-02-17T00:00:00",
          "2025-02-18T00:00:00"
         ],
         "y": [
          96560.6,
          97445.1,
          97538,
          96067,
          95743.2,
          95622
         ]
        },
        {
         "line": {
          "color": "green"
         },
         "mode": "lines",
         "showlegend": false,
         "type": "scatter",
         "x": [
          "2025-02-19T00:00:00",
          "2025-02-20T00:00:00"
         ],
         "y": [
          96598,
          98252.9
         ]
        },
        {
         "line": {
          "color": "red"
         },
         "mode": "lines",
         "showlegend": false,
         "type": "scatter",
         "x": [
          "2025-02-21T00:00:00",
          "2025-02-22T00:00:00",
          "2025-02-23T00:00:00",
          "2025-02-24T00:00:00",
          "2025-02-25T00:00:00",
          "2025-02-26T00:00:00",
          "2025-02-27T00:00:00"
         ],
         "y": [
          96127.9,
          96503.3,
          96218.4,
          91514.5,
          88639.1,
          84208.5,
          84668.1
         ]
        },
        {
         "line": {
          "color": "green"
         },
         "mode": "lines",
         "showlegend": false,
         "type": "scatter",
         "x": [
          "2025-02-28T00:00:00",
          "2025-03-01T00:00:00",
          "2025-03-02T00:00:00"
         ],
         "y": [
          84299.6,
          86007.7,
          94222.8
         ]
        },
        {
         "line": {
          "color": "red"
         },
         "mode": "lines",
         "showlegend": false,
         "type": "scatter",
         "x": [
          "2025-03-03T00:00:00",
          "2025-03-04T00:00:00",
          "2025-03-05T00:00:00",
          "2025-03-06T00:00:00",
          "2025-03-07T00:00:00",
          "2025-03-08T00:00:00",
          "2025-03-09T00:00:00",
          "2025-03-10T00:00:00",
          "2025-03-11T00:00:00",
          "2025-03-12T00:00:00"
         ],
         "y": [
          86192.7,
          87245.9,
          90566.1,
          89887.8,
          86753.8,
          86184.7,
          80688.8,
          78567.8,
          82896,
          83640.7
         ]
        },
        {
         "line": {
          "color": "green"
         },
         "mode": "lines",
         "showlegend": false,
         "type": "scatter",
         "x": [
          "2025-03-13T00:00:00",
          "2025-03-14T00:00:00",
          "2025-03-15T00:00:00"
         ],
         "y": [
          81085.4,
          83939.8,
          84302.9
         ]
        },
        {
         "line": {
          "color": "red"
         },
         "mode": "lines",
         "showlegend": false,
         "type": "scatter",
         "x": [
          "2025-03-16T00:00:00",
          "2025-03-17T00:00:00"
         ],
         "y": [
          82541.6,
          83962.9
         ]
        },
        {
         "line": {
          "color": "green"
         },
         "mode": "lines",
         "showlegend": false,
         "type": "scatter",
         "x": [
          "2025-03-18T00:00:00",
          "2025-03-19T00:00:00",
          "2025-03-20T00:00:00",
          "2025-03-21T00:00:00",
          "2025-03-22T00:00:00",
          "2025-03-23T00:00:00",
          "2025-03-24T00:00:00"
         ],
         "y": [
          82666.1,
          86809.8,
          84183.6,
          84050.3,
          83804.9,
          86044.2,
          87463.4
         ]
        },
        {
         "line": {
          "color": "black"
         },
         "mode": "lines",
         "showlegend": false,
         "type": "scatter",
         "x": [
          "2025-03-25T00:00:00",
          "2025-03-26T00:00:00"
         ],
         "y": [
          87369.8,
          86873.8
         ]
        },
        {
         "line": {
          "color": "red"
         },
         "mode": "lines",
         "showlegend": false,
         "type": "scatter",
         "x": [
          "2025-03-27T00:00:00",
          "2025-03-28T00:00:00",
          "2025-03-29T00:00:00",
          "2025-03-30T00:00:00"
         ],
         "y": [
          87191.2,
          84380.8,
          82604.7,
          82352.8
         ]
        },
        {
         "line": {
          "color": "black"
         },
         "mode": "lines",
         "showlegend": false,
         "type": "scatter",
         "x": [
          "2025-03-31T00:00:00",
          "2025-04-01T00:00:00",
          "2025-04-02T00:00:00"
         ],
         "y": [
          82517.5,
          85120.9,
          82485.1
         ]
        },
        {
         "line": {
          "color": "red"
         },
         "mode": "lines",
         "showlegend": false,
         "type": "scatter",
         "x": [
          "2025-04-03T00:00:00",
          "2025-04-04T00:00:00",
          "2025-04-05T00:00:00",
          "2025-04-06T00:00:00",
          "2025-04-07T00:00:00"
         ],
         "y": [
          83181.5,
          83861.3,
          83506.1,
          78390,
          79140
         ]
        },
        {
         "line": {
          "color": "black"
         },
         "mode": "lines",
         "showlegend": false,
         "type": "scatter",
         "x": [
          "2025-04-08T00:00:00"
         ],
         "y": [
          76297.9
         ]
        },
        {
         "line": {
          "color": "green"
         },
         "mode": "lines",
         "showlegend": false,
         "type": "scatter",
         "x": [
          "2025-04-09T00:00:00",
          "2025-04-10T00:00:00",
          "2025-04-11T00:00:00",
          "2025-04-12T00:00:00",
          "2025-04-13T00:00:00"
         ],
         "y": [
          82588,
          79560.2,
          83378.3,
          85237.8,
          83713.7
         ]
        },
        {
         "line": {
          "color": "red"
         },
         "mode": "lines",
         "showlegend": false,
         "type": "scatter",
         "x": [
          "2025-04-14T00:00:00"
         ],
         "y": [
          84553.9
         ]
        },
        {
         "line": {
          "color": "green"
         },
         "mode": "lines",
         "showlegend": false,
         "type": "scatter",
         "x": [
          "2025-04-15T00:00:00",
          "2025-04-16T00:00:00",
          "2025-04-17T00:00:00",
          "2025-04-18T00:00:00",
          "2025-04-19T00:00:00",
          "2025-04-20T00:00:00",
          "2025-04-21T00:00:00",
          "2025-04-22T00:00:00",
          "2025-04-23T00:00:00",
          "2025-04-24T00:00:00",
          "2025-04-25T00:00:00",
          "2025-04-26T00:00:00",
          "2025-04-27T00:00:00",
          "2025-04-28T00:00:00",
          "2025-04-29T00:00:00",
          "2025-04-30T00:00:00",
          "2025-05-01T00:00:00",
          "2025-05-02T00:00:00",
          "2025-05-03T00:00:00",
          "2025-05-04T00:00:00",
          "2025-05-05T00:00:00",
          "2025-05-06T00:00:00",
          "2025-05-07T00:00:00",
          "2025-05-08T00:00:00",
          "2025-05-09T00:00:00",
          "2025-05-10T00:00:00"
         ],
         "y": [
          83608.7,
          83990,
          84915,
          84421,
          85046.9,
          85138.8,
          87466,
          93404.9,
          93632.1,
          93931.6,
          94591.8,
          94575.7,
          93697.1,
          94969,
          94200.1,
          94125.1,
          96423.3,
          96831.2,
          95803.3,
          94230.2,
          94696.7,
          96798.9,
          96988.4,
          103228.1,
          102941.9,
          104788.8
         ]
        },
        {
         "line": {
          "color": "red"
         },
         "mode": "lines",
         "showlegend": false,
         "type": "scatter",
         "x": [
          "2025-05-11T00:00:00",
          "2025-05-12T00:00:00"
         ],
         "y": [
          104072.7,
          102739.3
         ]
        },
        {
         "line": {
          "color": "black"
         },
         "mode": "lines",
         "showlegend": false,
         "type": "scatter",
         "x": [
          "2025-05-13T00:00:00",
          "2025-05-14T00:00:00"
         ],
         "y": [
          104082,
          103458.1
         ]
        },
        {
         "line": {
          "color": "red"
         },
         "mode": "lines",
         "showlegend": false,
         "type": "scatter",
         "x": [
          "2025-05-15T00:00:00"
         ],
         "y": [
          103714.5
         ]
        },
        {
         "line": {
          "color": "black"
         },
         "mode": "lines",
         "showlegend": false,
         "type": "scatter",
         "x": [
          "2025-05-16T00:00:00",
          "2025-05-17T00:00:00"
         ],
         "y": [
          103412.2,
          103079.6
         ]
        },
        {
         "line": {
          "color": "green"
         },
         "mode": "lines",
         "showlegend": false,
         "type": "scatter",
         "x": [
          "2025-05-18T00:00:00",
          "2025-05-19T00:00:00",
          "2025-05-20T00:00:00",
          "2025-05-21T00:00:00",
          "2025-05-22T00:00:00"
         ],
         "y": [
          106407.6,
          105531.6,
          106800.1,
          109609.5,
          111662.7
         ]
        },
        {
         "line": {
          "color": "black"
         },
         "mode": "lines",
         "showlegend": false,
         "type": "scatter",
         "x": [
          "2025-05-23T00:00:00"
         ],
         "y": [
          107271.5
         ]
        },
        {
         "line": {
          "color": "red"
         },
         "mode": "lines",
         "showlegend": false,
         "type": "scatter",
         "x": [
          "2025-05-24T00:00:00",
          "2025-05-25T00:00:00",
          "2025-05-26T00:00:00",
          "2025-05-27T00:00:00",
          "2025-05-28T00:00:00",
          "2025-05-29T00:00:00",
          "2025-05-30T00:00:00",
          "2025-05-31T00:00:00",
          "2025-06-01T00:00:00",
          "2025-06-02T00:00:00"
         ],
         "y": [
          107698.9,
          108955.9,
          109386.8,
          108889.3,
          107723.1,
          105539.9,
          103950,
          104544.7,
          105583.3,
          105814.3
         ]
        },
        {
         "line": {
          "color": "black"
         },
         "mode": "lines",
         "showlegend": false,
         "type": "scatter",
         "x": [
          "2025-06-03T00:00:00",
          "2025-06-04T00:00:00",
          "2025-06-05T00:00:00"
         ],
         "y": [
          105330.1,
          104641.8,
          101458.6
         ]
        },
        {
         "line": {
          "color": "green"
         },
         "mode": "lines",
         "showlegend": false,
         "type": "scatter",
         "x": [
          "2025-06-06T00:00:00",
          "2025-06-07T00:00:00",
          "2025-06-08T00:00:00",
          "2025-06-09T00:00:00",
          "2025-06-10T00:00:00"
         ],
         "y": [
          104240,
          105507.5,
          105676.5,
          110227.9,
          110235.4
         ]
        },
        {
         "line": {
          "color": "black"
         },
         "mode": "lines",
         "showlegend": false,
         "type": "scatter",
         "x": [
          "2025-06-11T00:00:00",
          "2025-06-12T00:00:00"
         ],
         "y": [
          108600,
          105609.5
         ]
        },
        {
         "line": {
          "color": "red"
         },
         "mode": "lines",
         "showlegend": false,
         "type": "scatter",
         "x": [
          "2025-06-13T00:00:00"
         ],
         "y": [
          106027.3
         ]
        },
        {
         "line": {
          "color": "black"
         },
         "mode": "lines",
         "showlegend": false,
         "type": "scatter",
         "x": [
          "2025-06-14T00:00:00",
          "2025-06-15T00:00:00",
          "2025-06-16T00:00:00"
         ],
         "y": [
          105359.9,
          105534.6,
          106750.1
         ]
        },
        {
         "line": {
          "color": "red"
         },
         "mode": "lines",
         "showlegend": false,
         "type": "scatter",
         "x": [
          "2025-06-17T00:00:00",
          "2025-06-18T00:00:00"
         ],
         "y": [
          104508,
          104832.8
         ]
        },
        {
         "line": {
          "color": "black"
         },
         "mode": "lines",
         "showlegend": false,
         "type": "scatter",
         "x": [
          "2025-06-19T00:00:00",
          "2025-06-20T00:00:00",
          "2025-06-21T00:00:00",
          "2025-06-22T00:00:00"
         ],
         "y": [
          104607.1,
          103246.1,
          102079.8,
          100904.7
         ]
        },
        {
         "line": {
          "color": "green"
         },
         "mode": "lines",
         "showlegend": false,
         "type": "scatter",
         "x": [
          "2025-06-23T00:00:00",
          "2025-06-24T00:00:00",
          "2025-06-25T00:00:00",
          "2025-06-26T00:00:00",
          "2025-06-27T00:00:00",
          "2025-06-28T00:00:00",
          "2025-06-29T00:00:00",
          "2025-06-30T00:00:00",
          "2025-07-01T00:00:00",
          "2025-07-02T00:00:00",
          "2025-07-03T00:00:00",
          "2025-07-04T00:00:00",
          "2025-07-05T00:00:00",
          "2025-07-06T00:00:00",
          "2025-07-07T00:00:00",
          "2025-07-08T00:00:00",
          "2025-07-09T00:00:00",
          "2025-07-10T00:00:00",
          "2025-07-11T00:00:00",
          "2025-07-12T00:00:00",
          "2025-07-13T00:00:00",
          "2025-07-14T00:00:00",
          "2025-07-15T00:00:00"
         ],
         "y": [
          105290.9,
          106034.9,
          107280,
          106913.7,
          107010.7,
          107241,
          108309.8,
          107087.4,
          105637.9,
          108800,
          109545.2,
          107935.4,
          108153.4,
          109145.8,
          108203.9,
          108873.1,
          111199.9,
          115979.2,
          117500,
          117389.3,
          119038.3,
          119816.5,
          117738.5
         ]
        },
        {
         "line": {
          "color": "red"
         },
         "mode": "lines",
         "showlegend": false,
         "type": "scatter",
         "x": [
          "2025-07-16T00:00:00",
          "2025-07-17T00:00:00"
         ],
         "y": [
          118590.7,
          119176.6
         ]
        },
        {
         "line": {
          "color": "green"
         },
         "mode": "lines",
         "showlegend": false,
         "type": "scatter",
         "x": [
          "2025-07-18T00:00:00",
          "2025-07-19T00:00:00",
          "2025-07-20T00:00:00",
          "2025-07-21T00:00:00",
          "2025-07-22T00:00:00",
          "2025-07-23T00:00:00",
          "2025-07-24T00:00:00",
          "2025-07-25T00:00:00"
         ],
         "y": [
          117896.4,
          117814.4,
          117216,
          117330.2,
          119993.7,
          118713.5,
          118294.3,
          117583.5
         ]
        },
        {
         "line": {
          "color": "red"
         },
         "mode": "lines",
         "showlegend": false,
         "type": "scatter",
         "x": [
          "2025-07-26T00:00:00",
          "2025-07-27T00:00:00",
          "2025-07-28T00:00:00",
          "2025-07-29T00:00:00",
          "2025-07-30T00:00:00",
          "2025-07-31T00:00:00",
          "2025-08-01T00:00:00",
          "2025-08-02T00:00:00"
         ],
         "y": [
          117889.2,
          119423.4,
          118041.4,
          117897,
          117771,
          115697.3,
          113244.8,
          112508.8
         ]
        },
        {
         "line": {
          "color": "black"
         },
         "mode": "lines",
         "showlegend": false,
         "type": "scatter",
         "x": [
          "2025-08-03T00:00:00",
          "2025-08-04T00:00:00"
         ],
         "y": [
          114150.8,
          115002.1
         ]
        },
        {
         "line": {
          "color": "green"
         },
         "mode": "lines",
         "showlegend": false,
         "type": "scatter",
         "x": [
          "2025-08-05T00:00:00",
          "2025-08-06T00:00:00",
          "2025-08-07T00:00:00",
          "2025-08-08T00:00:00",
          "2025-08-09T00:00:00",
          "2025-08-10T00:00:00",
          "2025-08-11T00:00:00"
         ],
         "y": [
          114069.6,
          114941,
          117419.9,
          116628.2,
          116422.1,
          119255.3,
          118641.9
         ]
        },
        {
         "line": {
          "color": "black"
         },
         "mode": "lines",
         "showlegend": false,
         "type": "scatter",
         "x": [
          "2025-08-12T00:00:00",
          "2025-08-13T00:00:00"
         ],
         "y": [
          120081,
          123323.9
         ]
        },
        {
         "line": {
          "color": "red"
         },
         "mode": "lines",
         "showlegend": false,
         "type": "scatter",
         "x": [
          "2025-08-14T00:00:00",
          "2025-08-15T00:00:00",
          "2025-08-16T00:00:00",
          "2025-08-17T00:00:00",
          "2025-08-18T00:00:00",
          "2025-08-19T00:00:00",
          "2025-08-20T00:00:00"
         ],
         "y": [
          118242.2,
          117279.2,
          117329.7,
          117353.8,
          116183.6,
          112824.2,
          114220.5
         ]
        },
        {
         "line": {
          "color": "black"
         },
         "mode": "lines",
         "showlegend": false,
         "type": "scatter",
         "x": [
          "2025-08-21T00:00:00",
          "2025-08-22T00:00:00"
         ],
         "y": [
          112462.2,
          116897.5
         ]
        },
        {
         "line": {
          "color": "red"
         },
         "mode": "lines",
         "showlegend": false,
         "type": "scatter",
         "x": [
          "2025-08-23T00:00:00",
          "2025-08-24T00:00:00",
          "2025-08-25T00:00:00"
         ],
         "y": [
          115377.1,
          113446.3,
          110064
         ]
        },
        {
         "line": {
          "color": "black"
         },
         "mode": "lines",
         "showlegend": false,
         "type": "scatter",
         "x": [
          "2025-08-26T00:00:00"
         ],
         "y": [
          111709.9
         ]
        },
        {
         "line": {
          "color": "green"
         },
         "mode": "lines",
         "showlegend": false,
         "type": "scatter",
         "x": [
          "2025-08-27T00:00:00"
         ],
         "y": [
          111194.9
         ]
        },
        {
         "line": {
          "color": "black"
         },
         "mode": "lines",
         "showlegend": false,
         "type": "scatter",
         "x": [
          "2025-08-28T00:00:00"
         ],
         "y": [
          112507.3
         ]
        },
        {
         "line": {
          "color": "red"
         },
         "mode": "lines",
         "showlegend": false,
         "type": "scatter",
         "x": [
          "2025-08-29T00:00:00",
          "2025-08-30T00:00:00",
          "2025-08-31T00:00:00"
         ],
         "y": [
          108332.4,
          108757.9,
          108208.4
         ]
        }
       ],
       "layout": {
        "height": 600,
        "hovermode": "x unified",
        "template": {
         "data": {
          "bar": [
           {
            "error_x": {
             "color": "#2a3f5f"
            },
            "error_y": {
             "color": "#2a3f5f"
            },
            "marker": {
             "line": {
              "color": "white",
              "width": 0.5
             },
             "pattern": {
              "fillmode": "overlay",
              "size": 10,
              "solidity": 0.2
             }
            },
            "type": "bar"
           }
          ],
          "barpolar": [
           {
            "marker": {
             "line": {
              "color": "white",
              "width": 0.5
             },
             "pattern": {
              "fillmode": "overlay",
              "size": 10,
              "solidity": 0.2
             }
            },
            "type": "barpolar"
           }
          ],
          "carpet": [
           {
            "aaxis": {
             "endlinecolor": "#2a3f5f",
             "gridcolor": "#C8D4E3",
             "linecolor": "#C8D4E3",
             "minorgridcolor": "#C8D4E3",
             "startlinecolor": "#2a3f5f"
            },
            "baxis": {
             "endlinecolor": "#2a3f5f",
             "gridcolor": "#C8D4E3",
             "linecolor": "#C8D4E3",
             "minorgridcolor": "#C8D4E3",
             "startlinecolor": "#2a3f5f"
            },
            "type": "carpet"
           }
          ],
          "choropleth": [
           {
            "colorbar": {
             "outlinewidth": 0,
             "ticks": ""
            },
            "type": "choropleth"
           }
          ],
          "contour": [
           {
            "colorbar": {
             "outlinewidth": 0,
             "ticks": ""
            },
            "colorscale": [
             [
              0,
              "#0d0887"
             ],
             [
              0.1111111111111111,
              "#46039f"
             ],
             [
              0.2222222222222222,
              "#7201a8"
             ],
             [
              0.3333333333333333,
              "#9c179e"
             ],
             [
              0.4444444444444444,
              "#bd3786"
             ],
             [
              0.5555555555555556,
              "#d8576b"
             ],
             [
              0.6666666666666666,
              "#ed7953"
             ],
             [
              0.7777777777777778,
              "#fb9f3a"
             ],
             [
              0.8888888888888888,
              "#fdca26"
             ],
             [
              1,
              "#f0f921"
             ]
            ],
            "type": "contour"
           }
          ],
          "contourcarpet": [
           {
            "colorbar": {
             "outlinewidth": 0,
             "ticks": ""
            },
            "type": "contourcarpet"
           }
          ],
          "heatmap": [
           {
            "colorbar": {
             "outlinewidth": 0,
             "ticks": ""
            },
            "colorscale": [
             [
              0,
              "#0d0887"
             ],
             [
              0.1111111111111111,
              "#46039f"
             ],
             [
              0.2222222222222222,
              "#7201a8"
             ],
             [
              0.3333333333333333,
              "#9c179e"
             ],
             [
              0.4444444444444444,
              "#bd3786"
             ],
             [
              0.5555555555555556,
              "#d8576b"
             ],
             [
              0.6666666666666666,
              "#ed7953"
             ],
             [
              0.7777777777777778,
              "#fb9f3a"
             ],
             [
              0.8888888888888888,
              "#fdca26"
             ],
             [
              1,
              "#f0f921"
             ]
            ],
            "type": "heatmap"
           }
          ],
          "heatmapgl": [
           {
            "colorbar": {
             "outlinewidth": 0,
             "ticks": ""
            },
            "colorscale": [
             [
              0,
              "#0d0887"
             ],
             [
              0.1111111111111111,
              "#46039f"
             ],
             [
              0.2222222222222222,
              "#7201a8"
             ],
             [
              0.3333333333333333,
              "#9c179e"
             ],
             [
              0.4444444444444444,
              "#bd3786"
             ],
             [
              0.5555555555555556,
              "#d8576b"
             ],
             [
              0.6666666666666666,
              "#ed7953"
             ],
             [
              0.7777777777777778,
              "#fb9f3a"
             ],
             [
              0.8888888888888888,
              "#fdca26"
             ],
             [
              1,
              "#f0f921"
             ]
            ],
            "type": "heatmapgl"
           }
          ],
          "histogram": [
           {
            "marker": {
             "pattern": {
              "fillmode": "overlay",
              "size": 10,
              "solidity": 0.2
             }
            },
            "type": "histogram"
           }
          ],
          "histogram2d": [
           {
            "colorbar": {
             "outlinewidth": 0,
             "ticks": ""
            },
            "colorscale": [
             [
              0,
              "#0d0887"
             ],
             [
              0.1111111111111111,
              "#46039f"
             ],
             [
              0.2222222222222222,
              "#7201a8"
             ],
             [
              0.3333333333333333,
              "#9c179e"
             ],
             [
              0.4444444444444444,
              "#bd3786"
             ],
             [
              0.5555555555555556,
              "#d8576b"
             ],
             [
              0.6666666666666666,
              "#ed7953"
             ],
             [
              0.7777777777777778,
              "#fb9f3a"
             ],
             [
              0.8888888888888888,
              "#fdca26"
             ],
             [
              1,
              "#f0f921"
             ]
            ],
            "type": "histogram2d"
           }
          ],
          "histogram2dcontour": [
           {
            "colorbar": {
             "outlinewidth": 0,
             "ticks": ""
            },
            "colorscale": [
             [
              0,
              "#0d0887"
             ],
             [
              0.1111111111111111,
              "#46039f"
             ],
             [
              0.2222222222222222,
              "#7201a8"
             ],
             [
              0.3333333333333333,
              "#9c179e"
             ],
             [
              0.4444444444444444,
              "#bd3786"
             ],
             [
              0.5555555555555556,
              "#d8576b"
             ],
             [
              0.6666666666666666,
              "#ed7953"
             ],
             [
              0.7777777777777778,
              "#fb9f3a"
             ],
             [
              0.8888888888888888,
              "#fdca26"
             ],
             [
              1,
              "#f0f921"
             ]
            ],
            "type": "histogram2dcontour"
           }
          ],
          "mesh3d": [
           {
            "colorbar": {
             "outlinewidth": 0,
             "ticks": ""
            },
            "type": "mesh3d"
           }
          ],
          "parcoords": [
           {
            "line": {
             "colorbar": {
              "outlinewidth": 0,
              "ticks": ""
             }
            },
            "type": "parcoords"
           }
          ],
          "pie": [
           {
            "automargin": true,
            "type": "pie"
           }
          ],
          "scatter": [
           {
            "fillpattern": {
             "fillmode": "overlay",
             "size": 10,
             "solidity": 0.2
            },
            "type": "scatter"
           }
          ],
          "scatter3d": [
           {
            "line": {
             "colorbar": {
              "outlinewidth": 0,
              "ticks": ""
             }
            },
            "marker": {
             "colorbar": {
              "outlinewidth": 0,
              "ticks": ""
             }
            },
            "type": "scatter3d"
           }
          ],
          "scattercarpet": [
           {
            "marker": {
             "colorbar": {
              "outlinewidth": 0,
              "ticks": ""
             }
            },
            "type": "scattercarpet"
           }
          ],
          "scattergeo": [
           {
            "marker": {
             "colorbar": {
              "outlinewidth": 0,
              "ticks": ""
             }
            },
            "type": "scattergeo"
           }
          ],
          "scattergl": [
           {
            "marker": {
             "colorbar": {
              "outlinewidth": 0,
              "ticks": ""
             }
            },
            "type": "scattergl"
           }
          ],
          "scattermapbox": [
           {
            "marker": {
             "colorbar": {
              "outlinewidth": 0,
              "ticks": ""
             }
            },
            "type": "scattermapbox"
           }
          ],
          "scatterpolar": [
           {
            "marker": {
             "colorbar": {
              "outlinewidth": 0,
              "ticks": ""
             }
            },
            "type": "scatterpolar"
           }
          ],
          "scatterpolargl": [
           {
            "marker": {
             "colorbar": {
              "outlinewidth": 0,
              "ticks": ""
             }
            },
            "type": "scatterpolargl"
           }
          ],
          "scatterternary": [
           {
            "marker": {
             "colorbar": {
              "outlinewidth": 0,
              "ticks": ""
             }
            },
            "type": "scatterternary"
           }
          ],
          "surface": [
           {
            "colorbar": {
             "outlinewidth": 0,
             "ticks": ""
            },
            "colorscale": [
             [
              0,
              "#0d0887"
             ],
             [
              0.1111111111111111,
              "#46039f"
             ],
             [
              0.2222222222222222,
              "#7201a8"
             ],
             [
              0.3333333333333333,
              "#9c179e"
             ],
             [
              0.4444444444444444,
              "#bd3786"
             ],
             [
              0.5555555555555556,
              "#d8576b"
             ],
             [
              0.6666666666666666,
              "#ed7953"
             ],
             [
              0.7777777777777778,
              "#fb9f3a"
             ],
             [
              0.8888888888888888,
              "#fdca26"
             ],
             [
              1,
              "#f0f921"
             ]
            ],
            "type": "surface"
           }
          ],
          "table": [
           {
            "cells": {
             "fill": {
              "color": "#EBF0F8"
             },
             "line": {
              "color": "white"
             }
            },
            "header": {
             "fill": {
              "color": "#C8D4E3"
             },
             "line": {
              "color": "white"
             }
            },
            "type": "table"
           }
          ]
         },
         "layout": {
          "annotationdefaults": {
           "arrowcolor": "#2a3f5f",
           "arrowhead": 0,
           "arrowwidth": 1
          },
          "autotypenumbers": "strict",
          "coloraxis": {
           "colorbar": {
            "outlinewidth": 0,
            "ticks": ""
           }
          },
          "colorscale": {
           "diverging": [
            [
             0,
             "#8e0152"
            ],
            [
             0.1,
             "#c51b7d"
            ],
            [
             0.2,
             "#de77ae"
            ],
            [
             0.3,
             "#f1b6da"
            ],
            [
             0.4,
             "#fde0ef"
            ],
            [
             0.5,
             "#f7f7f7"
            ],
            [
             0.6,
             "#e6f5d0"
            ],
            [
             0.7,
             "#b8e186"
            ],
            [
             0.8,
             "#7fbc41"
            ],
            [
             0.9,
             "#4d9221"
            ],
            [
             1,
             "#276419"
            ]
           ],
           "sequential": [
            [
             0,
             "#0d0887"
            ],
            [
             0.1111111111111111,
             "#46039f"
            ],
            [
             0.2222222222222222,
             "#7201a8"
            ],
            [
             0.3333333333333333,
             "#9c179e"
            ],
            [
             0.4444444444444444,
             "#bd3786"
            ],
            [
             0.5555555555555556,
             "#d8576b"
            ],
            [
             0.6666666666666666,
             "#ed7953"
            ],
            [
             0.7777777777777778,
             "#fb9f3a"
            ],
            [
             0.8888888888888888,
             "#fdca26"
            ],
            [
             1,
             "#f0f921"
            ]
           ],
           "sequentialminus": [
            [
             0,
             "#0d0887"
            ],
            [
             0.1111111111111111,
             "#46039f"
            ],
            [
             0.2222222222222222,
             "#7201a8"
            ],
            [
             0.3333333333333333,
             "#9c179e"
            ],
            [
             0.4444444444444444,
             "#bd3786"
            ],
            [
             0.5555555555555556,
             "#d8576b"
            ],
            [
             0.6666666666666666,
             "#ed7953"
            ],
            [
             0.7777777777777778,
             "#fb9f3a"
            ],
            [
             0.8888888888888888,
             "#fdca26"
            ],
            [
             1,
             "#f0f921"
            ]
           ]
          },
          "colorway": [
           "#636efa",
           "#EF553B",
           "#00cc96",
           "#ab63fa",
           "#FFA15A",
           "#19d3f3",
           "#FF6692",
           "#B6E880",
           "#FF97FF",
           "#FECB52"
          ],
          "font": {
           "color": "#2a3f5f"
          },
          "geo": {
           "bgcolor": "white",
           "lakecolor": "white",
           "landcolor": "white",
           "showlakes": true,
           "showland": true,
           "subunitcolor": "#C8D4E3"
          },
          "hoverlabel": {
           "align": "left"
          },
          "hovermode": "closest",
          "mapbox": {
           "style": "light"
          },
          "paper_bgcolor": "white",
          "plot_bgcolor": "white",
          "polar": {
           "angularaxis": {
            "gridcolor": "#EBF0F8",
            "linecolor": "#EBF0F8",
            "ticks": ""
           },
           "bgcolor": "white",
           "radialaxis": {
            "gridcolor": "#EBF0F8",
            "linecolor": "#EBF0F8",
            "ticks": ""
           }
          },
          "scene": {
           "xaxis": {
            "backgroundcolor": "white",
            "gridcolor": "#DFE8F3",
            "gridwidth": 2,
            "linecolor": "#EBF0F8",
            "showbackground": true,
            "ticks": "",
            "zerolinecolor": "#EBF0F8"
           },
           "yaxis": {
            "backgroundcolor": "white",
            "gridcolor": "#DFE8F3",
            "gridwidth": 2,
            "linecolor": "#EBF0F8",
            "showbackground": true,
            "ticks": "",
            "zerolinecolor": "#EBF0F8"
           },
           "zaxis": {
            "backgroundcolor": "white",
            "gridcolor": "#DFE8F3",
            "gridwidth": 2,
            "linecolor": "#EBF0F8",
            "showbackground": true,
            "ticks": "",
            "zerolinecolor": "#EBF0F8"
           }
          },
          "shapedefaults": {
           "line": {
            "color": "#2a3f5f"
           }
          },
          "ternary": {
           "aaxis": {
            "gridcolor": "#DFE8F3",
            "linecolor": "#A2B1C6",
            "ticks": ""
           },
           "baxis": {
            "gridcolor": "#DFE8F3",
            "linecolor": "#A2B1C6",
            "ticks": ""
           },
           "bgcolor": "white",
           "caxis": {
            "gridcolor": "#DFE8F3",
            "linecolor": "#A2B1C6",
            "ticks": ""
           }
          },
          "title": {
           "x": 0.05
          },
          "xaxis": {
           "automargin": true,
           "gridcolor": "#EBF0F8",
           "linecolor": "#EBF0F8",
           "ticks": "",
           "title": {
            "standoff": 15
           },
           "zerolinecolor": "#EBF0F8",
           "zerolinewidth": 2
          },
          "yaxis": {
           "automargin": true,
           "gridcolor": "#EBF0F8",
           "linecolor": "#EBF0F8",
           "ticks": "",
           "title": {
            "standoff": 15
           },
           "zerolinecolor": "#EBF0F8",
           "zerolinewidth": 2
          }
         }
        },
        "title": {
         "text": "WINFUT Close Price"
        },
        "xaxis": {
         "title": {
          "text": "Tempo"
         }
        },
        "yaxis": {
         "title": {
          "text": "Preço"
         }
        }
       }
      }
     },
     "metadata": {},
     "output_type": "display_data"
    }
   ],
   "source": [
    "import plotly.graph_objects as go\n",
    "import numpy as np\n",
    "df.set_index('time',inplace=True)\n",
    "fig = go.Figure()\n",
    "\n",
    "# Inicializar arrays\n",
    "targets = df['target'].values\n",
    "start_idx = 0\n",
    "\n",
    "# Criar segmentos contínuos de cores\n",
    "for i in range(1, len(targets)):\n",
    "    if targets[i] != targets[start_idx]:\n",
    "        # Determinar cor do segmento\n",
    "        color = 'black'  # neutro\n",
    "        if targets[start_idx] == 1:\n",
    "            color = 'green'\n",
    "        elif targets[start_idx] == -1:\n",
    "            color = 'red'\n",
    "        \n",
    "        fig.add_trace(go.Scatter(\n",
    "            x=df.index[start_idx:i],\n",
    "            y=df['close'].iloc[start_idx:i],\n",
    "            mode='lines',\n",
    "            line=dict(color=color),\n",
    "            showlegend=False\n",
    "        ))\n",
    "        start_idx = i\n",
    "\n",
    "# Último segmento\n",
    "color = 'black'\n",
    "if targets[start_idx] == 1:\n",
    "    color = 'green'\n",
    "elif targets[start_idx] == -1:\n",
    "    color = 'red'\n",
    "\n",
    "fig.add_trace(go.Scatter(\n",
    "    x=df.index[start_idx:],\n",
    "    y=df['close'].iloc[start_idx:],\n",
    "    mode='lines',\n",
    "    line=dict(color=color),\n",
    "    showlegend=False\n",
    "))\n",
    "\n",
    "# Layout\n",
    "fig.update_layout(\n",
    "    title=\"WINFUT Close Price\",\n",
    "    xaxis_title=\"Tempo\",\n",
    "    yaxis_title=\"Preço\",\n",
    "    template=\"plotly_white\",\n",
    "    hovermode=\"x unified\",\n",
    "    height=600\n",
    ")\n",
    "\n",
    "fig.show()\n",
    "df.reset_index(inplace=True)"
   ]
  },
  {
   "cell_type": "code",
   "execution_count": 250,
   "id": "662945f6",
   "metadata": {},
   "outputs": [],
   "source": [
    "df.drop(['target_', 'target_1'], axis=1, inplace=True)"
   ]
  },
  {
   "cell_type": "code",
   "execution_count": 251,
   "id": "59afde67",
   "metadata": {},
   "outputs": [],
   "source": [
    "df2 = df.copy()"
   ]
  },
  {
   "cell_type": "markdown",
   "id": "57431c27",
   "metadata": {},
   "source": [
    "## Features"
   ]
  },
  {
   "cell_type": "code",
   "execution_count": 252,
   "id": "b7a1eeeb",
   "metadata": {},
   "outputs": [
    {
     "data": {
      "text/plain": [
       "\"df.drop('peaks', axis=1, inplace=True)\\ndf.drop('troughs', axis=1, inplace=True)\\ndf.drop('pct_peaks', axis=1, inplace=True)\\ndf.drop('pct_troughs', axis=1, inplace=True)\""
      ]
     },
     "execution_count": 252,
     "metadata": {},
     "output_type": "execute_result"
    }
   ],
   "source": [
    "df = df2.copy()\n",
    "'''df.drop('peaks', axis=1, inplace=True)\n",
    "df.drop('troughs', axis=1, inplace=True)\n",
    "df.drop('pct_peaks', axis=1, inplace=True)\n",
    "df.drop('pct_troughs', axis=1, inplace=True)'''"
   ]
  },
  {
   "cell_type": "code",
   "execution_count": 253,
   "id": "7633a548",
   "metadata": {},
   "outputs": [],
   "source": [
    "# AVAT\n",
    "df['return'] = df['close'].pct_change()\n",
    "\n",
    "# Média móvel do volume\n",
    "df['AvgVolume'] = df['volume'].rolling(window=20).mean()\n",
    "\n",
    "# AVAT = Volume atual / Média móvel do volume\n",
    "df['AVAT'] = df['volume'] / df['AvgVolume']"
   ]
  },
  {
   "cell_type": "code",
   "execution_count": 254,
   "id": "9c7a6c70",
   "metadata": {},
   "outputs": [],
   "source": [
    "# GARCH \n",
    "df = calculate_garch_bands_weekly(df)\n",
    "\n",
    "df.drop('Week', axis=1,inplace=True)\n",
    "\n",
    "# (Close - garch mid) / (close - ref_price)\n",
    "df['distance_w'] =  (df.close - df.garch_mid_w) / df.garch_mid_w\n",
    "\n",
    "df['distance_w_17_mean'] = df.distance_w.rolling(17).mean()\n",
    "df['distance_w_72_mean'] = df.distance_w.rolling(72).mean()"
   ]
  },
  {
   "cell_type": "code",
   "execution_count": 255,
   "id": "026e9618",
   "metadata": {},
   "outputs": [],
   "source": [
    "# HURST\n",
    "hurst_windows = [100, 150, 200, 250, 300, 400]\n",
    "\n",
    "# Calculate hurst exponents for given window sizes\n",
    "for i in range(0, len(hurst_windows)):\n",
    "    df = Calculate_Hurst(df, 'close', hurst_windows[i], 'price')"
   ]
  },
  {
   "cell_type": "code",
   "execution_count": 256,
   "id": "92aca8df",
   "metadata": {},
   "outputs": [],
   "source": [
    "df3 = df.copy()"
   ]
  },
  {
   "cell_type": "markdown",
   "id": "d762a4cd",
   "metadata": {},
   "source": [
    "## Modeling"
   ]
  },
  {
   "cell_type": "code",
   "execution_count": 257,
   "id": "3d5a3f93",
   "metadata": {},
   "outputs": [],
   "source": [
    "# === 1. Imports ===\n",
    "import pandas as pd\n",
    "import numpy as np\n",
    "import matplotlib.pyplot as plt\n",
    "import seaborn as sns\n",
    "\n",
    "from imblearn.over_sampling import SMOTE\n",
    "from sklearn.model_selection import train_test_split\n",
    "from sklearn.metrics import classification_report, confusion_matrix\n",
    "\n",
    "import xgboost as xgb"
   ]
  },
  {
   "cell_type": "code",
   "execution_count": 258,
   "id": "1c7f7386",
   "metadata": {},
   "outputs": [],
   "source": [
    "df = df3.copy()\n",
    "#df.set_index('time', inplace=True)"
   ]
  },
  {
   "cell_type": "markdown",
   "id": "5d4cd6c3",
   "metadata": {},
   "source": [
    "#### Division data"
   ]
  },
  {
   "cell_type": "code",
   "execution_count": 259,
   "id": "e02eef60",
   "metadata": {},
   "outputs": [],
   "source": [
    "df = df.iloc[400:]\n",
    "df['target'] = df['target'].replace(-1, 2)\n",
    "\n",
    "#X = df.drop(columns=['target', 'time'], errors='ignore').select_dtypes(include=['number'])\n",
    "#y = df['target']"
   ]
  },
  {
   "cell_type": "code",
   "execution_count": 260,
   "id": "a3e165d1",
   "metadata": {},
   "outputs": [],
   "source": [
    "feature_cols = ['open', 'high', 'low', 'close', 'volume', 'return', 'AvgVolume', 'AVAT', 'Log_Returns',\n",
    "                'reference_price_w', 'weekly_vol_garch', 'upper_garch_1w_2d', 'lower_garch_1w_2d', \n",
    "                'upper_garch_1w_4d', 'lower_garch_1w_4d', 'garch_mid_w', 'distance_w', 'distance_w_17_mean', \n",
    "                'distance_w_72_mean', 'hurst_100', 'hurst_150', 'hurst_200', 'hurst_250', 'hurst_300', 'hurst_400']\n"
   ]
  },
  {
   "cell_type": "code",
   "execution_count": null,
   "id": "084ad1fd",
   "metadata": {},
   "outputs": [],
   "source": [
    "# Division\n",
    "df['time'] = pd.to_datetime(df['time'])\n",
    "\n",
    "# === 2. Split temporal ===\n",
    "train_mask = (df['time'] >= '2000-01-01') & (df['time'] <= '2023-12-31')\n",
    "test_mask  = (df['time'] >= '2024-01-01') & (df['time'] <= '2025-12-31')\n",
    "\n",
    "df_train = df.loc[train_mask].copy().reset_index(drop=True)\n",
    "df_test  = df.loc[test_mask].copy().reset_index(drop=True)\n",
    "\n",
    "# === 3. Features e Target ===\n",
    "X_train = df_train[feature_cols]\n",
    "y_train = df_train['target']\n",
    "\n",
    "X_test  = df_test[feature_cols]\n",
    "y_test  = df_test['target']"
   ]
  },
  {
   "cell_type": "code",
   "execution_count": 262,
   "id": "dfa8a9be",
   "metadata": {},
   "outputs": [
    {
     "data": {
      "image/png": "[encoded data removed]",
      "text/plain": [
       "<Figure size 600x600 with 1 Axes>"
      ]
     },
     "metadata": {},
     "output_type": "display_data"
    }
   ],
   "source": [
    "plt.figure(figsize=(6,6))\n",
    "plt.pie(y_train.value_counts(), labels=y_train.value_counts().index, autopct='%1.1f%%', startangle=90)\n",
    "plt.title(\"Distribuição das Classes (Treino Original)\")\n",
    "plt.show()"
   ]
  },
  {
   "cell_type": "markdown",
   "id": "16006c74",
   "metadata": {},
   "source": [
    "#### XGBoost"
   ]
  },
  {
   "cell_type": "code",
   "execution_count": 263,
   "id": "23f1510f",
   "metadata": {},
   "outputs": [],
   "source": [
    "class_weights = {0: 1, 1: 1, 2: 1}"
   ]
  },
  {
   "cell_type": "code",
   "execution_count": 264,
   "id": "dc17faec",
   "metadata": {},
   "outputs": [
    {
     "name": "stderr",
     "output_type": "stream",
     "text": [
      "c:\\Users\\rodrigo\\AppData\\Local\\Programs\\Python\\Python312\\Lib\\site-packages\\xgboost\\core.py:158: UserWarning:\n",
      "\n",
      "[02:51:57] WARNING: C:\\buildkite-agent\\builds\\buildkite-windows-cpu-autoscaling-group-i-0015a694724fa8361-1\\xgboost\\xgboost-ci-windows\\src\\learner.cc:740: \n",
      "Parameters: { \"use_label_encoder\" } are not used.\n",
      "\n",
      "\n"
     ]
    },
    {
     "name": "stdout",
     "output_type": "stream",
     "text": [
      "=== Relatório de Classificação ===\n",
      "              precision    recall  f1-score   support\n",
      "\n",
      "           0       0.91      0.17      0.29       166\n",
      "           1       0.81      0.49      0.61       644\n",
      "           2       0.52      0.90      0.66       529\n",
      "\n",
      "    accuracy                           0.61      1339\n",
      "   macro avg       0.75      0.52      0.52      1339\n",
      "weighted avg       0.71      0.61      0.59      1339\n",
      "\n"
     ]
    },
    {
     "data": {
      "image/png": "[encoded data removed]",
      "text/plain": [
       "<Figure size 600x400 with 2 Axes>"
      ]
     },
     "metadata": {},
     "output_type": "display_data"
    }
   ],
   "source": [
    "# === 4. Pesos das classes ===\n",
    "classes = np.unique(y_train)\n",
    "\n",
    "# Exemplo de pesos (ajuste conforme necessidade)\n",
    "\n",
    "sample_weights = np.array([class_weights[y] for y in y_train])\n",
    "\n",
    "# === 5. Modelo XGBoost ===\n",
    "model = xgb.XGBClassifier(\n",
    "    objective=\"multi:softmax\",\n",
    "    num_class=3,\n",
    "    eval_metric=\"mlogloss\",\n",
    "    use_label_encoder=False,\n",
    "    n_estimators=300,\n",
    "    learning_rate=0.05,\n",
    "    max_depth=6,\n",
    "    subsample=0.8,\n",
    "    colsample_bytree=0.8,\n",
    "    random_state=42\n",
    ")\n",
    "\n",
    "# Treinar modelo\n",
    "model.fit(X_train, y_train, sample_weight=sample_weights)\n",
    "\n",
    "# Previsões\n",
    "df_test['pred'] = model.predict(X_test)\n",
    "\n",
    "# === 6. Avaliação ===\n",
    "print(\"=== Relatório de Classificação ===\")\n",
    "print(classification_report(df_test['target'], df_test['pred']))\n",
    "\n",
    "cm = confusion_matrix(df_test['target'], df_test['pred'])\n",
    "\n",
    "plt.figure(figsize=(6,4))\n",
    "sns.heatmap(cm, annot=True, fmt=\"d\", cmap=\"Blues\", xticklabels=[0,1,2], yticklabels=[0,1,2])\n",
    "plt.xlabel(\"Previsto\")\n",
    "plt.ylabel(\"Real\")\n",
    "plt.title(\"Matriz de Confusão - XGBoost\")\n",
    "plt.show()"
   ]
  },
  {
   "cell_type": "code",
   "execution_count": 265,
   "id": "b2da89e3",
   "metadata": {},
   "outputs": [
    {
     "data": {
      "image/png": "[encoded data removed]",
      "text/plain": [
       "<Figure size 1200x600 with 1 Axes>"
      ]
     },
     "metadata": {},
     "output_type": "display_data"
    },
    {
     "name": "stdout",
     "output_type": "stream",
     "text": [
      "Retorno total da estratégia: 168.32%\n",
      "Sharpe ratio aproximado: 0.64\n",
      "Taxa de acerto (dias positivos): 49.37%\n"
     ]
    }
   ],
   "source": [
    "import matplotlib.pyplot as plt\n",
    "import numpy as np\n",
    "\n",
    "# Garantir que preços estão ordenados por tempo\n",
    "df_test = df_test.sort_values('time').reset_index(drop=True)\n",
    "\n",
    "# Calcular retornos do ativo\n",
    "df_test['returns'] = df_test['close'].pct_change()\n",
    "\n",
    "# Definir posição da estratégia\n",
    "df_test['position'] = 0\n",
    "df_test.loc[df_test['pred'] == 1, 'position'] = 1   # Long\n",
    "df_test.loc[df_test['pred'] == 2, 'position'] = -1  # Short\n",
    "\n",
    "# Evitar lookahead bias (shift para só operar no próximo dia)\n",
    "df_test['position'] = df_test['position'].shift(1).fillna(0)\n",
    "\n",
    "# Retorno da estratégia\n",
    "df_test['strategy_return'] = df_test['position'] * df_test['returns']\n",
    "\n",
    "# Retornos acumulados\n",
    "df_test['cum_asset'] = (1 + df_test['returns']).cumprod()\n",
    "df_test['cum_strategy'] = (1 + df_test['strategy_return']).cumprod()\n",
    "\n",
    "# === Plot Backtest ===\n",
    "plt.figure(figsize=(12,6))\n",
    "plt.plot(df_test['time'], df_test['cum_asset'], label='Buy & Hold', color='black')\n",
    "plt.plot(df_test['time'], df_test['cum_strategy'], label='Estratégia (Long & Short)', color='blue')\n",
    "plt.title(\"Backtest Estratégia XGBoost - Teste\")\n",
    "plt.xlabel(\"Tempo\")\n",
    "plt.ylabel(\"Retorno Acumulado\")\n",
    "plt.legend()\n",
    "plt.show()\n",
    "\n",
    "# === Métricas ===\n",
    "total_return = df_test['cum_strategy'].iloc[-1] - 1\n",
    "sharpe_ratio = df_test['strategy_return'].mean() / df_test['strategy_return'].std() * np.sqrt(252)\n",
    "hit_ratio = (df_test['strategy_return'] > 0).mean()\n",
    "\n",
    "print(f\"Retorno total da estratégia: {total_return:.2%}\")\n",
    "print(f\"Sharpe ratio aproximado: {sharpe_ratio:.2f}\")\n",
    "print(f\"Taxa de acerto (dias positivos): {hit_ratio:.2%}\")\n"
   ]
  },
  {
   "cell_type": "code",
   "execution_count": 266,
   "id": "ab8a6a5b",
   "metadata": {},
   "outputs": [
    {
     "data": {
      "image/png": "[encoded data removed]",
      "text/plain": [
       "<Figure size 1200x600 with 1 Axes>"
      ]
     },
     "metadata": {},
     "output_type": "display_data"
    },
    {
     "name": "stdout",
     "output_type": "stream",
     "text": [
      "Retorno total da estratégia: 225.69%\n",
      "Sharpe ratio aproximado: 1.02\n",
      "Taxa de acerto (dias positivos): 14.64%\n"
     ]
    }
   ],
   "source": [
    "import matplotlib.pyplot as plt\n",
    "import numpy as np\n",
    "import pandas as pd\n",
    "\n",
    "# Garantir ordenação temporal\n",
    "df_test = df_test.sort_values('time').reset_index(drop=True)\n",
    "\n",
    "# Calcular retorno diário do ativo\n",
    "df_test['returns'] = df_test['close'].pct_change()\n",
    "\n",
    "# Definir posição da estratégia (Long Only: pred == 1)\n",
    "df_test['position'] = 0\n",
    "df_test.loc[df_test['pred'] == 1, 'position'] = 1   # Long\n",
    "# Evitar lookahead bias\n",
    "df_test['position'] = df_test['position'].shift(1).fillna(0)\n",
    "\n",
    "# Retorno da estratégia\n",
    "df_test['strategy_return'] = df_test['position'] * df_test['returns']\n",
    "\n",
    "# Retornos acumulados\n",
    "df_test['cum_asset'] = (1 + df_test['returns']).cumprod()\n",
    "df_test['cum_strategy'] = (1 + df_test['strategy_return']).cumprod()\n",
    "\n",
    "# Plot do backtest\n",
    "plt.figure(figsize=(12,6))\n",
    "plt.plot(df_test['time'], df_test['cum_asset'], label='Buy & Hold', color='black')\n",
    "plt.plot(df_test['time'], df_test['cum_strategy'], label='Estratégia XGBoost (Long Only)', color='blue')\n",
    "plt.title(\"Backtest Estratégia XGBoost - Teste (Somente Long)\")\n",
    "plt.xlabel(\"Tempo\")\n",
    "plt.ylabel(\"Retorno Acumulado\")\n",
    "plt.legend()\n",
    "plt.show()\n",
    "\n",
    "# Métricas de performance\n",
    "total_return = df_test['cum_strategy'].iloc[-1] - 1\n",
    "sharpe_ratio = df_test['strategy_return'].mean() / df_test['strategy_return'].std() * np.sqrt(252)\n",
    "hit_ratio = (df_test['strategy_return'] > 0).mean()\n",
    "\n",
    "print(f\"Retorno total da estratégia: {total_return:.2%}\")\n",
    "print(f\"Sharpe ratio aproximado: {sharpe_ratio:.2f}\")\n",
    "print(f\"Taxa de acerto (dias positivos): {hit_ratio:.2%}\")\n"
   ]
  },
  {
   "cell_type": "code",
   "execution_count": 267,
   "id": "370fbaa7",
   "metadata": {},
   "outputs": [
    {
     "data": {
      "image/png": "[encoded data removed]",
      "text/plain": [
       "<Figure size 1200x600 with 1 Axes>"
      ]
     },
     "metadata": {},
     "output_type": "display_data"
    },
    {
     "name": "stdout",
     "output_type": "stream",
     "text": [
      "Retorno total da estratégia: -17.62%\n",
      "Sharpe ratio aproximado: 0.08\n",
      "Taxa de acerto (dias positivos): 34.73%\n"
     ]
    }
   ],
   "source": [
    "import matplotlib.pyplot as plt\n",
    "import numpy as np\n",
    "import pandas as pd\n",
    "\n",
    "# Garantir ordenação temporal\n",
    "df_test = df_test.sort_values('time').reset_index(drop=True)\n",
    "\n",
    "# Calcular retorno diário do ativo\n",
    "df_test['returns'] = df_test['close'].pct_change()\n",
    "\n",
    "# Definir posição da estratégia (Short Only: pred == 2)\n",
    "df_test['position'] = 0\n",
    "df_test.loc[df_test['pred'] == 2, 'position'] = -1   # Short\n",
    "# Evitar lookahead bias\n",
    "df_test['position'] = df_test['position'].shift(1).fillna(0)\n",
    "\n",
    "# Retorno da estratégia\n",
    "df_test['strategy_return'] = df_test['position'] * df_test['returns']\n",
    "\n",
    "# Retornos acumulados\n",
    "df_test['cum_asset'] = (1 + df_test['returns']).cumprod()\n",
    "df_test['cum_strategy'] = (1 + df_test['strategy_return']).cumprod()\n",
    "\n",
    "# Plot do backtest\n",
    "plt.figure(figsize=(12,6))\n",
    "plt.plot(df_test['time'], df_test['cum_asset'], label='Buy & Hold', color='black')\n",
    "plt.plot(df_test['time'], df_test['cum_strategy'], label='Estratégia XGBoost (Short Only)', color='red')\n",
    "plt.title(\"Backtest Estratégia XGBoost - Teste (Somente Short)\")\n",
    "plt.xlabel(\"Tempo\")\n",
    "plt.ylabel(\"Retorno Acumulado\")\n",
    "plt.legend()\n",
    "plt.show()\n",
    "\n",
    "# Métricas de performance\n",
    "total_return = df_test['cum_strategy'].iloc[-1] - 1\n",
    "sharpe_ratio = df_test['strategy_return'].mean() / df_test['strategy_return'].std() * np.sqrt(252)\n",
    "hit_ratio = (df_test['strategy_return'] > 0).mean()\n",
    "\n",
    "print(f\"Retorno total da estratégia: {total_return:.2%}\")\n",
    "print(f\"Sharpe ratio aproximado: {sharpe_ratio:.2f}\")\n",
    "print(f\"Taxa de acerto (dias positivos): {hit_ratio:.2%}\")\n"
   ]
  },
  {
   "cell_type": "code",
   "execution_count": 268,
   "id": "fe035b72",
   "metadata": {},
   "outputs": [],
   "source": [
    "class_weights = {0: 1, 1: 1, 2: 1}"
   ]
  },
  {
   "cell_type": "code",
   "execution_count": 269,
   "id": "6ec093bd",
   "metadata": {},
   "outputs": [
    {
     "name": "stderr",
     "output_type": "stream",
     "text": [
      "c:\\Users\\rodrigo\\AppData\\Local\\Programs\\Python\\Python312\\Lib\\site-packages\\xgboost\\core.py:158: UserWarning:\n",
      "\n",
      "[02:51:58] WARNING: C:\\buildkite-agent\\builds\\buildkite-windows-cpu-autoscaling-group-i-0015a694724fa8361-1\\xgboost\\xgboost-ci-windows\\src\\learner.cc:740: \n",
      "Parameters: { \"scale_pos_weight\", \"use_label_encoder\" } are not used.\n",
      "\n",
      "\n"
     ]
    },
    {
     "name": "stdout",
     "output_type": "stream",
     "text": [
      "=== Relatório de Classificação ===\n",
      "              precision    recall  f1-score   support\n",
      "\n",
      "           0       0.90      0.16      0.28       166\n",
      "           1       0.81      0.53      0.64       644\n",
      "           2       0.53      0.89      0.67       529\n",
      "\n",
      "    accuracy                           0.63      1339\n",
      "   macro avg       0.75      0.53      0.53      1339\n",
      "weighted avg       0.71      0.63      0.61      1339\n",
      "\n"
     ]
    },
    {
     "data": {
      "image/png": "[encoded data removed]",
      "text/plain": [
       "<Figure size 600x400 with 2 Axes>"
      ]
     },
     "metadata": {},
     "output_type": "display_data"
    }
   ],
   "source": [
    "import xgboost as xgb\n",
    "from sklearn.metrics import classification_report, confusion_matrix\n",
    "import matplotlib.pyplot as plt\n",
    "import seaborn as sns\n",
    "import numpy as np\n",
    "\n",
    "# Classes únicas\n",
    "classes = np.unique(y_train)\n",
    "\n",
    "# Pesos manuais\n",
    "sample_weights = np.array([class_weights[y] for y in y_train])\n",
    "\n",
    "# Criar modelo XGBoost com hiperparâmetros adicionais\n",
    "model = xgb.XGBClassifier(\n",
    "    objective=\"multi:softmax\",\n",
    "    num_class=3,\n",
    "    eval_metric=\"mlogloss\",\n",
    "    use_label_encoder=False,\n",
    "    n_estimators=200,\n",
    "    learning_rate=0.05,\n",
    "    max_depth=6,\n",
    "    min_child_weight=10,\n",
    "    gamma=0,\n",
    "    subsample=0.8,\n",
    "    colsample_bytree=0.8,\n",
    "    scale_pos_weight=1,\n",
    "    reg_alpha=0.1,\n",
    "    reg_lambda=0.01,\n",
    "    random_state=42\n",
    ")\n",
    "\n",
    "# Treinar modelo\n",
    "model.fit(X_train, y_train, sample_weight=sample_weights)\n",
    "\n",
    "# Prever no teste\n",
    "y_pred = model.predict(X_test)\n",
    "\n",
    "# Adicionar previsões no df_test\n",
    "df_test['pred'] = y_pred\n",
    "\n",
    "# === Avaliação ===\n",
    "print(\"=== Relatório de Classificação ===\")\n",
    "print(classification_report(y_test, y_pred))\n",
    "\n",
    "# Matriz de confusão\n",
    "cm = confusion_matrix(y_test, y_pred)\n",
    "\n",
    "plt.figure(figsize=(6,4))\n",
    "sns.heatmap(cm, annot=True, fmt=\"d\", cmap=\"Blues\", xticklabels=[0,1,2], yticklabels=[0,1,2])\n",
    "plt.xlabel(\"Previsto\")\n",
    "plt.ylabel(\"Real\")\n",
    "plt.title(\"Matriz de Confusão - XGBoost\")\n",
    "plt.show()\n"
   ]
  },
  {
   "cell_type": "code",
   "execution_count": 270,
   "id": "4122927b",
   "metadata": {},
   "outputs": [
    {
     "data": {
      "image/png": "[encoded data removed]",
      "text/plain": [
       "<Figure size 1200x600 with 1 Axes>"
      ]
     },
     "metadata": {},
     "output_type": "display_data"
    },
    {
     "name": "stdout",
     "output_type": "stream",
     "text": [
      "Retorno total da estratégia: 176.28%\n",
      "Sharpe ratio aproximado: 0.66\n",
      "Taxa de acerto: 50.26%\n"
     ]
    }
   ],
   "source": [
    "import matplotlib.pyplot as plt\n",
    "import numpy as np\n",
    "\n",
    "# Garantir que preços estão ordenados por tempo\n",
    "df_test = df_test.sort_values('time').reset_index(drop=True)\n",
    "\n",
    "# Calcular retornos do ativo\n",
    "df_test['returns'] = df_test['close'].pct_change()\n",
    "\n",
    "# Definir posição da estratégia\n",
    "df_test['position'] = 0\n",
    "df_test.loc[df_test['pred'] == 1, 'position'] = 1   # Long\n",
    "df_test.loc[df_test['pred'] == 2, 'position'] = -1  # Short\n",
    "\n",
    "# Evitar lookahead bias (shift para só operar no próximo dia)\n",
    "df_test['position'] = df_test['position'].shift(1).fillna(0)\n",
    "\n",
    "# Retorno da estratégia\n",
    "df_test['strategy_return'] = df_test['position'] * df_test['returns']\n",
    "\n",
    "# Retornos acumulados\n",
    "df_test['cum_asset'] = (1 + df_test['returns']).cumprod()\n",
    "df_test['cum_strategy'] = (1 + df_test['strategy_return']).cumprod()\n",
    "\n",
    "# === Plot Backtest ===\n",
    "plt.figure(figsize=(12,6))\n",
    "plt.plot(df_test['time'], df_test['cum_asset'], label='Buy & Hold', color='black')\n",
    "plt.plot(df_test['time'], df_test['cum_strategy'], label='Estratégia (Long & Short)', color='blue')\n",
    "plt.title(\"Backtest Estratégia XGBoost - Teste\")\n",
    "plt.xlabel(\"Tempo\")\n",
    "plt.ylabel(\"Retorno Acumulado\")\n",
    "plt.legend()\n",
    "plt.show()\n",
    "\n",
    "# === Métricas ===\n",
    "total_return = df_test['cum_strategy'].iloc[-1] - 1\n",
    "sharpe_ratio = df_test['strategy_return'].mean() / df_test['strategy_return'].std() * np.sqrt(252)\n",
    "hit_ratio = (df_test['strategy_return'] > 0).mean()\n",
    "\n",
    "print(f\"Retorno total da estratégia: {total_return:.2%}\")\n",
    "print(f\"Sharpe ratio aproximado: {sharpe_ratio:.2f}\")\n",
    "print(f\"Taxa de acerto: {hit_ratio:.2%}\")\n"
   ]
  },
  {
   "cell_type": "code",
   "execution_count": 271,
   "id": "76e20058",
   "metadata": {},
   "outputs": [
    {
     "data": {
      "image/png": "[encoded data removed]",
      "text/plain": [
       "<Figure size 1200x600 with 1 Axes>"
      ]
     },
     "metadata": {},
     "output_type": "display_data"
    },
    {
     "name": "stdout",
     "output_type": "stream",
     "text": [
      "Retorno total da estratégia: 227.88%\n",
      "Sharpe ratio aproximado: 1.00\n",
      "Taxa de acerto: 16.36%\n"
     ]
    }
   ],
   "source": [
    "import matplotlib.pyplot as plt\n",
    "import numpy as np\n",
    "import pandas as pd\n",
    "\n",
    "# Garantir ordenação temporal\n",
    "df_test = df_test.sort_values('time').reset_index(drop=True)\n",
    "\n",
    "# Calcular retorno diário do ativo\n",
    "df_test['returns'] = df_test['close'].pct_change()\n",
    "\n",
    "# Definir posição da estratégia (Long Only: pred == 1)\n",
    "df_test['position'] = 0\n",
    "df_test.loc[df_test['pred'] == 1, 'position'] = 1   # Long\n",
    "# Evitar lookahead bias\n",
    "df_test['position'] = df_test['position'].shift(1).fillna(0)\n",
    "\n",
    "# Retorno da estratégia\n",
    "df_test['strategy_return'] = df_test['position'] * df_test['returns']\n",
    "\n",
    "# Retornos acumulados\n",
    "df_test['cum_asset'] = (1 + df_test['returns']).cumprod()\n",
    "df_test['cum_strategy'] = (1 + df_test['strategy_return']).cumprod()\n",
    "\n",
    "# Plot do backtest\n",
    "plt.figure(figsize=(12,6))\n",
    "plt.plot(df_test['time'], df_test['cum_asset'], label='Buy & Hold', color='black')\n",
    "plt.plot(df_test['time'], df_test['cum_strategy'], label='Estratégia XGBoost (Long Only)', color='blue')\n",
    "plt.title(\"Backtest Estratégia XGBoost - Teste (Somente Long)\")\n",
    "plt.xlabel(\"Tempo\")\n",
    "plt.ylabel(\"Retorno Acumulado\")\n",
    "plt.legend()\n",
    "plt.show()\n",
    "\n",
    "# Métricas de performance\n",
    "total_return = df_test['cum_strategy'].iloc[-1] - 1\n",
    "sharpe_ratio = df_test['strategy_return'].mean() / df_test['strategy_return'].std() * np.sqrt(252)\n",
    "hit_ratio = (df_test['strategy_return'] > 0).mean()\n",
    "\n",
    "print(f\"Retorno total da estratégia: {total_return:.2%}\")\n",
    "print(f\"Sharpe ratio aproximado: {sharpe_ratio:.2f}\")\n",
    "print(f\"Taxa de acerto: {hit_ratio:.2%}\")\n"
   ]
  },
  {
   "cell_type": "code",
   "execution_count": 272,
   "id": "2fd944b2",
   "metadata": {},
   "outputs": [
    {
     "data": {
      "image/png": "[encoded data removed]",
      "text/plain": [
       "<Figure size 1200x600 with 1 Axes>"
      ]
     },
     "metadata": {},
     "output_type": "display_data"
    },
    {
     "name": "stdout",
     "output_type": "stream",
     "text": [
      "Retorno total da estratégia: -15.74%\n",
      "Sharpe ratio aproximado: 0.08\n",
      "Taxa de acerto: 33.91%\n"
     ]
    }
   ],
   "source": [
    "import matplotlib.pyplot as plt\n",
    "import numpy as np\n",
    "import pandas as pd\n",
    "\n",
    "# Garantir ordenação temporal\n",
    "df_test = df_test.sort_values('time').reset_index(drop=True)\n",
    "\n",
    "# Calcular retorno diário do ativo\n",
    "df_test['returns'] = df_test['close'].pct_change()\n",
    "\n",
    "# Definir posição da estratégia (Short Only: pred == 2)\n",
    "df_test['position'] = 0\n",
    "df_test.loc[df_test['pred'] == 2, 'position'] = -1   # Short\n",
    "# Evitar lookahead bias\n",
    "df_test['position'] = df_test['position'].shift(1).fillna(0)\n",
    "\n",
    "# Retorno da estratégia\n",
    "df_test['strategy_return'] = df_test['position'] * df_test['returns']\n",
    "\n",
    "# Retornos acumulados\n",
    "df_test['cum_asset'] = (1 + df_test['returns']).cumprod()\n",
    "df_test['cum_strategy'] = (1 + df_test['strategy_return']).cumprod()\n",
    "\n",
    "# Plot do backtest\n",
    "plt.figure(figsize=(12,6))\n",
    "plt.plot(df_test['time'], df_test['cum_asset'], label='Buy & Hold', color='black')\n",
    "plt.plot(df_test['time'], df_test['cum_strategy'], label='Estratégia XGBoost (Short Only)', color='red')\n",
    "plt.title(\"Backtest Estratégia XGBoost - Teste (Somente Short)\")\n",
    "plt.xlabel(\"Tempo\")\n",
    "plt.ylabel(\"Retorno Acumulado\")\n",
    "plt.legend()\n",
    "plt.show()\n",
    "\n",
    "# Métricas de performance\n",
    "total_return = df_test['cum_strategy'].iloc[-1] - 1\n",
    "sharpe_ratio = df_test['strategy_return'].mean() / df_test['strategy_return'].std() * np.sqrt(252)\n",
    "hit_ratio = (df_test['strategy_return'] > 0).mean()\n",
    "\n",
    "print(f\"Retorno total da estratégia: {total_return:.2%}\")\n",
    "print(f\"Sharpe ratio aproximado: {sharpe_ratio:.2f}\")\n",
    "print(f\"Taxa de acerto: {hit_ratio:.2%}\")\n"
   ]
  }
 ],
 "metadata": {
  "kernelspec": {
   "display_name": "Python 3",
   "language": "python",
   "name": "python3"
  },
  "language_info": {
   "codemirror_mode": {
    "name": "ipython",
    "version": 3
   },
   "file_extension": ".py",
   "mimetype": "text/x-python",
   "name": "python",
   "nbconvert_exporter": "python",
   "pygments_lexer": "ipython3",
   "version": "3.12.5"
  }
 },
 "nbformat": 4,
 "nbformat_minor": 5
}
